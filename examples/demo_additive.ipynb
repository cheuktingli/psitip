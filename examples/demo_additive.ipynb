{
 "cells": [
  {
   "cell_type": "markdown",
   "metadata": {},
   "source": [
    "## Additive Combinatorics Demo\n",
    "\n",
    "Author: Cheuk Ting Li  "
   ]
  },
  {
   "cell_type": "code",
   "execution_count": 2,
   "metadata": {},
   "outputs": [],
   "source": [
    "from psitip import *\n",
    "PsiOpts.setting(solver = \"pyomo.glpk\")     # Set linear programming solver\n",
    "PsiOpts.setting(repr_latex = True)         # Turn on Jupyter Notebook LaTeX display\n",
    "PsiOpts.setting(venn_latex = True)         # Turn on LaTeX in diagrams\n",
    "PsiOpts.setting(proof_note_color = \"blue\") # Reasons in proofs are blue\n",
    "PsiOpts.setting(solve_display_reg = True)  # Display claims in solve commands\n",
    "\n",
    "X, Y, Z, W = rv(\"X, Y, Z, W\", alg=\"group\") # Group-valued random variables\n",
    "# Other valid choices are \"semigroup\", \"abelian\", \"torsionfree\" and \"real\""
   ]
  },
  {
   "cell_type": "code",
   "execution_count": 2,
   "metadata": {},
   "outputs": [
    {
     "data": {
      "text/latex": [
       "$\\begin{align*}\n",
       "& \\begin{array}{l}\n",
       "\\begin{array}{l}\n",
       "\\displaystyle X {\\perp\\!\\!\\perp} Z\\\\\n",
       "\\displaystyle \\Rightarrow \\; H(Z)+I(X; X Z) = H(X Z)\\\\\n",
       "\\end{array}\\;\\mathrm{is}\\;\\mathrm{True}\\\\\n",
       "\\end{array}\\\\\n",
       "\\\\\n",
       "&1.\\;\\text{Steps: }\\\\\n",
       "&H(Z)\\\\\n",
       "&= H(Z|X)\\;\\;\\;{\\color{blue}{\\left(\\because\\, Z {\\perp\\!\\!\\perp} X\\right)}}\\\\\n",
       "&= I(X Z; Z|X)\\;\\;\\;{\\color{blue}{\\left(\\because\\, H(Z|X Z, X) = 0\\right)}}\\\\\n",
       "&= H(X Z|X)\\;\\;\\;{\\color{blue}{\\left(\\because\\, H(X Z|X, Z) = 0\\right)}}\\\\\n",
       "\\\\\n",
       "&2.\\;\\text{Steps: }\\\\\n",
       "&H(X Z|X)\\\\\n",
       "&= I(X Z; Z|X)\\;\\;\\;{\\color{blue}{\\left(\\because\\, H(X Z|X, Z) = 0\\right)}}\\\\\n",
       "&\\le H(Z|X)\\\\\n",
       "&= H(Z)\\;\\;\\;{\\color{blue}{\\left(\\because\\, Z {\\perp\\!\\!\\perp} X\\right)}}\\\\\n",
       "\\end{align*}\n",
       "$"
      ],
      "text/plain": [
       "((  indep(X, Z)  )\n",
       ">> (  H(Z)+I(X&X*Z) == H(X*Z)  )) is True\n",
       "\n",
       "\n",
       "1. Steps: \n",
       "H(Z)\n",
       "= H(Z|X)   (since indep(Z, X) )\n",
       "= I(X*Z&Z|X)   (since H(Z|X*Z+X) == 0 )\n",
       "= H(X*Z|X)   (since H(X*Z|X+Z) == 0 )\n",
       "\n",
       "2. Steps: \n",
       "H(X*Z|X)\n",
       "= I(X*Z&Z|X)   (since H(X*Z|X+Z) == 0 )\n",
       "<= H(Z|X)\n",
       "= H(Z)   (since indep(Z, X) )"
      ]
     },
     "execution_count": 2,
     "metadata": {},
     "output_type": "execute_result"
    }
   ],
   "source": [
    "# Capacity of additive noise channel\n",
    "(indep(X, Z) >> (I(X & X*Z) == H(X*Z) - H(Z))).solve(full=True)"
   ]
  },
  {
   "cell_type": "code",
   "execution_count": 8,
   "metadata": {},
   "outputs": [
    {
     "data": {
      "text/latex": [
       "$\\left\\{\\begin{array}{l}\n",
       "  H(X Y) \\le H(X Y Z),\\\\\n",
       "  H(Y Z) \\le H(X Y Z),\\\\\n",
       "  H(X Y Z)+H(Y) \\le H(X Y)+H(Y Z)\\\\\n",
       "\\end{array} \\right\\}$"
      ],
      "text/plain": [
       "( ( H(X*Y) <= H(X*Y*Z) )\n",
       " &( H(Y*Z) <= H(X*Y*Z) )\n",
       " &( H(X*Y*Z)+H(Y) <= H(X*Y)+H(Y*Z) ) )"
      ]
     },
     "execution_count": 8,
     "metadata": {},
     "output_type": "execute_result"
    }
   ],
   "source": [
    "# Entropy of sum is submodular [Madiman 2008]\n",
    "# The inequality is automatically discovered by the program\n",
    "indep(X, Y, Z).discover([H(Y), H(X*Y), H(Y*Z), H(X*Y*Z)])"
   ]
  },
  {
   "cell_type": "code",
   "execution_count": 9,
   "metadata": {},
   "outputs": [
    {
     "data": {
      "text/latex": [
       "$\\begin{align*}\n",
       "& \\begin{array}{l}\n",
       "\\begin{array}{l}\n",
       "\\displaystyle X {\\perp\\!\\!\\perp} Y {\\perp\\!\\!\\perp} Z\\\\\n",
       "\\displaystyle \\Rightarrow \\; H(X Y Z)+H(Y) \\le H(X Y)+H(Y Z)\\\\\n",
       "\\end{array}\\;\\mathrm{is}\\;\\mathrm{True}\\\\\n",
       "\\end{array}\\\\\n",
       "\\\\\n",
       "&H(X Y Z)+H(Y)\\\\\n",
       "&= H(X Y Z)+H(Y|Z)\\;\\;\\;{\\color{blue}{\\left(\\because\\, Z {\\perp\\!\\!\\perp} Y\\right)}}\\\\\n",
       "&= H(X Y Z)+I(Y; Y Z|Z)\\;\\;\\;{\\color{blue}{\\left(\\because\\, H(Y|Y Z, Z) = 0\\right)}}\\\\\n",
       "&= H(X Y Z)+H(Y Z|Z)\\;\\;\\;{\\color{blue}{\\left(\\because\\, H(Y Z|Y, Z) = 0\\right)}}\\\\\n",
       "&\\le I(X Y Z; Y Z|Z)+H(X Y Z, Y Z)\\\\\n",
       "&= H(Y Z)+H(X Y Z|Z)\\;\\;\\;{\\color{blue}{\\left(\\because\\, X Y Z \\leftrightarrow Y Z \\leftrightarrow Z\\right)}}\\\\\n",
       "&= H(Y Z)+I(X Y; X Y Z|Z)\\;\\;\\;{\\color{blue}{\\left(\\because\\, H(X Y Z|X Y, Z) = 0\\right)}}\\\\\n",
       "&\\le H(Y Z)+H(X Y|Z)\\\\\n",
       "&= H(X Y)+H(Y Z)\\;\\;\\;{\\color{blue}{\\left(\\because\\, Z {\\perp\\!\\!\\perp} X Y\\right)}}\\\\\n",
       "\\end{align*}\n",
       "$"
      ],
      "text/plain": [
       "((  indep(X, Y, Z)  )\n",
       ">> (  H(X*Y*Z)+H(Y) <= H(X*Y)+H(Y*Z)  )) is True\n",
       "\n",
       "\n",
       "H(X*Y*Z)+H(Y)\n",
       "= H(X*Y*Z)+H(Y|Z)   (since indep(Z, Y) )\n",
       "= H(X*Y*Z)+I(Y&Y*Z|Z)   (since H(Y|Y*Z+Z) == 0 )\n",
       "= H(X*Y*Z)+H(Y*Z|Z)   (since H(Y*Z|Y+Z) == 0 )\n",
       "<= I(X*Y*Z&Y*Z|Z)+H(X*Y*Z+Y*Z)\n",
       "= H(Y*Z)+H(X*Y*Z|Z)   (since markov(X*Y*Z, Y*Z, Z) )\n",
       "= H(Y*Z)+I(X*Y&X*Y*Z|Z)   (since H(X*Y*Z|X*Y+Z) == 0 )\n",
       "<= H(Y*Z)+H(X*Y|Z)\n",
       "= H(X*Y)+H(Y*Z)   (since indep(Z, X*Y) )"
      ]
     },
     "execution_count": 9,
     "metadata": {},
     "output_type": "execute_result"
    }
   ],
   "source": [
    "# Output proof\n",
    "(indep(X, Y, Z) >> (H(X*Y*Z) + H(Y) <= H(X*Y) + H(Y*Z))).solve(full=True)"
   ]
  },
  {
   "cell_type": "code",
   "execution_count": 3,
   "metadata": {},
   "outputs": [
    {
     "data": {
      "text/latex": [
       "$\\left\\{\\begin{array}{l}\n",
       "  H(X) \\le H(X Y^{-1}),\\\\\n",
       "  H(X) \\le H(X Z^{-1}),\\\\\n",
       "  H(Y) \\le H(X Y^{-1}),\\\\\n",
       "  H(Y) \\le H(Y Z^{-1}),\\\\\n",
       "  H(Z) \\le H(X Z^{-1}),\\\\\n",
       "  H(Z) \\le H(Y Z^{-1}),\\\\\n",
       "  H(X Y^{-1}) \\le H(X)+H(Y),\\\\\n",
       "  H(X Z^{-1}) \\le H(X)+H(Z),\\\\\n",
       "  H(Y Z^{-1}) \\le H(Y)+H(Z),\\\\\n",
       "  H(X)+H(Y Z^{-1}) \\le H(X Y^{-1})+H(X Z^{-1}),\\\\\n",
       "  H(X Y^{-1})+H(Z) \\le H(X Z^{-1})+H(Y Z^{-1}),\\\\\n",
       "  H(X Z^{-1})+H(Y) \\le H(X Y^{-1})+H(Y Z^{-1})\\\\\n",
       "\\end{array} \\right\\}$"
      ],
      "text/plain": [
       "( ( H(X) <= H(X*Y**-1) )\n",
       " &( H(X) <= H(X*Z**-1) )\n",
       " &( H(Y) <= H(X*Y**-1) )\n",
       " &( H(Y) <= H(Y*Z**-1) )\n",
       " &( H(Z) <= H(X*Z**-1) )\n",
       " &( H(Z) <= H(Y*Z**-1) )\n",
       " &( H(X*Y**-1) <= H(X)+H(Y) )\n",
       " &( H(X*Z**-1) <= H(X)+H(Z) )\n",
       " &( H(Y*Z**-1) <= H(Y)+H(Z) )\n",
       " &( H(X)+H(Y*Z**-1) <= H(X*Y**-1)+H(X*Z**-1) )\n",
       " &( H(X*Y**-1)+H(Z) <= H(X*Z**-1)+H(Y*Z**-1) )\n",
       " &( H(X*Z**-1)+H(Y) <= H(X*Y**-1)+H(Y*Z**-1) ) )"
      ]
     },
     "execution_count": 3,
     "metadata": {},
     "output_type": "execute_result"
    }
   ],
   "source": [
    "# Ruzsa triangle inequality [Ruzsa 1996], [Tao 2010]\n",
    "# The inequality is automatically discovered by the program\n",
    "indep(X, Y, Z).discover([H(X), H(Y), H(Z), H(X/Z), H(X/Y), H(Y/Z)])"
   ]
  },
  {
   "cell_type": "code",
   "execution_count": 4,
   "metadata": {},
   "outputs": [
    {
     "data": {
      "text/latex": [
       "$\\begin{align*}\n",
       "& \\begin{array}{l}\n",
       "\\begin{array}{l}\n",
       "\\displaystyle X {\\perp\\!\\!\\perp} Y {\\perp\\!\\!\\perp} Z\\\\\n",
       "\\displaystyle \\Rightarrow \\; H(Y)+H(X Z^{-1}) \\le H(X Y^{-1})+H(Y Z^{-1})\\\\\n",
       "\\end{array}\\;\\mathrm{is}\\;\\mathrm{True}\\\\\n",
       "\\end{array}\\\\\n",
       "\\\\\n",
       "&H(Y)+H(X Z^{-1})\\\\\n",
       "&\\le I(X Z^{-1}; Z)+H(X Z^{-1}, Y|Z)\\;\\;\\;{\\color{blue}{\\left(\\because\\, (X Z^{-1}, Z) {\\perp\\!\\!\\perp} Y\\right)}}\\\\\n",
       "&\\le I(X Z^{-1}, Y Z^{-1}; Z)+H(X Z^{-1}, Y|Z)\\\\\n",
       "&= H(X Z^{-1})+I(Y Z^{-1}; Y, Z|X Z^{-1})\\;\\;\\;{\\color{blue}{\\left(\\because\\, H(Y|Y Z^{-1}, Z, X Z^{-1}) = 0\\right)}}\\\\\n",
       "&= H(X Z^{-1}, Y Z^{-1})\\;\\;\\;{\\color{blue}{\\left(\\because\\, H(Y Z^{-1}|Y, Z, X Z^{-1}) = 0\\right)}}\\\\\n",
       "&\\le H(X Y^{-1}, X Z^{-1}, Y Z^{-1})\\\\\n",
       "&= H(X Y^{-1}, Y Z^{-1})\\;\\;\\;{\\color{blue}{\\left(\\because\\, H(X Z^{-1}|X Y^{-1}, Y Z^{-1}) = 0\\right)}}\\\\\n",
       "&\\le H(X Y^{-1})+H(Y Z^{-1})\\\\\n",
       "\\end{align*}\n",
       "$"
      ],
      "text/plain": [
       "((  indep(X, Y, Z)  )\n",
       ">> (  H(Y)+H(X*Z**-1) <= H(X*Y**-1)+H(Y*Z**-1)  )) is True\n",
       "\n",
       "\n",
       "H(Y)+H(X*Z**-1)\n",
       "<= I(X*Z**-1&Z)+H(X*Z**-1+Y|Z)   (since indep(X*Z**-1+Z, Y) )\n",
       "<= I(X*Z**-1+Y*Z**-1&Z)+H(X*Z**-1+Y|Z)\n",
       "= H(X*Z**-1)+I(Y*Z**-1&Y+Z|X*Z**-1)   (since H(Y|Y*Z**-1+Z+X*Z**-1) == 0 )\n",
       "= H(X*Z**-1+Y*Z**-1)   (since H(Y*Z**-1|Y+Z+X*Z**-1) == 0 )\n",
       "<= H(X*Y**-1+X*Z**-1+Y*Z**-1)\n",
       "= H(X*Y**-1+Y*Z**-1)   (since H(X*Z**-1|X*Y**-1+Y*Z**-1) == 0 )\n",
       "<= H(X*Y**-1)+H(Y*Z**-1)"
      ]
     },
     "execution_count": 4,
     "metadata": {},
     "output_type": "execute_result"
    }
   ],
   "source": [
    "# Output proof\n",
    "(indep(X, Y, Z) >> (H(X/Z) <= H(X/Y) + H(Y/Z) - H(Y))).solve(full=True)"
   ]
  },
  {
   "cell_type": "code",
   "execution_count": 3,
   "metadata": {},
   "outputs": [
    {
     "data": {
      "text/latex": [
       "$\\left\\{\\begin{array}{l}\n",
       "  H(X) \\le H(X Y^{-1}),\\\\\n",
       "  H(X) \\le H(X_3 Y_3),\\\\\n",
       "  H(Y) \\le H(X Y^{-1}),\\\\\n",
       "  H(Y) \\le H(X_3 Y_3),\\\\\n",
       "  H(X Y^{-1}) \\le H(X)+H(Y),\\\\\n",
       "  H(X_3 Y_3) \\le H(X)+H(Y),\\\\\n",
       "  H(X)+H(X_3 Y_3)+H(Y) \\le 3H(X Y^{-1})\\\\\n",
       "\\end{array} \\right\\}$"
      ],
      "text/plain": [
       "( ( H(X) <= H(X*Y**-1) )\n",
       " &( H(X) <= H(X_3*Y_3) )\n",
       " &( H(Y) <= H(X*Y**-1) )\n",
       " &( H(Y) <= H(X_3*Y_3) )\n",
       " &( H(X*Y**-1) <= H(X)+H(Y) )\n",
       " &( H(X_3*Y_3) <= H(X)+H(Y) )\n",
       " &( H(X)+H(X_3*Y_3)+H(Y) <= 3*H(X*Y**-1) ) )"
      ]
     },
     "execution_count": 3,
     "metadata": {},
     "output_type": "execute_result"
    }
   ],
   "source": [
    "# The proof of the sum-difference inequality [Ruzsa 1996], [Tao 2010] is harder\n",
    "# We use the construction of auxiliary random variables in [Tao 2010]\n",
    "\n",
    "X, Y = rv(\"X, Y\", alg=\"abelian\")  # Abelian-group-valued random variables\n",
    "\n",
    "X2, X3 = rv_array(\"X\", 2, 4, alg=\"abelian\")\n",
    "Y2, Y3 = rv_array(\"Y\", 2, 4, alg=\"abelian\")\n",
    "\n",
    "Y2 = X2 * Y / X   # since X/Y == X2/Y2\n",
    "\n",
    "# Auxiliary construction\n",
    "r = region(\n",
    "    indep(X, Y), indep(X2, Y2), indep(X3, Y3, X+Y+X2+Y2),\n",
    "    markov(X+Y, X/Y, X2+Y2),\n",
    "    eqdist([X, Y, X/Y], [X2, Y2, X/Y], [X3, Y2, X3/Y2], [X, Y3, X/Y3])\n",
    ")\n",
    "\n",
    "# The remaining step is automatic, gives desired result\n",
    "r.discover([H(X), H(Y), H(X/Y), H(X3*Y3)])"
   ]
  },
  {
   "cell_type": "code",
   "execution_count": 5,
   "metadata": {},
   "outputs": [
    {
     "data": {
      "text/latex": [
       "$\\begin{align*}\n",
       "&H(X)+H(Y)+H(X_3 Y_3)\\\\\n",
       "&= H(X_3 Y_3)+H(X, Y)\\;\\;\\;{\\color{blue}{\\left(\\because\\, X {\\perp\\!\\!\\perp} Y\\right)}}\\\\\n",
       "&= H(X_3 Y_3)+H(X, X Y^{-1}, Y)\\;\\;\\;{\\color{blue}{\\left(\\because\\, H(X Y^{-1}|X, Y) = 0\\right)}}\\\\\n",
       "&= H(X_3 Y_3)+H(X Y^{-1}, Y)\\;\\;\\;{\\color{blue}{\\left(\\because\\, H(X|X Y^{-1}, Y) = 0\\right)}}\\\\\n",
       "&= H(X_2 Y X^{-1})+H(X_3 Y_3)+H(X Y^{-1}|Y)\\;\\;\\;{\\color{blue}{\\left(\\because\\, H(X_2 Y X^{-1}) = H(Y)\\right)}}\\\\\n",
       "&= H(X_3 Y_3)+H(X Y^{-1}|Y)+H(X_2 Y X^{-1}|X_3)\\;\\;\\;{\\color{blue}{\\left(\\because\\, X_3 {\\perp\\!\\!\\perp} X_2 Y X^{-1}\\right)}}\\\\\n",
       "&= H(X_3 Y_3)+H(X Y^{-1}|Y)+I(X_2 Y X^{-1}; X_3 X_2^{-1} Y^{-1} X, X_3 Y_3|X_3)\\\\\n",
       "&\\;\\;\\;\\;\\;\\;\\;\\;{\\color{blue}{\\left(\\because\\, H(X_2 Y X^{-1}|X_3, X_3 X_2^{-1} Y^{-1} X, X_3 Y_3) = 0\\right)}}\\\\\n",
       "&\\le H(X Y^{-1}|Y)+H(X_3 Y_3|X_3)+I(X_2 Y X^{-1}, X_3; X_3 X_2^{-1} Y^{-1} X, X_3 Y_3)\\\\\n",
       "&= H(X_3 X_2^{-1} Y^{-1} X)+H(X Y^{-1}|Y)+H(X_3 Y_3|X_3)+I(X_3 Y_3; X_2 Y X^{-1}, X_3|X_3 X_2^{-1} Y^{-1} X)\\\\\n",
       "&\\;\\;\\;\\;\\;\\;\\;\\;{\\color{blue}{\\left(\\because\\, H(X_3 X_2^{-1} Y^{-1} X|X_2 Y X^{-1}, X_3) = 0\\right)}}\\\\\n",
       "&= H(X Y^{-1})+H(X Y^{-1}|Y)+H(X_3 Y_3|X_3)+I(X_3 Y_3; X_2 Y X^{-1}, X_3|X_3 X_2^{-1} Y^{-1} X)\\\\\n",
       "&\\;\\;\\;\\;\\;\\;\\;\\;{\\color{blue}{\\left(\\because\\, H(X Y^{-1}) = H(X_3 X_2^{-1} Y^{-1} X)\\right)}}\\\\\n",
       "&= H(X Y^{-1})+H(X Y^{-1}|Y)+H(X_3 Y_3|X_3 X_2^{-1} Y^{-1} X)-I(X_2; X_3 Y_3|X_2 Y X^{-1}, X_3 X_2^{-1} Y^{-1} X, X_3)\\\\\n",
       "&\\;\\;\\;\\;\\;\\;\\;\\;{\\color{blue}{\\left(\\because\\, (X_2 Y X^{-1}, X_2, X_3 X_2^{-1} Y^{-1} X) \\leftrightarrow X_3 \\leftrightarrow X_3 Y_3\\right)}}\\\\\n",
       "&\\le H(X Y^{-1})+H(X Y^{-1}|Y)+H(X_3 Y_3|X_2, X_3 X_2^{-1} Y^{-1} X)\\\\\n",
       "&\\;\\;\\;\\;\\;\\;\\;\\;{\\color{blue}{\\left(\\because\\, I(X_3 Y_3; X_2; X_3, X_2 Y X^{-1}|X_3 X_2^{-1} Y^{-1} X) \\le 0\\right)}}\\\\\n",
       "&\\le H(X Y^{-1})+I(X_2; Y)+H(X Y^{-1}|Y)+H(X_3 X_2^{-1} Y^{-1} X, X_3 Y_3|X_2)-H(X_3 X_2^{-1} Y^{-1} X|X_2, Y)\\\\\n",
       "&\\le H(X Y^{-1})+H(X_3 Y_3|X_2, X_3 X_2^{-1} Y^{-1} X, Y)+H(X Y^{-1}, X_2, X_3 X_2^{-1} Y^{-1} X, X_3 Y_3)-H(X_2, X_3 X_2^{-1} Y^{-1} X, X_3 Y_3|X Y^{-1}, Y)\\\\\n",
       "&= H(X Y^{-1})+H(X_3 Y_3|X_2, X_3 X_2^{-1} Y^{-1} X, Y)+H(X Y^{-1}, X_2, X_3 X_2^{-1} Y^{-1} X)-H(X_2, X_3 X_2^{-1} Y^{-1} X|X Y^{-1}, Y)\\\\\n",
       "&\\;\\;\\;\\;\\;\\;\\;\\;{\\color{blue}{\\left(\\because\\, X_3 Y_3 \\leftrightarrow (X Y^{-1}, X_2, X_3 X_2^{-1} Y^{-1} X) \\leftrightarrow Y\\right)}}\\\\\n",
       "&= 3H(X Y^{-1})+H(X_3 Y_3|X_2, X_3 X_2^{-1} Y^{-1} X, Y)+I(X_2, X_3 X_2^{-1} Y^{-1} X; Y|X Y^{-1})-H(X Y_3^{-1})\\\\\n",
       "&\\;\\;\\;\\;\\;\\;\\;\\;{\\color{blue}{\\left(\\because\\, H(X Y^{-1}) = H(X Y_3^{-1})\\right)}}\\\\\n",
       "&\\le 3H(X Y^{-1})+H(X_3 Y_3|X_2, X_3 X_2^{-1} Y^{-1} X, Y)+I(X_2, X_3 X_2^{-1} Y^{-1} X; Y|X Y^{-1})-H(X Y_3^{-1}|X_2, X_3 X_2^{-1} Y^{-1} X, Y)\\\\\n",
       "&= 3H(X Y^{-1})+I(X_2, X_3 X_2^{-1} Y^{-1} X; Y|X Y^{-1})-H(X Y_3^{-1}|X_2, X_3 X_2^{-1} Y^{-1} X, X_3 Y_3, Y)\\\\\n",
       "&\\;\\;\\;\\;\\;\\;\\;\\;{\\color{blue}{\\left(\\because\\, H(X_3 Y_3|Y, X_2, X_3 X_2^{-1} Y^{-1} X, X Y_3^{-1}) = 0\\right)}}\\\\\n",
       "&= 3H(X Y^{-1})+I(X_2, X_3 X_2^{-1} Y^{-1} X; Y|X Y^{-1})\\;\\;\\;{\\color{blue}{\\left(\\because\\, H(X Y_3^{-1}|Y, X_2, X_3 X_2^{-1} Y^{-1} X, X_3 Y_3) = 0\\right)}}\\\\\n",
       "&\\le 3H(X Y^{-1})\\;\\;\\;{\\color{blue}{\\left(\\because\\, (X_2, X_3 X_2^{-1} Y^{-1} X) \\leftrightarrow X Y^{-1} \\leftrightarrow Y\\right)}}\\\\\n",
       "\\end{align*}\n",
       "$"
      ],
      "text/plain": [
       "<psitip.ProofObj at 0x2951b7a9ac0>"
      ]
     },
     "execution_count": 5,
     "metadata": {},
     "output_type": "execute_result"
    }
   ],
   "source": [
    "# Output the proof\n",
    "(r >> (H(X3*Y3) <= 3*H(X/Y) - H(X) - H(Y))).proof()"
   ]
  },
  {
   "cell_type": "markdown",
   "metadata": {},
   "source": [
    "### References\n",
    "- Madiman, Mokshay. \"On the entropy of sums.\" 2008 IEEE Information Theory Workshop. IEEE, 2008.\n",
    "- Ruzsa, Imre Z. \"Sums of finite sets.\" Number Theory: New York Seminar 1991–1995. Springer, New York, NY, 1996.\n",
    "- Tao, Terence. \"Sumset and inverse sumset theory for Shannon entropy.\" Combinatorics, Probability and Computing 19.4 (2010): 603-639."
   ]
  },
  {
   "cell_type": "code",
   "execution_count": null,
   "metadata": {},
   "outputs": [],
   "source": []
  }
 ],
 "metadata": {
  "kernelspec": {
   "display_name": "Python 3",
   "language": "python",
   "name": "python3"
  },
  "language_info": {
   "codemirror_mode": {
    "name": "ipython",
    "version": 3
   },
   "file_extension": ".py",
   "mimetype": "text/x-python",
   "name": "python",
   "nbconvert_exporter": "python",
   "pygments_lexer": "ipython3",
   "version": "3.8.3"
  }
 },
 "nbformat": 4,
 "nbformat_minor": 4
}

{
 "cells": [
  {
   "cell_type": "markdown",
   "id": "c9e0288a",
   "metadata": {},
   "source": [
    "# PSITIP Quick Start Guide\n",
    "------\n",
    "\n",
    "Author: Cheuk Ting Li  (https://staff.ie.cuhk.edu.hk/~ctli/)\n",
    "\n",
    "<< Back to [table of contents](table_of_contents.ipynb)"
   ]
  },
  {
   "cell_type": "markdown",
   "id": "cea9ae72",
   "metadata": {},
   "source": [
    "Python Symbolic Information Theoretic Inequality Prover (PSITIP) is a computer algebra system for information theory written in Python. Random variables, expressions and regions are objects in Python that can be manipulated easily. Moreover, it implements a versatile deduction system for automated theorem proving. The working principle of PSITIP (existential information inequalities) is described in the following article:\n",
    "\n",
    "C. T. Li, \"An Automated Theorem Proving Framework for Information-Theoretic Results,\" in IEEE Transactions on Information Theory, vol. 69, no. 11, pp. 6857-6877, Nov. 2023. Link: https://ieeexplore.ieee.org/document/10185937 . Preprint: https://arxiv.org/pdf/2101.12370.pdf \n",
    "\n",
    "\n",
    "**Documentation, source code of PSITIP and these notebooks:** https://github.com/cheuktingli/psitip\n",
    "\n",
    "**Install PSITIP locally on your computer:** https://github.com/cheuktingli/psitip#installation-guide"
   ]
  },
  {
   "cell_type": "code",
   "execution_count": 1,
   "id": "0666ec40",
   "metadata": {},
   "outputs": [],
   "source": [
    "# If you are running this on Google Colab, uncomment and run the following:\n",
    "\n",
    "# !apt-get install libgmp-dev python3-dev\n",
    "# !pip install psitip"
   ]
  },
  {
   "cell_type": "markdown",
   "id": "9a662708",
   "metadata": {},
   "source": [
    "**Run the following boilerplate code every time:**"
   ]
  },
  {
   "cell_type": "code",
   "execution_count": 2,
   "id": "3b82d949",
   "metadata": {},
   "outputs": [],
   "source": [
    "%matplotlib inline\n",
    "# %matplotlib qt\n",
    "\n",
    "from psitip import *\n",
    "PsiOpts.setting(\n",
    "    solver = \"ortools.GLOP\",    # Set linear programming solver\n",
    "    solve_display_reg = False,  # Do not display claims in solve commands\n",
    "    proof_note_color = \"blue\",  # Reasons in proofs are blue\n",
    "    figsize = (5,5)             # Default figure size for info diagrams\n",
    ")"
   ]
  },
  {
   "cell_type": "markdown",
   "id": "cc7ed205",
   "metadata": {},
   "source": [
    "-----\n",
    "## 1. Random Variables\n",
    "\n",
    "A random variable named \"X\" is declared as <code>X = rv(\"X\")</code>. You may declare multiple random variables in the same line as <code>X, Y = rv(\"X, Y\")</code>. The data type is <code>Comp</code> (compound random variable). We now declare the random variables U, V, W, X, Y, Z."
   ]
  },
  {
   "cell_type": "code",
   "execution_count": 3,
   "id": "9d17df0c",
   "metadata": {},
   "outputs": [],
   "source": [
    "U, V, W, X, Y, Z = rv(\"U, V, W, X, Y, Z\")"
   ]
  },
  {
   "cell_type": "markdown",
   "id": "0af2e64c",
   "metadata": {},
   "source": [
    "The joint random variable (X,Y) is expressed as <code>X+Y</code> (NOT <code>(X,Y)</code>!):"
   ]
  },
  {
   "cell_type": "code",
   "execution_count": 4,
   "id": "b70cbf0d",
   "metadata": {},
   "outputs": [
    {
     "data": {
      "text/latex": [
       "$X, Y$"
      ],
      "text/plain": [
       "X+Y"
      ]
     },
     "execution_count": 4,
     "metadata": {},
     "output_type": "execute_result"
    }
   ],
   "source": [
    "X+Y"
   ]
  },
  {
   "cell_type": "markdown",
   "id": "8d4669ea",
   "metadata": {},
   "source": [
    "Use <code>rv_seq(\"X\", range(1, 4))</code> to declare a random sequence $X_1,...,X_3$:"
   ]
  },
  {
   "cell_type": "code",
   "execution_count": 5,
   "id": "d1b3a592",
   "metadata": {},
   "outputs": [
    {
     "data": {
      "text/latex": [
       "$X_1, X_2, X_3$"
      ],
      "text/plain": [
       "X_1+X_2+X_3"
      ]
     },
     "execution_count": 5,
     "metadata": {},
     "output_type": "execute_result"
    }
   ],
   "source": [
    "Xs = rv_seq(\"X\", range(1, 4))\n",
    "Xs"
   ]
  },
  {
   "cell_type": "code",
   "execution_count": 6,
   "id": "57af1e3c",
   "metadata": {},
   "outputs": [
    {
     "data": {
      "text/latex": [
       "$X_2$"
      ],
      "text/plain": [
       "X_2"
      ]
     },
     "execution_count": 6,
     "metadata": {},
     "output_type": "execute_result"
    }
   ],
   "source": [
    "Xs[1]  # Note that this gives X2 (the \"1st\" entry) instead of X1 since Python is 0-based"
   ]
  },
  {
   "cell_type": "markdown",
   "id": "5b87356d",
   "metadata": {},
   "source": [
    "-----\n",
    "## 2. Entropy and Mutual Information\n",
    "\n",
    "- Entropy is denoted as <code>H(X)</code>.\n",
    "- Joint entropy is denoted as <code>H(X+Y)</code> (or <code>H(X,Y)</code>, not recommended).\n",
    "- Conditional entropy is denoted as <code>H(X | Y)</code>.\n",
    "- Mutual information is denoted as <code>I(X & Y)</code> (NOT <code>I(X ; Y)</code>!).\n",
    "- Multivariate mutual information $I(X;Y;Z)=I(X;Y)-I(X;Y|Z)$ is denoted as <code>I(X & Y & Z)</code>.\n",
    "\n",
    "The data type is <code>Expr</code> (expression). For example, this is $I(X,Y;Z|U,V)$:"
   ]
  },
  {
   "cell_type": "code",
   "execution_count": 7,
   "id": "ed3bf2d5",
   "metadata": {},
   "outputs": [
    {
     "data": {
      "text/latex": [
       "$I(X, Y; Z|U, V)$"
      ],
      "text/plain": [
       "I(X+Y&Z|U+V)"
      ]
     },
     "execution_count": 7,
     "metadata": {},
     "output_type": "execute_result"
    }
   ],
   "source": [
    "I(X+Y & Z | U+V)  # or I(X,Y & Z | U,V), not recommended"
   ]
  },
  {
   "cell_type": "markdown",
   "id": "e4a748a0",
   "metadata": {},
   "source": [
    "Information diagram (Cover & Thomas, 2006) is a way to visualize entropy and mutual information via a Venn diagram. The entropy of each random variable is represented by a circle. Joint entropy $H(X,Y)$ is the union of the two circles for $X$ and $Y$. Mutual information $I(X;Y)$ is the intersection of the two circles. Conditional entropy $H(X|Y)$ is the region in the circle for $X$ outside of the region in the circle for $Y$.\n",
    "\n",
    "The information diagram can be drawn using <code>a.venn()</code> (where <code>a</code> is <code>Comp</code> or <code>Expr</code>). By default, only the random variables in <code>a</code> will be drawn. If additional random variables or expressions should be included, supply them as arguments to <code>Expr.venn(???)</code>."
   ]
  },
  {
   "cell_type": "code",
   "execution_count": 8,
   "id": "58753ede",
   "metadata": {},
   "outputs": [
    {
     "data": {
      "image/png": "[encoded data removed]",
      "text/plain": [
       "<Figure size 500x500 with 1 Axes>"
      ]
     },
     "metadata": {},
     "output_type": "display_data"
    }
   ],
   "source": [
    "(X+Y+Z).venn(H(X), H(Y|X), H(Z|X+Y))"
   ]
  },
  {
   "cell_type": "code",
   "execution_count": 9,
   "id": "0661dfb0",
   "metadata": {},
   "outputs": [
    {
     "data": {
      "image/png": "[encoded data removed]",
      "text/plain": [
       "<Figure size 500x500 with 1 Axes>"
      ]
     },
     "metadata": {},
     "output_type": "display_data"
    }
   ],
   "source": [
    "(X+Y+Z).venn(H(X+Y), I(X & Z | Y), I(X & Y & Z), style=\"hatch\")"
   ]
  },
  {
   "cell_type": "markdown",
   "id": "464b1a79",
   "metadata": {},
   "source": [
    "The function <code>a.venn()</code> supports information diagrams with up to 5 random variables:"
   ]
  },
  {
   "cell_type": "code",
   "execution_count": 10,
   "id": "4ae7f225",
   "metadata": {},
   "outputs": [
    {
     "data": {
      "image/png": "[encoded data removed]",
      "text/plain": [
       "<Figure size 500x500 with 1 Axes>"
      ]
     },
     "metadata": {},
     "output_type": "display_data"
    }
   ],
   "source": [
    "(X+Y+Z+W).venn(H(X), H(Y|X), H(Z|X+Y), H(W|X+Y+Z))"
   ]
  },
  {
   "cell_type": "markdown",
   "id": "feea064f",
   "metadata": {},
   "source": [
    "Nevertheless, Venn diagrams with 4 or more regions can be quite hard to read. When there are 4 or more random variables, it is recommended to use Karnaugh map instead via <code>a.table()</code>, which is a table where each random variable is represented by a set of rows or columns."
   ]
  },
  {
   "cell_type": "code",
   "execution_count": 11,
   "id": "5d0593e6",
   "metadata": {},
   "outputs": [
    {
     "data": {
      "image/png": "[encoded data removed]",
      "text/plain": [
       "<Figure size 500x500 with 1 Axes>"
      ]
     },
     "metadata": {},
     "output_type": "display_data"
    }
   ],
   "source": [
    "(X+Y+Z+W).table(H(X), H(Y|X), H(Z|X+Y), H(W|X+Y+Z))"
   ]
  },
  {
   "cell_type": "markdown",
   "id": "2e965079",
   "metadata": {},
   "source": [
    "-----\n",
    "## 3. Real Variables and Expressions\n",
    "\n",
    "A real variable (e.g., rate, capacity) is declared as <code>R = real(\"R\")</code>. You may declare multiple random variables in the same line as <code>R, S = real(\"R, S\")</code>. The data type is <code>Expr</code> (expression). \n",
    "\n",
    "You may add expressions and multiply expressions by scalars. For example:"
   ]
  },
  {
   "cell_type": "code",
   "execution_count": 12,
   "id": "d384d1e1",
   "metadata": {},
   "outputs": [
    {
     "data": {
      "text/latex": [
       "$R+\\frac{3}{2}I(X; Y)$"
      ],
      "text/plain": [
       "R+(3/2)*I(X&Y)"
      ]
     },
     "execution_count": 12,
     "metadata": {},
     "output_type": "execute_result"
    }
   ],
   "source": [
    "R = real(\"R\")\n",
    "\n",
    "R + (3/2) * I(X & Y)"
   ]
  },
  {
   "cell_type": "markdown",
   "id": "a1f019f6",
   "metadata": {},
   "source": [
    "Use <code>real_array(\"R\", range(1, 4))</code> to declare a real sequence $R_1,...,R_3$:"
   ]
  },
  {
   "cell_type": "code",
   "execution_count": 13,
   "id": "e36ae579",
   "metadata": {},
   "outputs": [
    {
     "data": {
      "text/latex": [
       "$\\left[ R_1 \\;\\; R_2 \\;\\; R_3\\right]$"
      ],
      "text/plain": [
       "ExprArray([R_1, R_2, R_3])"
      ]
     },
     "execution_count": 13,
     "metadata": {},
     "output_type": "execute_result"
    }
   ],
   "source": [
    "real_array(\"R\", range(1, 4))"
   ]
  },
  {
   "cell_type": "markdown",
   "id": "f6091768",
   "metadata": {},
   "source": [
    "-----\n",
    "## 4. Regions\n",
    "\n",
    "A region (datatype <code>Region</code>) is a set of constraints on several random variables or real variables, or equivalently, a set of possible random/real variables where all constraints hold. When two expressions are compared, the return value is a region that represents this inequality. For example, the constraint that $H(X) \\le H(Y)$ is denoted as:"
   ]
  },
  {
   "cell_type": "code",
   "execution_count": 14,
   "id": "5e26881d",
   "metadata": {},
   "outputs": [
    {
     "data": {
      "text/latex": [
       "$ H(X) \\leq H(Y)$"
      ],
      "text/plain": [
       "H(X) <= H(Y) "
      ]
     },
     "execution_count": 14,
     "metadata": {},
     "output_type": "execute_result"
    }
   ],
   "source": [
    "H(X) <= H(Y)"
   ]
  },
  {
   "cell_type": "markdown",
   "id": "40655809",
   "metadata": {},
   "source": [
    "To check whether an inequality always hold, cast the <code>Region</code> into <code>bool</code>."
   ]
  },
  {
   "cell_type": "code",
   "execution_count": 15,
   "id": "9ece05aa",
   "metadata": {},
   "outputs": [
    {
     "data": {
      "text/plain": [
       "True"
      ]
     },
     "execution_count": 15,
     "metadata": {},
     "output_type": "execute_result"
    }
   ],
   "source": [
    "bool(H(X) + H(Y) >= H(X+Y))"
   ]
  },
  {
   "cell_type": "markdown",
   "id": "2363a55a",
   "metadata": {},
   "source": [
    "The empty region is given by <code>region(False)</code>. The universal region (where no constraint is imposed) is given by <code>region()</code> or <code>region(True)</code>."
   ]
  },
  {
   "cell_type": "code",
   "execution_count": 16,
   "id": "1f9cb391",
   "metadata": {},
   "outputs": [
    {
     "data": {
      "text/latex": [
       "$\\bot$"
      ],
      "text/plain": [
       "empty()"
      ]
     },
     "metadata": {},
     "output_type": "display_data"
    },
    {
     "data": {
      "text/latex": [
       "$\\top$"
      ],
      "text/plain": [
       "universe()"
      ]
     },
     "metadata": {},
     "output_type": "display_data"
    }
   ],
   "source": [
    "display(region(False))\n",
    "display(region(True))"
   ]
  },
  {
   "cell_type": "markdown",
   "id": "b7be8eb2",
   "metadata": {},
   "source": [
    "### 4.1 Functional Relation\n",
    "\n",
    "The random variable Y is a function of X if and only if $H(Y|X)=0$, which can be input as <code>H(Y|X) == 0</code>. A shorter notation is <code>\\~H(Y|X)</code>. For an expression <code>a</code>, we can use the shorthand <code>\\~a</code> for <code>a == 0</code>."
   ]
  },
  {
   "cell_type": "code",
   "execution_count": 17,
   "id": "14b5f1b2",
   "metadata": {},
   "outputs": [
    {
     "data": {
      "text/latex": [
       "$ H(Y|X) = 0$"
      ],
      "text/plain": [
       "H(Y|X) == 0 "
      ]
     },
     "metadata": {},
     "output_type": "display_data"
    },
    {
     "data": {
      "text/latex": [
       "$ H(Y|X) = 0$"
      ],
      "text/plain": [
       "H(Y|X) == 0 "
      ]
     },
     "metadata": {},
     "output_type": "display_data"
    }
   ],
   "source": [
    "display(H(Y|X) == 0)\n",
    "display(~H(Y|X))\n",
    "# Note: to display multiple outputs in the same cell in Jupyter Notebook, \n",
    "#   one must call \"display\" for each output. \n",
    "#   Otherwise, only the last output will be displayed."
   ]
  },
  {
   "cell_type": "markdown",
   "id": "53135c8b",
   "metadata": {},
   "source": [
    "### 4.2 Probabilistic Independence\n",
    "\n",
    "Two random variables X, Y are independent ($X \\perp\\!\\!\\perp Y$) if and only if $I(X;Y)=0$, which can be input as <code>I(X & Y) == 0</code>. PSITIP also provides a convenient function <code>indep(X, Y)</code> for the same purpose. For the condition that X, Y, Z are mutually independent, use <code>indep(X, Y, Z)</code> (NOT <code>I(X & Y & Z) == 0</code>)."
   ]
  },
  {
   "cell_type": "code",
   "execution_count": 18,
   "id": "756fb022",
   "metadata": {},
   "outputs": [
    {
     "data": {
      "text/latex": [
       "$ X {\\perp\\!\\!\\perp} Y$"
      ],
      "text/plain": [
       "indep(X, Y) "
      ]
     },
     "metadata": {},
     "output_type": "display_data"
    },
    {
     "data": {
      "text/latex": [
       "$ X {\\perp\\!\\!\\perp} Y$"
      ],
      "text/plain": [
       "indep(X, Y) "
      ]
     },
     "metadata": {},
     "output_type": "display_data"
    },
    {
     "data": {
      "text/latex": [
       "$ X {\\perp\\!\\!\\perp} Y {\\perp\\!\\!\\perp} Z$"
      ],
      "text/plain": [
       "indep(X, Y, Z) "
      ]
     },
     "metadata": {},
     "output_type": "display_data"
    }
   ],
   "source": [
    "display(I(X & Y) == 0)\n",
    "display(indep(X, Y))\n",
    "display(indep(X, Y, Z))"
   ]
  },
  {
   "cell_type": "markdown",
   "id": "6b9d55f3",
   "metadata": {},
   "source": [
    "### 4.3 Conditional Independence\n",
    "\n",
    "Two random variables X, Z are conditionally independent given Y if and only if $I(X;Z|Y)=0$, which can be input as <code>I(X & Z | Y) == 0</code>. PSITIP also provides a convenient function <code>indep(X, Z | Y)</code> for the same purpose.\n",
    "\n",
    "Note that X, Z are conditionally independent given Y is equivalent to saying that $X \\leftrightarrow Y \\leftrightarrow Z$ forms a Markov chain. This can be input as <code>markov(X, Y, Z)</code>. This function is convenient for longer Markov chain, e.g., <code>markov(V, W, X, Y, Z)</code>."
   ]
  },
  {
   "cell_type": "code",
   "execution_count": 19,
   "id": "d2e77087",
   "metadata": {},
   "outputs": [
    {
     "data": {
      "text/latex": [
       "$ X \\leftrightarrow Y \\leftrightarrow Z$"
      ],
      "text/plain": [
       "markov(X, Y, Z) "
      ]
     },
     "metadata": {},
     "output_type": "display_data"
    },
    {
     "data": {
      "text/latex": [
       "$ X \\leftrightarrow Y \\leftrightarrow Z$"
      ],
      "text/plain": [
       "markov(X, Y, Z) "
      ]
     },
     "metadata": {},
     "output_type": "display_data"
    },
    {
     "data": {
      "text/latex": [
       "$ X \\leftrightarrow Y \\leftrightarrow Z$"
      ],
      "text/plain": [
       "markov(X, Y, Z) "
      ]
     },
     "metadata": {},
     "output_type": "display_data"
    }
   ],
   "source": [
    "display(I(X & Z | Y) == 0)\n",
    "display(indep(X, Z | Y))\n",
    "display(markov(X, Y, Z))"
   ]
  },
  {
   "cell_type": "markdown",
   "id": "3bb65205",
   "metadata": {},
   "source": [
    "<code>Region.venn()</code> or <code>Region.table()</code> displays the information diagram corresponding to the region. In the following diagram, the cell $I(X;Z|Y)$ is black, meaning that the cell is zero."
   ]
  },
  {
   "cell_type": "code",
   "execution_count": 20,
   "id": "af096f07",
   "metadata": {},
   "outputs": [
    {
     "data": {
      "image/png": "[encoded data removed]",
      "text/plain": [
       "<Figure size 500x500 with 1 Axes>"
      ]
     },
     "metadata": {},
     "output_type": "display_data"
    }
   ],
   "source": [
    "markov(X, Y, Z).venn()"
   ]
  },
  {
   "cell_type": "markdown",
   "id": "9d000432",
   "metadata": {},
   "source": [
    "### 4.4 Factorization of Probability Distribution\n",
    "\n",
    "More complicated dependencies among random variables can be represented as a factorization of their joint probability mass function. For example, if the joint probability mass function of X, Y, Z, W can be factorized as $p(x,y,z,w)=p(x)p(y|x)p(z|x)p(w|y,z)$, this means that we have $I(Z;Y|X)=I(W;X|Y,Z)=0$. Such a factorization can be input as:"
   ]
  },
  {
   "cell_type": "code",
   "execution_count": 21,
   "id": "3b7bc9fa",
   "metadata": {},
   "outputs": [
    {
     "data": {
      "text/latex": [
       "$\\left\\{\\begin{array}{l}\n",
       "  Z \\leftrightarrow X \\leftrightarrow Y,\\\\\n",
       "  X \\leftrightarrow (Z, Y) \\leftrightarrow W\\\\\n",
       "\\end{array} \\right\\}$"
      ],
      "text/plain": [
       "( ( markov(Z, X, Y) )\n",
       " &( markov(X, Z+Y, W) ) )"
      ]
     },
     "execution_count": 21,
     "metadata": {},
     "output_type": "execute_result"
    }
   ],
   "source": [
    "r = region(X, Y|X, Z|X, W|Y+Z)\n",
    "r"
   ]
  },
  {
   "cell_type": "markdown",
   "id": "d1d79ac0",
   "metadata": {},
   "source": [
    "This factorization can be visualized as a directed graph, called a *Bayesian network*. We can display the Bayesian network that is implied by the conditions in a region by:"
   ]
  },
  {
   "cell_type": "code",
   "execution_count": 22,
   "id": "e0e4e3fc",
   "metadata": {},
   "outputs": [
    {
     "data": {
      "image/svg+xml": [
       "<?xml version=\"1.0\" encoding=\"UTF-8\" standalone=\"no\"?>\r\n",
       "<!DOCTYPE svg PUBLIC \"-//W3C//DTD SVG 1.1//EN\"\r\n",
       " \"http://www.w3.org/Graphics/SVG/1.1/DTD/svg11.dtd\">\r\n",
       "<!-- Generated by graphviz version 2.50.0 (0)\r\n",
       " -->\r\n",
       "<!-- Pages: 1 -->\r\n",
       "<svg width=\"242pt\" height=\"98pt\"\r\n",
       " viewBox=\"0.00 0.00 242.00 98.00\" xmlns=\"http://www.w3.org/2000/svg\" xmlns:xlink=\"http://www.w3.org/1999/xlink\">\r\n",
       "<g id=\"graph0\" class=\"graph\" transform=\"scale(1 1) rotate(0) translate(4 94)\">\r\n",
       "<polygon fill=\"white\" stroke=\"transparent\" points=\"-4,4 -4,-94 238,-94 238,4 -4,4\"/>\r\n",
       "<!-- X -->\r\n",
       "<g id=\"node1\" class=\"node\">\r\n",
       "<title>X</title>\r\n",
       "<text text-anchor=\"middle\" x=\"27\" y=\"-41.3\" font-family=\"Times New Roman,serif\" font-size=\"14.00\">X</text>\r\n",
       "</g>\r\n",
       "<!-- Y -->\r\n",
       "<g id=\"node2\" class=\"node\">\r\n",
       "<title>Y</title>\r\n",
       "<text text-anchor=\"middle\" x=\"117\" y=\"-68.3\" font-family=\"Times New Roman,serif\" font-size=\"14.00\">Y</text>\r\n",
       "</g>\r\n",
       "<!-- X&#45;&gt;Y -->\r\n",
       "<g id=\"edge1\" class=\"edge\">\r\n",
       "<title>X&#45;&gt;Y</title>\r\n",
       "<path fill=\"none\" stroke=\"black\" d=\"M54.4,-53.1C62.48,-55.58 71.51,-58.35 80.1,-60.99\"/>\r\n",
       "<polygon fill=\"black\" stroke=\"black\" points=\"79.33,-64.41 89.92,-64 81.39,-57.72 79.33,-64.41\"/>\r\n",
       "</g>\r\n",
       "<!-- Z -->\r\n",
       "<g id=\"node3\" class=\"node\">\r\n",
       "<title>Z</title>\r\n",
       "<text text-anchor=\"middle\" x=\"117\" y=\"-14.3\" font-family=\"Times New Roman,serif\" font-size=\"14.00\">Z</text>\r\n",
       "</g>\r\n",
       "<!-- X&#45;&gt;Z -->\r\n",
       "<g id=\"edge2\" class=\"edge\">\r\n",
       "<title>X&#45;&gt;Z</title>\r\n",
       "<path fill=\"none\" stroke=\"black\" d=\"M54.4,-36.9C62.48,-34.42 71.51,-31.65 80.1,-29.01\"/>\r\n",
       "<polygon fill=\"black\" stroke=\"black\" points=\"81.39,-32.28 89.92,-26 79.33,-25.59 81.39,-32.28\"/>\r\n",
       "</g>\r\n",
       "<!-- W -->\r\n",
       "<g id=\"node4\" class=\"node\">\r\n",
       "<title>W</title>\r\n",
       "<text text-anchor=\"middle\" x=\"207\" y=\"-41.3\" font-family=\"Times New Roman,serif\" font-size=\"14.00\">W</text>\r\n",
       "</g>\r\n",
       "<!-- Y&#45;&gt;W -->\r\n",
       "<g id=\"edge3\" class=\"edge\">\r\n",
       "<title>Y&#45;&gt;W</title>\r\n",
       "<path fill=\"none\" stroke=\"black\" d=\"M144.4,-63.9C152.48,-61.42 161.51,-58.65 170.1,-56.01\"/>\r\n",
       "<polygon fill=\"black\" stroke=\"black\" points=\"171.39,-59.28 179.92,-53 169.33,-52.59 171.39,-59.28\"/>\r\n",
       "</g>\r\n",
       "<!-- Z&#45;&gt;W -->\r\n",
       "<g id=\"edge4\" class=\"edge\">\r\n",
       "<title>Z&#45;&gt;W</title>\r\n",
       "<path fill=\"none\" stroke=\"black\" d=\"M144.4,-26.1C152.48,-28.58 161.51,-31.35 170.1,-33.99\"/>\r\n",
       "<polygon fill=\"black\" stroke=\"black\" points=\"169.33,-37.41 179.92,-37 171.39,-30.72 169.33,-37.41\"/>\r\n",
       "</g>\r\n",
       "</g>\r\n",
       "</svg>\r\n"
      ],
      "text/plain": [
       "<graphviz.dot.Digraph at 0x21341b2a100>"
      ]
     },
     "execution_count": 22,
     "metadata": {},
     "output_type": "execute_result"
    }
   ],
   "source": [
    "r.graph()\n",
    "# If the graph fails to display, make sure graphviz is installed"
   ]
  },
  {
   "cell_type": "markdown",
   "id": "6d35fd4d",
   "metadata": {},
   "source": [
    "### 4.5 Combining Regions\n",
    "\n",
    "The intersection of two regions r1, r2 (where both the constraints in r1 and r2 must hold) is denoted as <code>r1 & r2</code>. One may also use <code>region(r1, r2)</code>. For example, the constraint $X \\leftrightarrow Y \\leftrightarrow Z$ and $H(X) <= H(Z)$ can be denoted as:"
   ]
  },
  {
   "cell_type": "code",
   "execution_count": 23,
   "id": "ab0a48dd",
   "metadata": {},
   "outputs": [
    {
     "data": {
      "text/latex": [
       "$\\left\\{\\begin{array}{l}\n",
       "  H(X) \\leq H(Z),\\\\\n",
       "  Z \\leftrightarrow Y \\leftrightarrow X\\\\\n",
       "\\end{array} \\right\\}$"
      ],
      "text/plain": [
       "( ( H(X) <= H(Z) )\n",
       " &( markov(Z, Y, X) ) )"
      ]
     },
     "execution_count": 23,
     "metadata": {},
     "output_type": "execute_result"
    }
   ],
   "source": [
    "markov(X, Y, Z) & (H(X) <= H(Z))  # Parentheses are needed since \"&\" binds closer than \"<=\"\n",
    "region(markov(X, Y, Z), H(X) <= H(Z))  # This is equivalent\n",
    "region(X, Y|X, Z|Y, H(X) <= H(Z))  # This is equivalent"
   ]
  },
  {
   "cell_type": "markdown",
   "id": "f96f61d9",
   "metadata": {},
   "source": [
    "Other logical operations can also be performed. For example, the union of two regions (logical OR) is <code>r1 | r2</code>. The complement (logical NOT)  is <code>~r1</code>."
   ]
  },
  {
   "cell_type": "code",
   "execution_count": 24,
   "id": "bec9e999",
   "metadata": {},
   "outputs": [
    {
     "data": {
      "text/latex": [
       "$\\left\\{\\begin{array}{l}\n",
       "\\left\\{ H(X) \\leq H(Y) \\right\\}\\\\\n",
       " \\vee\\\\\n",
       "\\left\\{ H(Y) \\leq H(X) \\right\\}\\\\\n",
       "\\end{array}\\right\\}$"
      ],
      "text/plain": [
       "(\n",
       "  (  H(X) <= H(Y)  )\n",
       " |\n",
       "  (  H(Y) <= H(X)  )\n",
       ")"
      ]
     },
     "execution_count": 24,
     "metadata": {},
     "output_type": "execute_result"
    }
   ],
   "source": [
    "(H(X) <= H(Y)) | (H(Y) <= H(X))"
   ]
  },
  {
   "cell_type": "markdown",
   "id": "312737a5",
   "metadata": {},
   "source": [
    "### 4.6 Simplifying Regions\n",
    "\n",
    "Calling <code>Region.simplified()</code> returns a simplified region where redundant inequalities are removed. This might take some time for complicated regions. <code>Region.simplified_quick()</code> is faster, but less thorough."
   ]
  },
  {
   "cell_type": "code",
   "execution_count": 25,
   "id": "5189b04c",
   "metadata": {},
   "outputs": [
    {
     "data": {
      "text/latex": [
       "$\\top$"
      ],
      "text/plain": [
       "universe()"
      ]
     },
     "execution_count": 25,
     "metadata": {},
     "output_type": "execute_result"
    }
   ],
   "source": [
    "((H(X) <= H(Y)) | (H(Y) <= H(X))).simplified()  # Is always true"
   ]
  },
  {
   "cell_type": "code",
   "execution_count": 26,
   "id": "981178dd",
   "metadata": {},
   "outputs": [
    {
     "data": {
      "text/latex": [
       "$ X \\leftrightarrow Y \\leftrightarrow Z \\leftrightarrow W$"
      ],
      "text/plain": [
       "markov(X, Y, Z, W) "
      ]
     },
     "execution_count": 26,
     "metadata": {},
     "output_type": "execute_result"
    }
   ],
   "source": [
    "(markov(X, Y, Z, W) & markov(X, Z, W)).simplified()  # markov(X, Z, W) is redundant"
   ]
  },
  {
   "cell_type": "code",
   "execution_count": 27,
   "id": "39cbe842",
   "metadata": {},
   "outputs": [
    {
     "data": {
      "text/latex": [
       "$\\left\\{\\begin{array}{l}\n",
       "  R \\geq H(Y),\\\\\n",
       "  X \\leftrightarrow Y \\leftrightarrow Z\\\\\n",
       "\\end{array} \\right\\}$"
      ],
      "text/plain": [
       "( ( R >= H(Y) )\n",
       " &( markov(X, Y, Z) ) )"
      ]
     },
     "execution_count": 27,
     "metadata": {},
     "output_type": "execute_result"
    }
   ],
   "source": [
    "(markov(X, Y, Z) & (R >= H(Y)) & (R >= I(X & Z))).simplified()  # R >= I(X & Z) redundant"
   ]
  },
  {
   "cell_type": "markdown",
   "id": "3dbb7877",
   "metadata": {},
   "source": [
    "Remark: <code>???.simplified()</code> works on expressions as well."
   ]
  },
  {
   "cell_type": "markdown",
   "id": "27981bf7",
   "metadata": {},
   "source": [
    "### 4.7 Substitution\n",
    "\n",
    "If we want to replace occurences of X by Y in a region or expression, use <code>???.subs(X, Y)</code> or <code>???.subs(X = Y)</code> (not recommended)."
   ]
  },
  {
   "cell_type": "code",
   "execution_count": 28,
   "id": "3bb9ca1c",
   "metadata": {},
   "outputs": [
    {
     "data": {
      "text/latex": [
       "$ (U, V) \\leftrightarrow Y \\leftrightarrow Z$"
      ],
      "text/plain": [
       "markov(U+V, Y, Z) "
      ]
     },
     "execution_count": 28,
     "metadata": {},
     "output_type": "execute_result"
    }
   ],
   "source": [
    "markov(X, Y, Z).subs(X, U+V)"
   ]
  },
  {
   "cell_type": "markdown",
   "id": "a7f932be",
   "metadata": {},
   "source": [
    "To carry out multiple substitutions, for example, replacing X1 by Y1 and replacing X2 by Y2, use <code>???.subs(X1, Y1, X2, Y2)</code>. In particular, to swap X and Y, use <code>???.subs(X, Y, Y, X)</code>."
   ]
  },
  {
   "cell_type": "code",
   "execution_count": 29,
   "id": "699c3c1f",
   "metadata": {},
   "outputs": [
    {
     "data": {
      "text/latex": [
       "$ Y \\leftrightarrow X \\leftrightarrow Z$"
      ],
      "text/plain": [
       "markov(Y, X, Z) "
      ]
     },
     "execution_count": 29,
     "metadata": {},
     "output_type": "execute_result"
    }
   ],
   "source": [
    "markov(X, Y, Z).subs(X, Y, Y, X)"
   ]
  },
  {
   "cell_type": "markdown",
   "id": "38f13b03",
   "metadata": {},
   "source": [
    "-----\n",
    "## 5. Implication and Proof\n",
    "\n",
    "To check whether the constrains in r1 imply the constraints in r2 (i.e., whether the region r1 is a subset of the region r2), use <code>bool(r1 >> r2)</code>. For example, if X is a function of (Y,Z), then $H(X) \\le H(Y) + H(Z)$:"
   ]
  },
  {
   "cell_type": "code",
   "execution_count": 30,
   "id": "c96ab746",
   "metadata": {},
   "outputs": [
    {
     "data": {
      "text/plain": [
       "True"
      ]
     },
     "execution_count": 30,
     "metadata": {},
     "output_type": "execute_result"
    }
   ],
   "source": [
    "bool(~H(X | Y+Z) >> (H(X) <= H(Y) + H(Z)))"
   ]
  },
  {
   "cell_type": "markdown",
   "id": "0b7e978d",
   "metadata": {},
   "source": [
    "Note that <code>r1 >> r2</code> returns a <code>Region</code>, and is logically equivalent to <code>~r1 | r2</code> (i.e., (NOT r1) OR r2). Any operation that can be performed on <code>Region</code> (e.g., intersection, union, negation, implication) can be performed on <code>r1 >> r2</code> as well.\n",
    "\n",
    "To show the proof of an implication, use <code>(r1 >> r2).solve(full=True)</code> or <code>(r1 >> r2).proof()</code>:"
   ]
  },
  {
   "cell_type": "code",
   "execution_count": 31,
   "id": "db2d57db",
   "metadata": {},
   "outputs": [
    {
     "data": {
      "text/latex": [
       "$\\begin{align*}\n",
       "& \\begin{array}{l}\n",
       "\\mathrm{True}\\\\\n",
       "\\end{array}\\\\\n",
       "\\\\\n",
       "&H(X)\\\\\n",
       "&= I(X; Y, Z)\\;\\;\\;{\\color{blue}{\\left(\\because\\, H(X|Y, Z) = 0\\right)}}\\\\\n",
       "&\\leq H(Y, Z)\\\\\n",
       "&\\leq H(Y)+H(Z)\\\\\n",
       "\\end{align*}\n",
       "$"
      ],
      "text/plain": [
       "True\n",
       "\n",
       "\n",
       "H(X)\n",
       "= I(X&Y+Z)   (since H(X|Y+Z) == 0 )\n",
       "<= H(Y+Z)\n",
       "<= H(Y)+H(Z)"
      ]
     },
     "execution_count": 31,
     "metadata": {},
     "output_type": "execute_result"
    }
   ],
   "source": [
    "(~H(X | Y+Z) >> (H(X) <= H(Y) + H(Z))).solve(full=True)"
   ]
  },
  {
   "cell_type": "markdown",
   "id": "733a0d7f",
   "metadata": {},
   "source": [
    "If an implication is false, <code>(r1 >> r2).solve(full=True)</code> may provide a counter-example:"
   ]
  },
  {
   "cell_type": "code",
   "execution_count": 32,
   "id": "e583337e",
   "metadata": {},
   "outputs": [
    {
     "data": {
      "text/latex": [
       "$\\begin{array}{l}\n",
       "\\mathrm{False}\\\\\n",
       "\\\\\n",
       "\\begin{array}{l}\n",
       "P(X, Y, Z) = \\left[ \\begin{array}{cc}\n",
       "0 & 0\\\\\n",
       "\\frac{1}{2} & 0\\\\\n",
       "\\hline\n",
       "\\frac{1}{2} & 0\\\\\n",
       "0 & 0\\end{array}\\right]\\\\\n",
       "\\end{array}\\\\\n",
       "\\end{array}$"
      ],
      "text/plain": [
       "False\n",
       "\n",
       "P(X+Y+Z) = tensor([[[0.0000, 0.0000],\n",
       "         [0.5000, 0.0000]],\n",
       "\n",
       "        [[0.5000, 0.0000],\n",
       "         [0.0000, 0.0000]]], dtype=torch.float64, grad_fn=<CopySlices>)\n"
      ]
     },
     "execution_count": 32,
     "metadata": {},
     "output_type": "execute_result"
    }
   ],
   "source": [
    "(~H(X | Y+Z) >> (H(X) * 2 <= H(Y) + H(Z))).solve(full=True)"
   ]
  },
  {
   "cell_type": "markdown",
   "id": "ea2ce4aa",
   "metadata": {},
   "source": [
    "Logical equivalence (i.e., r1 if and only if r2) is denoted as <code>r1 == r2</code>. For example, if $H(X | Y, Z)=0$, then $H(X)=H(Y)+H(Z)$ if and only if $Y \\perp\\!\\!\\perp Z$ AND $H(Y,Z|X)=0$:"
   ]
  },
  {
   "cell_type": "code",
   "execution_count": 33,
   "id": "c6d891de",
   "metadata": {},
   "outputs": [
    {
     "data": {
      "text/latex": [
       "$\\begin{align*}\n",
       "& \\begin{array}{l}\n",
       "\\mathrm{True}\\\\\n",
       "\\end{array}\\\\\n",
       "\\\\\n",
       "&1.\\;\\text{Steps: }\\\\\n",
       "&I(Y; Z)\\\\\n",
       "&= H(X)-H(Y, Z)\\;\\;\\;{\\color{blue}{\\left(\\because\\, H(X) = H(Y)+H(Z)\\right)}}\\\\\n",
       "&\\leq H(X|Y, Z)\\\\\n",
       "&= 0\\;\\;\\;{\\color{blue}{\\left(\\because\\, H(X|Y, Z) = 0\\right)}}\\\\\n",
       "\\\\\n",
       "&2.\\;\\text{Steps: }\\\\\n",
       "&H(Y, Z|X)\\\\\n",
       "&= H(Y, Z)-H(X)\\;\\;\\;{\\color{blue}{\\left(\\because\\, H(X|Y, Z) = 0\\right)}}\\\\\n",
       "&= -I(Y; Z)\\;\\;\\;{\\color{blue}{\\left(\\because\\, H(X) = H(Y)+H(Z)\\right)}}\\\\\n",
       "&\\leq 0\\\\\n",
       "\\end{align*}\n",
       "$"
      ],
      "text/plain": [
       "True\n",
       "\n",
       "\n",
       "1. Steps: \n",
       "I(Y&Z)\n",
       "= H(X)-H(Y+Z)   (since H(X) == H(Y)+H(Z) )\n",
       "<= H(X|Y+Z)\n",
       "= 0   (since H(X|Y+Z) == 0 )\n",
       "\n",
       "2. Steps: \n",
       "H(Y+Z|X)\n",
       "= H(Y+Z)-H(X)   (since H(X|Y+Z) == 0 )\n",
       "= -I(Y&Z)   (since H(X) == H(Y)+H(Z) )\n",
       "<= 0"
      ]
     },
     "execution_count": 33,
     "metadata": {},
     "output_type": "execute_result"
    }
   ],
   "source": [
    "(~H(X | Y+Z) >> ((H(X) == H(Y) + H(Z)) == (indep(Y, Z) & ~H(Y+Z | X)))).solve(full=True)"
   ]
  },
  {
   "cell_type": "markdown",
   "id": "cfe17cf9",
   "metadata": {},
   "source": [
    "-----\n",
    "# Advanced Topics"
   ]
  },
  {
   "cell_type": "markdown",
   "id": "35b897fb",
   "metadata": {},
   "source": [
    "-----\n",
    "## 6. Existential and Universal Quantification\n",
    "\n",
    "### 6.1 Existentially-Quantified Real Variables and Projection\n",
    "\n",
    "For regions involving several real variables, sometimes we want to project it down to a lower dimensional space and remove some variables. For example, if a region $r(a,b)$ is a constraint on two real variables $a, b$, then calling <code>r.exists(a)</code> will give the region $\\exists a: r(a,b)$, i.e., we project it onto the $b$-axis so the resultant region will not involve $a$. For example:"
   ]
  },
  {
   "cell_type": "code",
   "execution_count": 34,
   "id": "580a2595",
   "metadata": {},
   "outputs": [
    {
     "data": {
      "text/latex": [
       "$\\left\\{\\begin{array}{l}\n",
       "  b \\geq 0,\\\\\n",
       "  b \\leq 2\\\\\n",
       "\\end{array} \\right\\}$"
      ],
      "text/plain": [
       "( ( b >= 0 )\n",
       " &( b <= 2 ) )"
      ]
     },
     "execution_count": 34,
     "metadata": {},
     "output_type": "execute_result"
    }
   ],
   "source": [
    "a, b, c = real(\"a, b, c\")\n",
    "region(a >= 0, b >= 0, a + 2*b <= 4).exists(a)"
   ]
  },
  {
   "cell_type": "markdown",
   "id": "999b7e2a",
   "metadata": {},
   "source": [
    "Alternatively, calling <code>r.projected(b)</code> will project it onto the $b$-axis, removing all real variables except $b$."
   ]
  },
  {
   "cell_type": "code",
   "execution_count": 35,
   "id": "f0404e5e",
   "metadata": {},
   "outputs": [
    {
     "data": {
      "text/latex": [
       "$\\left\\{\\begin{array}{l}\n",
       "  b \\geq 0,\\\\\n",
       "  b \\leq 2\\\\\n",
       "\\end{array} \\right\\}$"
      ],
      "text/plain": [
       "( ( b >= 0 )\n",
       " &( b <= 2 ) )"
      ]
     },
     "execution_count": 35,
     "metadata": {},
     "output_type": "execute_result"
    }
   ],
   "source": [
    "region(a >= 0, b >= 0, a + 2*b <= 4).projected(b)"
   ]
  },
  {
   "cell_type": "markdown",
   "id": "44c1c4da",
   "metadata": {},
   "source": [
    "One may also project a region along other directions. For example, calling <code>r.projected(c == a + b)</code> project the region along the $a+b$ direction, mathematically equivalent to $\\exists a \\exists b: (r(a,b) \\wedge (c=a+b))$."
   ]
  },
  {
   "cell_type": "code",
   "execution_count": 36,
   "id": "51db4d09",
   "metadata": {},
   "outputs": [
    {
     "data": {
      "text/latex": [
       "$\\left\\{\\begin{array}{l}\n",
       "  c \\geq 0,\\\\\n",
       "  c \\leq 4\\\\\n",
       "\\end{array} \\right\\}$"
      ],
      "text/plain": [
       "( ( c >= 0 )\n",
       " &( c <= 4 ) )"
      ]
     },
     "execution_count": 36,
     "metadata": {},
     "output_type": "execute_result"
    }
   ],
   "source": [
    "region(a >= 0, b >= 0, a + 2*b <= 4).projected(c == a + b)"
   ]
  },
  {
   "cell_type": "markdown",
   "id": "978f019c",
   "metadata": {},
   "source": [
    "Projecting to $a$ and $c=a+b$ performs a change of basis from $a,b$ to $a, c$."
   ]
  },
  {
   "cell_type": "code",
   "execution_count": 37,
   "id": "686e8ec3",
   "metadata": {},
   "outputs": [
    {
     "data": {
      "text/latex": [
       "$\\left\\{\\begin{array}{l}\n",
       "  a \\geq 0,\\\\\n",
       "  a \\leq c,\\\\\n",
       "  2c-a \\leq 4\\\\\n",
       "\\end{array} \\right\\}$"
      ],
      "text/plain": [
       "( ( a >= 0 )\n",
       " &( a <= c )\n",
       " &( 2*c-a <= 4 ) )"
      ]
     },
     "execution_count": 37,
     "metadata": {},
     "output_type": "execute_result"
    }
   ],
   "source": [
    "region(a >= 0, b >= 0, a + 2*b <= 4).projected([a, c == a + b])"
   ]
  },
  {
   "cell_type": "markdown",
   "id": "863d2b25",
   "metadata": {},
   "source": [
    "Projection is often performed in network information theory to remove rate variables. Internally, projection is performed via Fourier-Motzkin elimination. For example, consider the Slepian-Wolf rate region (Slepian & Wolf, 1973):"
   ]
  },
  {
   "cell_type": "code",
   "execution_count": 38,
   "id": "58e10abd",
   "metadata": {},
   "outputs": [
    {
     "data": {
      "text/latex": [
       "$\\left\\{\\begin{array}{l}\n",
       "  R_1 \\geq H(X|Y),\\\\\n",
       "  R_2 \\geq H(Y|X),\\\\\n",
       "  R_1+R_2 \\geq H(X, Y)\\\\\n",
       "\\end{array} \\right\\}$"
      ],
      "text/plain": [
       "( ( R_1 >= H(X|Y) )\n",
       " &( R_2 >= H(Y|X) )\n",
       " &( R_1+R_2 >= H(X+Y) ) )"
      ]
     },
     "execution_count": 38,
     "metadata": {},
     "output_type": "execute_result"
    }
   ],
   "source": [
    "R1, R2 = real_array(\"R\", [1, 2])\n",
    "S = real(\"S\")\n",
    "\n",
    "r = region(\n",
    "    R1 >= H(X | Y),\n",
    "    R2 >= H(Y | X),\n",
    "    R1+R2 >= H(X + Y)\n",
    ")\n",
    "r"
   ]
  },
  {
   "cell_type": "markdown",
   "id": "6e0e414f",
   "metadata": {},
   "source": [
    "If there is no constraint on $R_2$ (we can choose any $R_2$), then the lowest $R_1$ is $H(X|Y)$ since we can just take $R_2 \\to \\infty$."
   ]
  },
  {
   "cell_type": "code",
   "execution_count": 39,
   "id": "072a3328",
   "metadata": {},
   "outputs": [
    {
     "data": {
      "text/latex": [
       "$ R_1 \\geq H(X|Y)$"
      ],
      "text/plain": [
       "R_1 >= H(X|Y) "
      ]
     },
     "execution_count": 39,
     "metadata": {},
     "output_type": "execute_result"
    }
   ],
   "source": [
    "r.exists(R2)"
   ]
  },
  {
   "cell_type": "markdown",
   "id": "f6ca0c37",
   "metadata": {},
   "source": [
    "On the other hand, if $R_2$ is set to 0, then the lowest $R_1$ is $H(X)$, and we also need $H(Y|X)=0$ for decoding to be possible."
   ]
  },
  {
   "cell_type": "code",
   "execution_count": 40,
   "id": "31dde87f",
   "metadata": {},
   "outputs": [
    {
     "data": {
      "text/latex": [
       "$\\left\\{\\begin{array}{l}\n",
       "  R_1 \\geq H(X),\\\\\n",
       "  R_2 = 0,\\\\\n",
       "  H(Y|X) = 0\\\\\n",
       "\\end{array} \\right\\}$"
      ],
      "text/plain": [
       "( ( R_1 >= H(X) )\n",
       " &( R_2 == 0 )\n",
       " &( H(Y|X) == 0 ) )"
      ]
     },
     "execution_count": 40,
     "metadata": {},
     "output_type": "execute_result"
    }
   ],
   "source": [
    "(r & (R2 == 0)).simplified()"
   ]
  },
  {
   "cell_type": "markdown",
   "id": "92a55004",
   "metadata": {},
   "source": [
    "We can also substitute $R_2$ by 0 to deduce the same constraints."
   ]
  },
  {
   "cell_type": "code",
   "execution_count": 41,
   "id": "d3e123b7",
   "metadata": {},
   "outputs": [
    {
     "data": {
      "text/latex": [
       "$\\left\\{\\begin{array}{l}\n",
       "  R_1 \\geq H(X),\\\\\n",
       "  H(Y|X) = 0\\\\\n",
       "\\end{array} \\right\\}$"
      ],
      "text/plain": [
       "( ( R_1 >= H(X) )\n",
       " &( H(Y|X) == 0 ) )"
      ]
     },
     "execution_count": 41,
     "metadata": {},
     "output_type": "execute_result"
    }
   ],
   "source": [
    "r.subs(R2, 0).simplified()"
   ]
  },
  {
   "cell_type": "markdown",
   "id": "4b248c23",
   "metadata": {},
   "source": [
    "If we only care about the sum rate $S = R_1+R_2$, then we only need $S \\ge H(X,Y)$."
   ]
  },
  {
   "cell_type": "code",
   "execution_count": 42,
   "id": "cc5f0d12",
   "metadata": {},
   "outputs": [
    {
     "data": {
      "text/latex": [
       "$ S \\geq H(X, Y)$"
      ],
      "text/plain": [
       "S >= H(X+Y) "
      ]
     },
     "execution_count": 42,
     "metadata": {},
     "output_type": "execute_result"
    }
   ],
   "source": [
    "r.projected(S == R1 + R2)"
   ]
  },
  {
   "cell_type": "markdown",
   "id": "7fb7b5fb",
   "metadata": {},
   "source": [
    "### 6.2 Existentially-Quantified (Auxiliary) Random Variables\n",
    "\n",
    "In network information theory, rate regions are often expressed as \"there exists a random variable U such that ...\". The U is called an *auxiliary random variable*. The function <code>r.exists(U)</code> returns the region $\\exists U: r$. For example, the capacity region of the degraded broadcast channel $p(y|x)p(z|y)$ (Bergmans, 1973; Gallager, 1974):\n",
    "$$\\exists U: \\, 0 \\le R_1 \\le I(X;Y|U), 0 \\le R_2 \\le I(U;Z), U\\leftrightarrow X\\leftrightarrow Y\\leftrightarrow Z $$\n",
    "can be expressed as:"
   ]
  },
  {
   "cell_type": "code",
   "execution_count": 43,
   "id": "10953a7b",
   "metadata": {},
   "outputs": [
    {
     "data": {
      "text/latex": [
       "$\\exists U:\\, \\left\\{\\begin{array}{l}\n",
       "  R_1 \\geq 0,\\\\\n",
       "  R_2 \\geq 0,\\\\\n",
       "  R_1 \\leq I(X; Y|U),\\\\\n",
       "  R_2 \\leq I(U; Z),\\\\\n",
       "  U \\leftrightarrow X \\leftrightarrow Y \\leftrightarrow Z\\\\\n",
       "\\end{array} \\right\\}$"
      ],
      "text/plain": [
       "( ( R_1 >= 0 )\n",
       " &( R_2 >= 0 )\n",
       " &( R_1 <= I(X&Y|U) )\n",
       " &( R_2 <= I(U&Z) )\n",
       " &( markov(U, X, Y, Z) ) ).exists(U)"
      ]
     },
     "execution_count": 43,
     "metadata": {},
     "output_type": "execute_result"
    }
   ],
   "source": [
    "R1, R2 = real_array(\"R\", [1, 2])\n",
    "S = real(\"S\")\n",
    "\n",
    "dbc = region(\n",
    "    R1 >= 0,\n",
    "    R2 >= 0,\n",
    "    R1 <= I(X & Y | U),\n",
    "    R2 <= I(U & Z),\n",
    "    markov(U, X, Y, Z)\n",
    ").exists(U)\n",
    "dbc"
   ]
  },
  {
   "cell_type": "markdown",
   "id": "3a1c7b6e",
   "metadata": {},
   "source": [
    "Note that the above region is a statement about $X, Y, Z, R_1, R_2$, not about $U$. The $U$ is a \"local variable\" that only exists inside of the region. As an analogy, the statement \"$\\exists k \\in \\mathbb{Z}: n = 2k$\" (which checks whether $n$ is even) is a statement about $n$, not about $k$. Calling <code>r.exists(U)</code> logically \"eliminates\" U (the resultant region is no longer logically a statement about U), but does not internally eliminate U (it merely marks U as an auxiliary random variable).\n",
    "\n",
    "The return value of <code>r.exists(U)</code> is a <code>Region</code> that supports all aforementioned operations on regions. For example, we can perform projection. Calling <code>simplified</code> can sometimes completely eliminate an auxiliary random variable U if the program can find an equivalent region that does not involve the auxiliary. For example:"
   ]
  },
  {
   "cell_type": "code",
   "execution_count": 44,
   "id": "08be95cc",
   "metadata": {},
   "outputs": [
    {
     "data": {
      "text/latex": [
       "$\\left\\{\\begin{array}{l}\n",
       "  R_2 \\geq 0,\\\\\n",
       "  R_2 \\leq I(X; Z),\\\\\n",
       "  R_1 = 0,\\\\\n",
       "  X \\leftrightarrow Y \\leftrightarrow Z\\\\\n",
       "\\end{array} \\right\\}$"
      ],
      "text/plain": [
       "( ( R_2 >= 0 )\n",
       " &( R_2 <= I(X&Z) )\n",
       " &( R_1 == 0 )\n",
       " &( markov(X, Y, Z) ) )"
      ]
     },
     "execution_count": 44,
     "metadata": {},
     "output_type": "execute_result"
    }
   ],
   "source": [
    "# Fix R1 == 0, the auxiliary U can be eliminated\n",
    "(dbc & (R1 == 0)).simplified()"
   ]
  },
  {
   "cell_type": "code",
   "execution_count": 45,
   "id": "a8517264",
   "metadata": {},
   "outputs": [
    {
     "data": {
      "text/latex": [
       "$\\left\\{\\begin{array}{l}\n",
       "  S \\geq 0,\\\\\n",
       "  S \\leq I(X; Y),\\\\\n",
       "  X \\leftrightarrow Y \\leftrightarrow Z\\\\\n",
       "\\end{array} \\right\\}$"
      ],
      "text/plain": [
       "( ( S >= 0 )\n",
       " &( S <= I(X&Y) )\n",
       " &( markov(X, Y, Z) ) )"
      ]
     },
     "execution_count": 45,
     "metadata": {},
     "output_type": "execute_result"
    }
   ],
   "source": [
    "# Project to S == R1+R2 to obtain constraints on sum rate\n",
    "dbc.projected(S == R1+R2).simplified()"
   ]
  },
  {
   "cell_type": "markdown",
   "id": "cc06bc52",
   "metadata": {},
   "source": [
    "We can use <code>r1 >> r2</code> to check that whether the region r1 is a subset of the region r2. This is useful for comparing rate regions. For example, consider the following equivalent form of the capacity region:"
   ]
  },
  {
   "cell_type": "code",
   "execution_count": 46,
   "id": "0b9c7f68",
   "metadata": {},
   "outputs": [
    {
     "data": {
      "text/latex": [
       "$\\exists U:\\, \\left\\{\\begin{array}{l}\n",
       "  R_1 \\geq 0,\\\\\n",
       "  R_2 \\geq 0,\\\\\n",
       "  R_2 \\leq I(U; Z),\\\\\n",
       "  R_1+R_2 \\leq I(U; Z)+I(X; Y|U),\\\\\n",
       "  U \\leftrightarrow X \\leftrightarrow Y \\leftrightarrow Z\\\\\n",
       "\\end{array} \\right\\}$"
      ],
      "text/plain": [
       "( ( R_1 >= 0 )\n",
       " &( R_2 >= 0 )\n",
       " &( R_2 <= I(U&Z) )\n",
       " &( R_1+R_2 <= I(U&Z)+I(X&Y|U) )\n",
       " &( markov(U, X, Y, Z) ) ).exists(U)"
      ]
     },
     "execution_count": 46,
     "metadata": {},
     "output_type": "execute_result"
    }
   ],
   "source": [
    "dbc2 = region(\n",
    "    R1 >= 0,\n",
    "    R2 >= 0,\n",
    "    R2 <= I(U & Z),\n",
    "    R1 + R2 <= I(U & Z) + I(X & Y | U),\n",
    "    markov(U, X, Y, Z)\n",
    ").exists(U)\n",
    "dbc2"
   ]
  },
  {
   "cell_type": "code",
   "execution_count": 47,
   "id": "442e8054",
   "metadata": {},
   "outputs": [
    {
     "data": {
      "text/latex": [
       "$\\begin{align*}\n",
       "& \\begin{array}{l}\n",
       "\\mathrm{True}\\\\\n",
       "\\end{array}\\\\\n",
       "\\\\\n",
       "&1.\\;\\text{Claim:}\\\\\n",
       "&\\exists U:\\, \\left\\{\\begin{array}{l}\n",
       "  R_1 \\geq 0,\\\\\n",
       "  R_2 \\geq 0,\\\\\n",
       "  R_1 \\leq I(X; Y|U),\\\\\n",
       "  R_2 \\leq I(U; Z),\\\\\n",
       "  U \\leftrightarrow X \\leftrightarrow Y \\leftrightarrow Z\\\\\n",
       "\\end{array} \\right\\}\\\\\n",
       "\\\\\n",
       "&\\;\\;1.1.\\;\\text{Substitute }U := U_1\\text{:}\\\\\n",
       "\\\\\n",
       "&\\;\\;1.2.\\;\\text{Steps: }\\\\\n",
       "&\\;\\;R_1\\\\\n",
       "&\\;\\;\\leq I(U_1; Z)+I(X; Y|U_1)-R_2\\;\\;\\;{\\color{blue}{\\left(\\because\\, R_1+R_2 \\leq I(U_1; Z)+I(X; Y|U_1)\\right)}}\\\\\n",
       "&\\;\\;= I(X; Y|U_1)\\;\\;\\;{\\color{blue}{\\left(\\because\\, R_2 = I(U_1; Z)\\right)}}\\\\\n",
       "\\end{align*}\n",
       "$"
      ],
      "text/plain": [
       "True\n",
       "\n",
       "\n",
       "1. Claim:\n",
       "( ( R_1 >= 0 )\n",
       " &( R_2 >= 0 )\n",
       " &( R_1 <= I(X&Y|U) )\n",
       " &( R_2 <= I(U&Z) )\n",
       " &( markov(U, X, Y, Z) ) ).exists(U)\n",
       "\n",
       "  1.1. Substitute CompArray(\n",
       "[[U, U_1]]):\n",
       "\n",
       "  1.2. Steps: \n",
       "  R_1\n",
       "  <= I(U_1&Z)+I(X&Y|U_1)-R_2   (since R_1+R_2 <= I(U_1&Z)+I(X&Y|U_1) )\n",
       "  = I(X&Y|U_1)   (since R_2 == I(U_1&Z) )"
      ]
     },
     "execution_count": 47,
     "metadata": {},
     "output_type": "execute_result"
    }
   ],
   "source": [
    "(dbc2 >> dbc).solve(full=True)  # r2 is a subset of r"
   ]
  },
  {
   "cell_type": "code",
   "execution_count": 48,
   "id": "92963950",
   "metadata": {},
   "outputs": [
    {
     "data": {
      "text/latex": [
       "$\\begin{align*}\n",
       "& \\begin{array}{l}\n",
       "\\mathrm{True}\\\\\n",
       "\\end{array}\\\\\n",
       "\\\\\n",
       "&1.\\;\\text{Claim:}\\\\\n",
       "&\\exists U:\\, \\left\\{\\begin{array}{l}\n",
       "  R_1 \\geq 0,\\\\\n",
       "  R_2 \\geq 0,\\\\\n",
       "  R_2 \\leq I(U; Z),\\\\\n",
       "  R_1+R_2 \\leq I(U; Z)+I(X; Y|U),\\\\\n",
       "  U \\leftrightarrow X \\leftrightarrow Y \\leftrightarrow Z\\\\\n",
       "\\end{array} \\right\\}\\\\\n",
       "\\\\\n",
       "&\\;\\;1.1.\\;\\text{Substitute }U := U_1\\text{:}\\\\\n",
       "\\\\\n",
       "&\\;\\;1.2.\\;\\text{Steps: }\\\\\n",
       "&\\;\\;R_1+R_2\\\\\n",
       "&\\;\\;= I(U_1; Z)+R_1\\;\\;\\;{\\color{blue}{\\left(\\because\\, R_2 = I(U_1; Z)\\right)}}\\\\\n",
       "&\\;\\;\\leq I(U_1; Z)+I(X; Y|U_1)\\;\\;\\;{\\color{blue}{\\left(\\because\\, R_1 \\leq I(X; Y|U_1)\\right)}}\\\\\n",
       "\\end{align*}\n",
       "$"
      ],
      "text/plain": [
       "True\n",
       "\n",
       "\n",
       "1. Claim:\n",
       "( ( R_1 >= 0 )\n",
       " &( R_2 >= 0 )\n",
       " &( R_2 <= I(U&Z) )\n",
       " &( R_1+R_2 <= I(U&Z)+I(X&Y|U) )\n",
       " &( markov(U, X, Y, Z) ) ).exists(U)\n",
       "\n",
       "  1.1. Substitute CompArray(\n",
       "[[U, U_1]]):\n",
       "\n",
       "  1.2. Steps: \n",
       "  R_1+R_2\n",
       "  = I(U_1&Z)+R_1   (since R_2 == I(U_1&Z) )\n",
       "  <= I(U_1&Z)+I(X&Y|U_1)   (since R_1 <= I(X&Y|U_1) )"
      ]
     },
     "execution_count": 48,
     "metadata": {},
     "output_type": "execute_result"
    }
   ],
   "source": [
    "(dbc >> dbc2).solve(full=True)  # r is a subset of r2"
   ]
  },
  {
   "cell_type": "markdown",
   "id": "50a2f11d",
   "metadata": {},
   "source": [
    "### 6.3 Universally-Quantified Random Variables\n",
    "\n",
    "PSITIP supports any first-order logic statement about random variables. Random variables can not only be existentially quantified (there exists), but also be universally quantified (for all). The function <code>r.forall(U)</code> returns the region $\\forall U: r$. This is sometimes useful in network information theory. For example, the condition that $p(y|x)$ is less noisy than $p(z|x)$ (Körner-Marton 1975)\n",
    "$$\\forall U:\\, (U \\leftrightarrow X \\leftrightarrow (Y,Z)) \\to I(U;X) \\ge I(U;Y),$$\n",
    "i.e., for every U such that $U \\leftrightarrow X \\leftrightarrow (Y,Z)$, we have $I(U;X) \\ge I(U;Y)$, can be expressed as:"
   ]
  },
  {
   "cell_type": "code",
   "execution_count": 49,
   "id": "d10d99a3",
   "metadata": {},
   "outputs": [
    {
     "data": {
      "text/latex": [
       "$\\forall U:\\, \\left\\{\\begin{array}{l}\n",
       "\\displaystyle (Y, Z) \\leftrightarrow X \\leftrightarrow U\\\\\n",
       "\\displaystyle \\Rightarrow \\; I(U; Z) \\leq I(U; Y)\\\\\n",
       "\\end{array}\\right\\}$"
      ],
      "text/plain": [
       "((  markov(Y+Z, X, U)  )\n",
       ">> (  I(U&Z) <= I(U&Y)  )).forall(U)"
      ]
     },
     "execution_count": 49,
     "metadata": {},
     "output_type": "execute_result"
    }
   ],
   "source": [
    "lessnoisy = (markov(U, X, Y+Z) >> (I(U & Y) >= I(U & Z))).forall(U)\n",
    "lessnoisy"
   ]
  },
  {
   "cell_type": "code",
   "execution_count": 50,
   "id": "62ca0242",
   "metadata": {},
   "outputs": [
    {
     "data": {
      "text/latex": [
       "$\\begin{array}{l}\n",
       "\\mathrm{True}\\\\\n",
       "\\left\\{ \\begin{array}{ll}\n",
       "U & := X\\\\\n",
       "U & := \\emptyset\\end{array}\\right.\\\\\n",
       "\\end{array}$"
      ],
      "text/plain": [
       "True\n",
       "CompArray(\n",
       "[[U, X],\n",
       " [U, rv()]])"
      ]
     },
     "execution_count": 50,
     "metadata": {},
     "output_type": "execute_result"
    }
   ],
   "source": [
    "(lessnoisy >> (I(X & Y) >= I(X & Z))).solve()"
   ]
  },
  {
   "cell_type": "markdown",
   "id": "dd15d54b",
   "metadata": {},
   "source": [
    "### 6.4 Discover Inequalities: Top-Down and Bottom-Up Projections\n",
    "\n",
    "PSITIP provides two methods to perform projection, i.e., discover the inequalities among a subset of the random variables and real variables entailed by a region, and eliminate all other variables:\n",
    "\n",
    "- **Top-down projection:** The aforementioned <code>exists</code> and <code>projected</code> functions perform Fourier-Motzkin elimination on real variables.\n",
    "  - Pros: Fast when eliminating a small number of real variables. Is mathematically exact.\n",
    "  - Cons: Does not eliminate random variables (it merely marks them as auxiliary symbolically). Slow when the number of real variables to be eliminated is large.\n",
    "\n",
    "- **Bottom-up projection:** The <code>Region.discover([X, Y, a, b])</code> function automatically discovers inequalities among the random variables X, Y and expressions a, b, subject to the constraints in the region. If no constraints are needed, use <code>region().discover([X, Y, a, b])</code> (<code>region()</code> is the \"universal set\" where no constraints are imposed). Internally, it uses the convex hull method for polyhedron projection (Lassez-Lassez 1991).\n",
    "  - Pros: Works for both random and real variables. Fast when eliminating most of the variables (leaving only at most 4 random variables).\n",
    "  - Cons: Slow when the number of random variables to be kept is greater than 4. Is only a conservative estimate of the projection (the returned region may be larger than the actual projection).\n",
    "\n",
    "In sum, use <code>exists</code> or <code>projected</code> if the number of real variables to be eliminated is small; use <code>discover</code> if the number of variables to be kept is small.\n",
    "\n",
    "Using the Slepian-Wolf rate region (Slepian & Wolf, 1973) as an example:"
   ]
  },
  {
   "cell_type": "code",
   "execution_count": 51,
   "id": "d1aa46f9",
   "metadata": {},
   "outputs": [
    {
     "data": {
      "text/latex": [
       "$ S \\geq H(X, Y)$"
      ],
      "text/plain": [
       "S >= H(X+Y) "
      ]
     },
     "execution_count": 51,
     "metadata": {},
     "output_type": "execute_result"
    }
   ],
   "source": [
    "R1, R2 = real_array(\"R\", [1, 2])\n",
    "S = real(\"S\")\n",
    "\n",
    "r = region(\n",
    "    R1 >= H(X | Y),\n",
    "    R2 >= H(Y | X),\n",
    "    R1+R2 >= H(X + Y)\n",
    ")\n",
    "# r.discover([X, Y, R1])  # Same result as r.projected(R1) or r.exists(R2)\n",
    "(r & (S == R1 + R2)).discover([X, Y, S])  # Same result as r.projected(S == R1 + R2)"
   ]
  },
  {
   "cell_type": "markdown",
   "id": "384d5eca",
   "metadata": {},
   "source": [
    "A useful application of <code>discover</code> is to discover non-Shannon inequalities. For example, we now use the copy lemma to derive the Zhang-Yeung inequality (Zhang-Yeung 1998). The copy lemma states that for any random variables X, Y, Z, W, there exists a random variable U such that (X, Y, U) has the same joint distribution as (X, Y, Z), and $U \\leftrightarrow (X,Y) \\leftrightarrow (Z,W)$. We use <code>discover</code> to discover all inequalities among X, Y, Z, W (eliminating U) implied by the copy lemma."
   ]
  },
  {
   "cell_type": "code",
   "execution_count": 52,
   "id": "0648c386",
   "metadata": {},
   "outputs": [
    {
     "data": {
      "text/latex": [
       "$\\left\\{\\begin{array}{l}\n",
       "  I(W; X; Z) \\leq 2I(X; Z|Y)+I(W; Y)+I(X; Y|Z)+I(Y; Z|X),\\\\\n",
       "  I(W; Y; Z) \\leq 2I(Y; Z|X)+I(W; X)+I(X; Y|Z)+I(X; Z|Y),\\\\\n",
       "  I(X; Y; Z) \\leq I(W; Z)+I(X; Y|W)+I(X; Y|Z)+I(X; Z|Y)+I(Y; Z|X)\\\\\n",
       "\\end{array} \\right\\}$"
      ],
      "text/plain": [
       "( ( I(W&X&Z) <= 2*I(X&Z|Y)+I(W&Y)+I(X&Y|Z)+I(Y&Z|X) )\n",
       " &( I(W&Y&Z) <= 2*I(Y&Z|X)+I(W&X)+I(X&Y|Z)+I(X&Z|Y) )\n",
       " &( I(X&Y&Z) <= I(W&Z)+I(X&Y|W)+I(X&Y|Z)+I(X&Z|Y)+I(Y&Z|X) ) )"
      ]
     },
     "execution_count": 52,
     "metadata": {},
     "output_type": "execute_result"
    }
   ],
   "source": [
    "# State the copy lemma\n",
    "# eqdist([X, Y, U], [X, Y, Z]) means that [X, Y, U] has the same joint\n",
    "# distribution as [X, Y, Z], but only equalities of joint entropies are enforced\n",
    "r = eqdist([X, Y, U], [X, Y, Z]) & markov(U, X+Y, Z+W)\n",
    "\n",
    "# Automatically discover non-Shannon-type inequalities using copy lemma\n",
    "r.discover([X, Y, Z, W]).simplified()"
   ]
  },
  {
   "cell_type": "markdown",
   "id": "bb51355b",
   "metadata": {},
   "source": [
    "Another useful application of <code>discover</code> is to discover outer bounds of the capacity region in network information theory, to be discussed later."
   ]
  },
  {
   "cell_type": "markdown",
   "id": "007e4080",
   "metadata": {},
   "source": [
    "-----\n",
    "## 7. User-Defined Information Quantities\n",
    "\n",
    "It is possible to define new quantities via constrained minimization/maximization. The function <code>r.maximum(a, X)</code> returns the quantity (<code>Expr</code> object) given by maximizing <code>a</code> (<code>Expr</code> object) subject to the constraint <code>r</code> (<code>Region</code> object) over the random variable <code>X</code> (<code>Comp</code> object). For example, the information bottleneck (Tishby-Pereira-Bialek 1999) $\\max_{U:\\, U \\leftrightarrow X \\leftrightarrow Y,\\, I(X;U)\\le t} I(Y;U)$ is expressed as:"
   ]
  },
  {
   "cell_type": "code",
   "execution_count": 53,
   "id": "622a75f5",
   "metadata": {},
   "outputs": [
    {
     "data": {
      "text/latex": [
       "$\\sup_{U:\\,  t \\geq I(X; U),\\;  U \\leftrightarrow X \\leftrightarrow Y}I(Y; U)$"
      ],
      "text/plain": [
       "(( ( t >= I(X&U) )\n",
       " &( markov(U, X, Y) ) ).exists(U)).maximum(I(Y&U))"
      ]
     },
     "execution_count": 53,
     "metadata": {},
     "output_type": "execute_result"
    }
   ],
   "source": [
    "X, Y, U = rv(\"X, Y, U\")\n",
    "t = real(\"t\")\n",
    "s1, s2 = real_array(\"s\", [1, 2])\n",
    "\n",
    "(markov(U, X, Y) & (I(X & U) <= t)).maximum(I(Y & U), U)"
   ]
  },
  {
   "cell_type": "markdown",
   "id": "f07eb6f5",
   "metadata": {},
   "source": [
    "For the sake of convenience, we define a function <code>info_bot(X, Y, t)</code>. We now use PSITIP to prove some properties of the information bottleneck:"
   ]
  },
  {
   "cell_type": "code",
   "execution_count": 54,
   "id": "8670e7d1",
   "metadata": {},
   "outputs": [
    {
     "data": {
      "text/latex": [
       "$\\begin{array}{l}\n",
       "\\mathrm{True}\\\\\n",
       "U := U_1\\\\\n",
       "\\end{array}$"
      ],
      "text/plain": [
       "True\n",
       "CompArray(\n",
       "[[U, U_1]])"
      ]
     },
     "execution_count": 54,
     "metadata": {},
     "output_type": "execute_result"
    }
   ],
   "source": [
    "def info_bot(X, Y, t):\n",
    "    U = rv(\"U\")\n",
    "    return (markov(U, X, Y) & (I(X & U) <= t)).maximum(I(Y & U), U)\n",
    "\n",
    "# Info bottleneck is non-decreasing\n",
    "((s1 <= s2) >> (info_bot(X, Y, s1) <= info_bot(X, Y, s2))).solve() "
   ]
  },
  {
   "cell_type": "code",
   "execution_count": 55,
   "id": "6c727316",
   "metadata": {},
   "outputs": [
    {
     "data": {
      "text/latex": [
       "$\\begin{array}{l}\n",
       "\\mathrm{True}\\\\\n",
       "U := U_1\\\\\n",
       "\\end{array}$"
      ],
      "text/plain": [
       "True\n",
       "CompArray(\n",
       "[[U, U_1]])"
      ]
     },
     "execution_count": 55,
     "metadata": {},
     "output_type": "execute_result"
    }
   ],
   "source": [
    "# If X, Y indep., then info_bot(X, Y, t) == 0\n",
    "(indep(X, Y) >> (info_bot(X, Y, t) == 0)).solve()"
   ]
  },
  {
   "cell_type": "code",
   "execution_count": 56,
   "id": "2b84ed91",
   "metadata": {},
   "outputs": [
    {
     "data": {
      "text/latex": [
       "$I(X; Y)$"
      ],
      "text/plain": [
       "I(X&Y)"
      ]
     },
     "execution_count": 56,
     "metadata": {},
     "output_type": "execute_result"
    }
   ],
   "source": [
    "# When t = H(X), info_bot(X, Y, t) always equals I(X;Y)\n",
    "info_bot(X, Y, H(X)).simplified()"
   ]
  },
  {
   "cell_type": "markdown",
   "id": "76948bef",
   "metadata": {},
   "source": [
    "PSITIP has various built-in information quantities (that are internally defined in the same manner as <code>info_bot</code> above). For example:\n",
    "\n",
    "- <code>gacs_korner(X & Y)</code>: Gács-Körner common information (Gács-Körner 1973) $K(X;Y) = \\sup_{p_{U|X,Y}: H(U|X)=H(U|Y)=0} H(U)$.\n",
    "- <code>wyner_ci(X & Y)</code>: Wyner's common information (Wyner 1975) $J(X;Y) = \\inf_{p_{U|X,Y}: I(X;Y|U)=0} I(U;X,Y)$.\n",
    "- <code>exact_ci(X & Y)</code> Common entropy (Kumar-Li-El Gamal 2014) $G(X;Y) = \\inf_{p_{U|X,Y}: I(X;Y|U)=0} H(U)$.\n",
    "\n",
    "See [Common Information](learnit_3_commoninfo.ipynb) for more details."
   ]
  },
  {
   "cell_type": "code",
   "execution_count": 57,
   "id": "d018f7cf",
   "metadata": {},
   "outputs": [
    {
     "data": {
      "text/latex": [
       "$ K(X; Y) = \\sup_{U:\\,  U \\leftrightarrow Y \\leftrightarrow X,\\;  U \\leftrightarrow X \\leftrightarrow Y}I(U; X, Y)$"
      ],
      "text/plain": [
       "gacs_korner(X&Y) == (( ( markov(U, Y, X) )\n",
       " &( markov(U, X, Y) ) ).exists(U)).maximum(I(U&X+Y)) "
      ]
     },
     "metadata": {},
     "output_type": "display_data"
    },
    {
     "data": {
      "text/latex": [
       "$ J(X; Y) = \\inf_{U:\\,  X \\leftrightarrow U \\leftrightarrow Y}I(U; X, Y)$"
      ],
      "text/plain": [
       "wyner_ci(X&Y) == (( ( markov(X, U, Y) ) ).exists(U)).minimum(I(U&X+Y)) "
      ]
     },
     "metadata": {},
     "output_type": "display_data"
    },
    {
     "data": {
      "text/latex": [
       "$ G(X; Y) = \\inf_{U:\\,  X \\leftrightarrow U \\leftrightarrow Y}H(U)$"
      ],
      "text/plain": [
       "exact_ci(X&Y) == (( ( markov(X, U, Y) ) ).exists(U)).minimum(H(U)) "
      ]
     },
     "metadata": {},
     "output_type": "display_data"
    }
   ],
   "source": [
    "display(gacs_korner(X & Y) == gacs_korner(X & Y).defn()) # Print definition\n",
    "display(wyner_ci(X & Y) == wyner_ci(X & Y).defn())\n",
    "display(exact_ci(X & Y) == exact_ci(X & Y).defn())"
   ]
  },
  {
   "cell_type": "code",
   "execution_count": 58,
   "id": "f1cd8ead",
   "metadata": {},
   "outputs": [
    {
     "data": {
      "text/latex": [
       "$\\begin{array}{l}\n",
       "\\mathrm{True}\\\\\n",
       "\\end{array}$"
      ],
      "text/plain": [
       "True"
      ]
     },
     "execution_count": 58,
     "metadata": {},
     "output_type": "execute_result"
    }
   ],
   "source": [
    "# Gács-Körner <= Wyner\n",
    "(gacs_korner(X & Y) <= wyner_ci(X & Y)).solve()"
   ]
  },
  {
   "cell_type": "markdown",
   "id": "c8260f60",
   "metadata": {},
   "source": [
    "Recall that the function <code>Region.discover([X, Y, a, b])</code> automatically discovers inequalities among the random variables X, Y and expressions a, b, subject to the constraints in the region. If no constraints are needed, use <code>region().discover([X, Y, a, b])</code> (<code>region()</code> is the \"universal set\" where no constraints are imposed)."
   ]
  },
  {
   "cell_type": "code",
   "execution_count": 59,
   "id": "7596d3ca",
   "metadata": {},
   "outputs": [
    {
     "data": {
      "text/latex": [
       "$\\left\\{\\begin{array}{l}\n",
       "  G(X; Y) \\leq H(X),\\\\\n",
       "  G(X; Y) \\leq H(Y),\\\\\n",
       "  I(X; Y) \\leq J(X; Y),\\\\\n",
       "  K(X; Y) \\geq 0,\\\\\n",
       "  K(X; Y) \\leq I(X; Y),\\\\\n",
       "  J(X; Y) \\leq G(X; Y)\\\\\n",
       "\\end{array} \\right\\}$"
      ],
      "text/plain": [
       "( ( exact_ci(X&Y) <= H(X) )\n",
       " &( exact_ci(X&Y) <= H(Y) )\n",
       " &( I(X&Y) <= wyner_ci(X&Y) )\n",
       " &( gacs_korner(X&Y) >= 0 )\n",
       " &( gacs_korner(X&Y) <= I(X&Y) )\n",
       " &( wyner_ci(X&Y) <= exact_ci(X&Y) ) )"
      ]
     },
     "execution_count": 59,
     "metadata": {},
     "output_type": "execute_result"
    }
   ],
   "source": [
    "region().discover([X, Y, gacs_korner(X & Y), wyner_ci(X & Y), exact_ci(X & Y)])"
   ]
  },
  {
   "cell_type": "code",
   "execution_count": 60,
   "id": "9aee7a55",
   "metadata": {},
   "outputs": [
    {
     "data": {
      "text/latex": [
       "$\\left\\{\\begin{array}{l}\n",
       "  G(X; Y) = H(Y),\\\\\n",
       "  G(X; Y) = J(X; Y),\\\\\n",
       "  K(X; Y) = G(X; Y),\\\\\n",
       "  H(Y|X) = 0\\\\\n",
       "\\end{array} \\right\\}$"
      ],
      "text/plain": [
       "( ( exact_ci(X&Y) == H(Y) )\n",
       " &( exact_ci(X&Y) == wyner_ci(X&Y) )\n",
       " &( gacs_korner(X&Y) == exact_ci(X&Y) )\n",
       " &( H(Y|X) == 0 ) )"
      ]
     },
     "execution_count": 60,
     "metadata": {},
     "output_type": "execute_result"
    }
   ],
   "source": [
    "# Subject to H(Y|X)==0, all these quantities equal H(Y)\n",
    "(H(Y|X) == 0).discover([X, Y, gacs_korner(X & Y), wyner_ci(X & Y), exact_ci(X & Y)])"
   ]
  },
  {
   "cell_type": "markdown",
   "id": "86fba518",
   "metadata": {},
   "source": [
    "The function <code>Region.order([a, b, c]).graph()</code> computes the partial order among expressions a, b, c, subject to the constraints in the region, and draws the Hasse diagram."
   ]
  },
  {
   "cell_type": "code",
   "execution_count": 61,
   "id": "fd248cc4",
   "metadata": {},
   "outputs": [
    {
     "data": {
      "image/svg+xml": [
       "<?xml version=\"1.0\" encoding=\"UTF-8\" standalone=\"no\"?>\r\n",
       "<!DOCTYPE svg PUBLIC \"-//W3C//DTD SVG 1.1//EN\"\r\n",
       " \"http://www.w3.org/Graphics/SVG/1.1/DTD/svg11.dtd\">\r\n",
       "<!-- Generated by graphviz version 2.50.0 (0)\r\n",
       " -->\r\n",
       "<!-- Pages: 1 -->\r\n",
       "<svg width=\"222pt\" height=\"314pt\"\r\n",
       " viewBox=\"0.00 0.00 222.00 314.00\" xmlns=\"http://www.w3.org/2000/svg\" xmlns:xlink=\"http://www.w3.org/1999/xlink\">\r\n",
       "<g id=\"graph0\" class=\"graph\" transform=\"scale(1 1) rotate(0) translate(4 310)\">\r\n",
       "<polygon fill=\"white\" stroke=\"transparent\" points=\"-4,4 -4,-310 218,-310 218,4 -4,4\"/>\r\n",
       "<!-- I(X; Y) -->\r\n",
       "<g id=\"node1\" class=\"node\">\r\n",
       "<title>I(X; Y)</title>\r\n",
       "<text text-anchor=\"middle\" x=\"107\" y=\"-68.3\" font-family=\"Times New Roman,serif\" font-size=\"14.00\">I(X; Y)</text>\r\n",
       "</g>\r\n",
       "<!-- K(X; Y) -->\r\n",
       "<g id=\"node7\" class=\"node\">\r\n",
       "<title>K(X; Y)</title>\r\n",
       "<text text-anchor=\"middle\" x=\"107\" y=\"-14.3\" font-family=\"Times New Roman,serif\" font-size=\"14.00\">K(X; Y)</text>\r\n",
       "</g>\r\n",
       "<!-- I(X; Y)&#45;&gt;K(X; Y) -->\r\n",
       "<g id=\"edge6\" class=\"edge\">\r\n",
       "<title>I(X; Y)&#45;&gt;K(X; Y)</title>\r\n",
       "<path fill=\"none\" stroke=\"black\" d=\"M107,-53.97C107,-48.29 107,-41.95 107,-36.24\"/>\r\n",
       "</g>\r\n",
       "<!-- H(X) -->\r\n",
       "<g id=\"node2\" class=\"node\">\r\n",
       "<title>H(X)</title>\r\n",
       "<text text-anchor=\"middle\" x=\"71\" y=\"-230.3\" font-family=\"Times New Roman,serif\" font-size=\"14.00\">H(X)</text>\r\n",
       "</g>\r\n",
       "<!-- H(X|Y) -->\r\n",
       "<g id=\"node5\" class=\"node\">\r\n",
       "<title>H(X|Y)</title>\r\n",
       "<text text-anchor=\"middle\" x=\"29\" y=\"-176.3\" font-family=\"Times New Roman,serif\" font-size=\"14.00\">H(X|Y)</text>\r\n",
       "</g>\r\n",
       "<!-- H(X)&#45;&gt;H(X|Y) -->\r\n",
       "<g id=\"edge4\" class=\"edge\">\r\n",
       "<title>H(X)&#45;&gt;H(X|Y)</title>\r\n",
       "<path fill=\"none\" stroke=\"black\" d=\"M57.25,-215.97C52.65,-210.29 47.53,-203.95 42.93,-198.24\"/>\r\n",
       "</g>\r\n",
       "<!-- G(X; Y) -->\r\n",
       "<g id=\"node9\" class=\"node\">\r\n",
       "<title>G(X; Y)</title>\r\n",
       "<text text-anchor=\"middle\" x=\"107\" y=\"-176.3\" font-family=\"Times New Roman,serif\" font-size=\"14.00\">G(X; Y)</text>\r\n",
       "</g>\r\n",
       "<!-- H(X)&#45;&gt;G(X; Y) -->\r\n",
       "<g id=\"edge8\" class=\"edge\">\r\n",
       "<title>H(X)&#45;&gt;G(X; Y)</title>\r\n",
       "<path fill=\"none\" stroke=\"black\" d=\"M82.79,-215.97C86.72,-210.29 91.11,-203.95 95.06,-198.24\"/>\r\n",
       "</g>\r\n",
       "<!-- H(Y) -->\r\n",
       "<g id=\"node3\" class=\"node\">\r\n",
       "<title>H(Y)</title>\r\n",
       "<text text-anchor=\"middle\" x=\"143\" y=\"-230.3\" font-family=\"Times New Roman,serif\" font-size=\"14.00\">H(Y)</text>\r\n",
       "</g>\r\n",
       "<!-- H(Y|X) -->\r\n",
       "<g id=\"node6\" class=\"node\">\r\n",
       "<title>H(Y|X)</title>\r\n",
       "<text text-anchor=\"middle\" x=\"185\" y=\"-176.3\" font-family=\"Times New Roman,serif\" font-size=\"14.00\">H(Y|X)</text>\r\n",
       "</g>\r\n",
       "<!-- H(Y)&#45;&gt;H(Y|X) -->\r\n",
       "<g id=\"edge5\" class=\"edge\">\r\n",
       "<title>H(Y)&#45;&gt;H(Y|X)</title>\r\n",
       "<path fill=\"none\" stroke=\"black\" d=\"M156.75,-215.97C161.35,-210.29 166.47,-203.95 171.07,-198.24\"/>\r\n",
       "</g>\r\n",
       "<!-- H(Y)&#45;&gt;G(X; Y) -->\r\n",
       "<g id=\"edge9\" class=\"edge\">\r\n",
       "<title>H(Y)&#45;&gt;G(X; Y)</title>\r\n",
       "<path fill=\"none\" stroke=\"black\" d=\"M131.21,-215.97C127.28,-210.29 122.89,-203.95 118.94,-198.24\"/>\r\n",
       "</g>\r\n",
       "<!-- H(X, Y) -->\r\n",
       "<g id=\"node4\" class=\"node\">\r\n",
       "<title>H(X, Y)</title>\r\n",
       "<text text-anchor=\"middle\" x=\"107\" y=\"-284.3\" font-family=\"Times New Roman,serif\" font-size=\"14.00\">H(X, Y)</text>\r\n",
       "</g>\r\n",
       "<!-- H(X, Y)&#45;&gt;H(X) -->\r\n",
       "<g id=\"edge2\" class=\"edge\">\r\n",
       "<title>H(X, Y)&#45;&gt;H(X)</title>\r\n",
       "<path fill=\"none\" stroke=\"black\" d=\"M95.21,-269.97C91.28,-264.29 86.89,-257.95 82.94,-252.24\"/>\r\n",
       "</g>\r\n",
       "<!-- H(X, Y)&#45;&gt;H(Y) -->\r\n",
       "<g id=\"edge3\" class=\"edge\">\r\n",
       "<title>H(X, Y)&#45;&gt;H(Y)</title>\r\n",
       "<path fill=\"none\" stroke=\"black\" d=\"M118.79,-269.97C122.72,-264.29 127.11,-257.95 131.06,-252.24\"/>\r\n",
       "</g>\r\n",
       "<!-- J(X; Y) -->\r\n",
       "<g id=\"node8\" class=\"node\">\r\n",
       "<title>J(X; Y)</title>\r\n",
       "<text text-anchor=\"middle\" x=\"107\" y=\"-122.3\" font-family=\"Times New Roman,serif\" font-size=\"14.00\">J(X; Y)</text>\r\n",
       "</g>\r\n",
       "<!-- J(X; Y)&#45;&gt;I(X; Y) -->\r\n",
       "<g id=\"edge1\" class=\"edge\">\r\n",
       "<title>J(X; Y)&#45;&gt;I(X; Y)</title>\r\n",
       "<path fill=\"none\" stroke=\"black\" d=\"M107,-107.97C107,-102.29 107,-95.95 107,-90.24\"/>\r\n",
       "</g>\r\n",
       "<!-- G(X; Y)&#45;&gt;J(X; Y) -->\r\n",
       "<g id=\"edge7\" class=\"edge\">\r\n",
       "<title>G(X; Y)&#45;&gt;J(X; Y)</title>\r\n",
       "<path fill=\"none\" stroke=\"black\" d=\"M107,-161.97C107,-156.29 107,-149.95 107,-144.24\"/>\r\n",
       "</g>\r\n",
       "</g>\r\n",
       "</svg>\r\n"
      ],
      "text/plain": [
       "<graphviz.dot.Digraph at 0x2134168bd60>"
      ]
     },
     "execution_count": 61,
     "metadata": {},
     "output_type": "execute_result"
    }
   ],
   "source": [
    "region().order([I(X&Y), H(X), H(Y), H(X+Y), H(X|Y), H(Y|X),\n",
    "    gacs_korner(X & Y), wyner_ci(X & Y), exact_ci(X & Y)]).graph(ranksep=0.25)"
   ]
  },
  {
   "cell_type": "code",
   "execution_count": null,
   "id": "de39e4a7",
   "metadata": {},
   "outputs": [],
   "source": []
  },
  {
   "cell_type": "markdown",
   "id": "63d49e5b",
   "metadata": {},
   "source": [
    "#### References\n",
    "\n",
    "- T. M. Cover and J. A. Thomas, Elements of information theory, John Wiley & Sons, 2006.\n",
    "- R. W. Yeung, Information theory and network coding, Springer Science & Business Media, 2008.\n",
    "-  D. Slepian and J. K. Wolf, \"Noiseless coding of correlated information sources,\" IEEE Trans. Inf. Theory, vol. IT-19, no. 4, pp. 471–480, Jul. 1973.\n",
    "- P. Bergmans, \"Random coding theorem for broadcast channels with degraded components,” IEEE Trans. Inf. Theory, vol. IT-19, no. 2, pp. 197–207, Mar. 1973.\n",
    "- R. G. Gallager, \"Capacity and coding for degraded broadcast channels,\" Problems Inf. Transmiss., vol. 10, no. 3, pp. 3–14, May 1974.\n",
    "- J. Körner and K. Marton, Comparison of two noisy channels, Topics in Inform. Theory (ed. by I. Csiszar and P. Elias), Keszthely, Hungary (August, 1975), 411-423.\n",
    "- C. Lassez and J.-L. Lassez, Quantifier elimination for conjunctions of linear constraints via a convex hull algorithm, IBM Research Report, T.J. Watson Research Center, RC 16779 (1991)\n",
    "- Z. Zhang and R. W. Yeung, \"On characterization of entropy function via information inequalities,\" IEEE Trans. Inform. Theory, vol. 44, pp. 1440-1452, Jul 1998.\n",
    "- Tishby, Naftali, Pereira, Fernando C., Bialek, William (1999). The Information Bottleneck Method. The 37th annual Allerton Conference on Communication, Control, and Computing. pp. 368-377.\n",
    "- A. D. Wyner. The common information of two dependent random variables. IEEE Trans. Info. Theory, 21(2):163-179, 1975.\n",
    "- P. Gács and J Körner, \"Common information is far less than mutual information,\" Problems of Control and Information Theory 2.2: 149-162, 1973.\n",
    "- G. R. Kumar, C. T. Li, and A. El Gamal, \"Exact common information,\" in Proc. IEEE Symp. Info. Theory. IEEE, 2014, pp. 161-165."
   ]
  },
  {
   "cell_type": "code",
   "execution_count": null,
   "id": "8e39a363",
   "metadata": {},
   "outputs": [],
   "source": []
  }
 ],
 "metadata": {
  "kernelspec": {
   "display_name": "Python 3 (ipykernel)",
   "language": "python",
   "name": "python3"
  },
  "language_info": {
   "codemirror_mode": {
    "name": "ipython",
    "version": 3
   },
   "file_extension": ".py",
   "mimetype": "text/x-python",
   "name": "python",
   "nbconvert_exporter": "python",
   "pygments_lexer": "ipython3",
   "version": "3.8.3"
  }
 },
 "nbformat": 4,
 "nbformat_minor": 5
}

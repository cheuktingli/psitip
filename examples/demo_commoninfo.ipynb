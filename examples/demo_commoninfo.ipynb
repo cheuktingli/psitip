{
 "cells": [
  {
   "cell_type": "markdown",
   "metadata": {},
   "source": [
    "## Common Information Demo\n",
    "\n",
    "Author: Cheuk Ting Li  "
   ]
  },
  {
   "cell_type": "code",
   "execution_count": 1,
   "metadata": {},
   "outputs": [],
   "source": [
    "import numpy\n",
    "import matplotlib.pyplot as plt\n",
    "from psitip import *\n",
    "PsiOpts.setting(solver = \"pyomo.glpk\")     # Set linear programming solver\n",
    "PsiOpts.setting(repr_latex = True)         # Turn on Jupyter Notebook LaTeX display\n",
    "PsiOpts.setting(venn_latex = True)         # Turn on LaTeX in diagrams\n",
    "PsiOpts.setting(proof_note_color = \"blue\") # Reasons in proofs are blue\n",
    "PsiOpts.setting(istorch = True)            # Enable pytorch\n",
    "\n",
    "X, Y, Z, W, U, M, S = rv(\"X, Y, Z, W, U, M, S\") # Declare random variables"
   ]
  },
  {
   "cell_type": "code",
   "execution_count": 2,
   "metadata": {},
   "outputs": [
    {
     "data": {
      "text/latex": [
       "$ K(X; Y) = \\sup_{U:\\,  U \\leftrightarrow Y \\leftrightarrow X,\\;  U \\leftrightarrow X \\leftrightarrow Y}I(U; X, Y)$"
      ],
      "text/plain": [
       "gacs_korner(X&Y) == (( ( markov(U, Y, X) )\n",
       " &( markov(U, X, Y) ) ).exists(U)).maximum(I(U&X+Y)) "
      ]
     },
     "execution_count": 2,
     "metadata": {},
     "output_type": "execute_result"
    }
   ],
   "source": [
    "# Gács-Körner common information [Gács-Körner 1973]\n",
    "# Equivalent characterization using mutual information [Gray-Wyner 1974]\n",
    "gacs_korner(X & Y) == gacs_korner(X & Y).defn()"
   ]
  },
  {
   "cell_type": "code",
   "execution_count": 3,
   "metadata": {},
   "outputs": [
    {
     "data": {
      "text/latex": [
       "$ J(X; Y) = \\inf_{U:\\,  X \\leftrightarrow U \\leftrightarrow Y}I(U; X, Y)$"
      ],
      "text/plain": [
       "wyner_ci(X&Y) == (( ( markov(X, U, Y) ) ).exists(U)).minimum(I(U&X+Y)) "
      ]
     },
     "execution_count": 3,
     "metadata": {},
     "output_type": "execute_result"
    }
   ],
   "source": [
    "# Wyner's common information [Wyner 1975]\n",
    "wyner_ci(X & Y) == wyner_ci(X & Y).defn()"
   ]
  },
  {
   "cell_type": "code",
   "execution_count": 4,
   "metadata": {},
   "outputs": [
    {
     "data": {
      "text/latex": [
       "$ G(X; Y) = \\inf_{U:\\,  X \\leftrightarrow U \\leftrightarrow Y}H(U)$"
      ],
      "text/plain": [
       "exact_ci(X&Y) == (( ( markov(X, U, Y) ) ).exists(U)).minimum(H(U)) "
      ]
     },
     "execution_count": 4,
     "metadata": {},
     "output_type": "execute_result"
    }
   ],
   "source": [
    "# Common entropy [Kumar-Li-El Gamal 2014]\n",
    "exact_ci(X & Y) == exact_ci(X & Y).defn()"
   ]
  },
  {
   "cell_type": "markdown",
   "metadata": {},
   "source": [
    "------\n",
    "\n",
    "### Comparisons"
   ]
  },
  {
   "cell_type": "code",
   "execution_count": 5,
   "metadata": {},
   "outputs": [
    {
     "data": {
      "text/latex": [
       "$\\left\\{\\begin{array}{l}\n",
       "  K(X; Y) \\ge 0,\\\\\n",
       "  J(X; Y) \\le G(X; Y),\\\\\n",
       "  G(X; Y) \\le H(X),\\\\\n",
       "  G(X; Y) \\le H(Y),\\\\\n",
       "  I(X; Y) \\le J(X; Y),\\\\\n",
       "  K(X; Y) \\le I(X; Y)\\\\\n",
       "\\end{array} \\right\\}$"
      ],
      "text/plain": [
       "( ( gacs_korner(X&Y) >= 0 )\n",
       " &( wyner_ci(X&Y) <= exact_ci(X&Y) )\n",
       " &( exact_ci(X&Y) <= H(X) )\n",
       " &( exact_ci(X&Y) <= H(Y) )\n",
       " &( I(X&Y) <= wyner_ci(X&Y) )\n",
       " &( gacs_korner(X&Y) <= I(X&Y) ) )"
      ]
     },
     "execution_count": 5,
     "metadata": {},
     "output_type": "execute_result"
    }
   ],
   "source": [
    "# Automatically discover inequalities among quantities\n",
    "universe().discover([X, Y, \n",
    "                     gacs_korner(X & Y), \n",
    "                     wyner_ci(X & Y), \n",
    "                     exact_ci(X & Y)])"
   ]
  },
  {
   "cell_type": "markdown",
   "metadata": {},
   "source": [
    "------\n",
    "\n",
    "### Alternative Characterization of Gács-Körner Common Information"
   ]
  },
  {
   "cell_type": "code",
   "execution_count": 6,
   "metadata": {},
   "outputs": [
    {
     "data": {
      "text/latex": [
       "$ K(X; Y) = \\sup_{U:\\,  H(U|X) = 0,\\;  H(U|Y) = 0}H(U)$"
      ],
      "text/plain": [
       "gacs_korner(X&Y) == (( ( H(U|X) == 0 )\n",
       " &( H(U|Y) == 0 ) ).exists(U)).maximum(H(U)) "
      ]
     },
     "execution_count": 6,
     "metadata": {},
     "output_type": "execute_result"
    }
   ],
   "source": [
    "# Gács-Körner common information [Gács-Körner 1973]\n",
    "gacs_korner(X & Y, mi = False) == gacs_korner(X & Y, mi = False).defn()"
   ]
  },
  {
   "cell_type": "code",
   "execution_count": 7,
   "metadata": {},
   "outputs": [
    {
     "data": {
      "text/latex": [
       "$ K(X; Y) = \\sup_{U:\\,  U \\leftrightarrow Y \\leftrightarrow X,\\;  U \\leftrightarrow X \\leftrightarrow Y}I(U; X, Y)$"
      ],
      "text/plain": [
       "gacs_korner_mi(X&Y) == (( ( markov(U, Y, X) )\n",
       " &( markov(U, X, Y) ) ).exists(U)).maximum(I(U&X+Y)) "
      ]
     },
     "execution_count": 7,
     "metadata": {},
     "output_type": "execute_result"
    }
   ],
   "source": [
    "# Equivalent characterization using mutual information [Gray-Wyner 1974]\n",
    "gacs_korner(X & Y, mi = True) == gacs_korner(X & Y, mi = True).defn()"
   ]
  },
  {
   "cell_type": "code",
   "execution_count": 8,
   "metadata": {},
   "outputs": [
    {
     "data": {
      "text/latex": [
       "$\\begin{align*}\n",
       "&1.\\;\\text{Claim:}\\\\\n",
       "& \\sup_{U:\\,  H(U|X) = 0,\\;  H(U|Y) = 0}H(U) \\le \\sup_{U:\\,  U \\leftrightarrow Y \\leftrightarrow X,\\;  U \\leftrightarrow X \\leftrightarrow Y}I(U; X, Y)\\\\\n",
       "\\\\\n",
       "&\\;\\;1.1.\\;\\text{Claim:}\\\\\n",
       "&\\;\\;\\exists U:\\, \\left\\{\\begin{array}{l}\n",
       "  \\sup_{U:\\,  H(U|X) = 0,\\;  H(U|Y) = 0}H(U) \\le I(U; X, Y),\\\\\n",
       "  U \\leftrightarrow Y \\leftrightarrow X,\\\\\n",
       "  U \\leftrightarrow X \\leftrightarrow Y\\\\\n",
       "\\end{array} \\right\\}\\\\\n",
       "\\\\\n",
       "&\\;\\;\\;\\;1.1.1.\\;\\text{Substitute: }\\left[ \\begin{array}{cc}\n",
       "U & U_1\\end{array}\\right]\\\\\n",
       "\\\\\n",
       "&\\;\\;\\;\\;1.1.2.\\;\\text{Steps: }\\\\\n",
       "&\\;\\;\\;\\;\\sup_{U:\\,  H(U|X) = 0,\\;  H(U|Y) = 0}H(U)\\\\\n",
       "&\\;\\;\\;\\;\\le H(U_1)\\;\\;\\;{\\color{blue}{\\left(\\because\\,\\text{at optimum}\\text{:}\\, \\sup_{U:\\,  H(U|X) = 0,\\;  H(U|Y) = 0}H(U) \\le H(U_1)\\right)}}\\\\\n",
       "&\\;\\;\\;\\;= I(U_1; X, Y)\\;\\;\\;{\\color{blue}{\\left(\\because\\, H(U_1|X, Y) = 0\\right)}}\\\\\n",
       "\\end{align*}\n",
       "$"
      ],
      "text/plain": [
       "<psitip.ProofObj at 0x28b3178d370>"
      ]
     },
     "execution_count": 8,
     "metadata": {},
     "output_type": "execute_result"
    }
   ],
   "source": [
    "# Prove equivalence, \"<=\" direction\n",
    "(gacs_korner(X & Y, mi = False).defn()\n",
    "     <= gacs_korner(X & Y, mi = True).defn()).proof()"
   ]
  },
  {
   "cell_type": "code",
   "execution_count": 9,
   "metadata": {},
   "outputs": [
    {
     "data": {
      "text/latex": [
       "$\\forall D_X, D_Y, D_Z:\\, \\left\\{\\begin{array}{l}\n",
       "\\displaystyle \\left\\{\\begin{array}{l}\n",
       "  D_Z \\leftrightarrow D_X \\leftrightarrow D_Y,\\\\\n",
       "  D_X \\leftrightarrow D_Y \\leftrightarrow D_Z\\\\\n",
       "\\end{array} \\right\\}\\\\\n",
       "\\displaystyle \\Rightarrow \\; \\exists D_W:\\, \\left\\{\\begin{array}{l}\n",
       "  H(D_W|D_X) = 0,\\\\\n",
       "  H(D_W|D_Y) = 0,\\\\\n",
       "  (D_X, D_Y) \\leftrightarrow D_W \\leftrightarrow D_Z\\\\\n",
       "\\end{array} \\right\\}\\\\\n",
       "\\end{array}\\right\\}$"
      ],
      "text/plain": [
       "(( ( markov(DZ, DX, DY) )\n",
       "  &( markov(DX, DY, DZ) ) )\n",
       ">> ( ( H(DW|DX) == 0 )\n",
       "    &( H(DW|DY) == 0 )\n",
       "    &( markov(DX+DY, DW, DZ) ) ).exists(DW)).forall(DX+DY+DZ)"
      ]
     },
     "execution_count": 9,
     "metadata": {},
     "output_type": "execute_result"
    }
   ],
   "source": [
    "# To prove the \">=\" direction, we need the double Markov property [Csiszar-Korner 2011]\n",
    "dblmarkov()"
   ]
  },
  {
   "cell_type": "code",
   "execution_count": 10,
   "metadata": {},
   "outputs": [
    {
     "data": {
      "text/latex": [
       "$\\displaystyle \\begin{align*}\n",
       "&1.\\;\\text{Claim:}\\\\\n",
       "&\\exists U, D_X, D_Y, D_Z:\\, \\left\\{\\begin{array}{l}\n",
       "\\left\\{\\begin{array}{l}\n",
       "\\left\\{\\begin{array}{l}\n",
       "  D_Z \\leftrightarrow D_X \\leftrightarrow D_Y,\\\\\n",
       "  D_X \\leftrightarrow D_Y \\leftrightarrow D_Z\\\\\n",
       "\\end{array} \\right\\}\\\\\n",
       "\\end{array}\\right\\}\\\\\n",
       " \\vee\\\\\n",
       "\\left\\{\\begin{array}{l}\n",
       "  \\sup_{U:\\,  U \\leftrightarrow Y \\leftrightarrow X,\\;  U \\leftrightarrow X \\leftrightarrow Y}I(U; X, Y) \\le H(U),\\\\\n",
       "  H(U|X) = 0,\\\\\n",
       "  H(U|Y) = 0\\\\\n",
       "\\end{array} \\right\\}\\\\\n",
       "\\end{array}\\right\\}\\\\\n",
       "\\\\\n",
       "&\\;\\;1.1.\\;\\text{Substitute: }\\left[ \\begin{array}{cc}\n",
       "U & D_W\\\\\n",
       "D_X & X\\\\\n",
       "D_Y & Y\\\\\n",
       "D_Z & U_1\\end{array}\\right]\\\\\n",
       "\\\\\n",
       "&\\;\\;1.2.\\;\\text{Steps: }\\\\\n",
       "&\\;\\;\\sup_{U:\\,  U \\leftrightarrow Y \\leftrightarrow X,\\;  U \\leftrightarrow X \\leftrightarrow Y}I(U; X, Y)\\\\\n",
       "&\\;\\;\\le I(U_1; X, Y)\\\\\n",
       "&\\;\\;\\;\\;\\;\\;\\;\\;\\;\\;{\\color{blue}{\\left(\\because\\,\\text{at optimum}\\text{:}\\, \\sup_{U:\\,  U \\leftrightarrow Y \\leftrightarrow X,\\;  U \\leftrightarrow X \\leftrightarrow Y}I(U; X, Y) \\le I(U_1; X, Y)\\right)}}\\\\\n",
       "&\\;\\;= I(D_W, X, Y; U_1)\\;\\;\\;{\\color{blue}{\\left(\\because\\, D_W \\leftrightarrow (X, Y) \\leftrightarrow U_1\\right)}}\\\\\n",
       "&\\;\\;= I(D_W; U_1)\\;\\;\\;{\\color{blue}{\\left(\\because\\, (X, Y) \\leftrightarrow D_W \\leftrightarrow U_1\\right)}}\\\\\n",
       "&\\;\\;\\le H(D_W)\\\\\n",
       "\\end{align*}\n",
       "$"
      ],
      "text/plain": [
       "<IPython.core.display.Math object>"
      ]
     },
     "metadata": {},
     "output_type": "display_data"
    }
   ],
   "source": [
    "# Prove the \">=\" direction using double Markov property\n",
    "with dblmarkov().assumed():\n",
    "    (gacs_korner(X & Y, mi = False).defn()\n",
    "         >= gacs_korner(X & Y, mi = True).defn()).proof().display()"
   ]
  },
  {
   "cell_type": "markdown",
   "metadata": {},
   "source": [
    "------\n",
    "\n",
    "### Data Processing Inequality"
   ]
  },
  {
   "cell_type": "code",
   "execution_count": 11,
   "metadata": {},
   "outputs": [
    {
     "data": {
      "text/latex": [
       "$\\displaystyle \\begin{array}{l}\n",
       "\\displaystyle X \\leftrightarrow Y \\leftrightarrow Z\\\\\n",
       "\\displaystyle \\Rightarrow \\; K(X; Z) \\le K(X; Y)\\\\\n",
       "\\end{array} \\;\\mathrm{is}\\;\\mathrm{True}$"
      ],
      "text/plain": [
       "<IPython.core.display.Math object>"
      ]
     },
     "metadata": {},
     "output_type": "display_data"
    }
   ],
   "source": [
    "r = markov(X, Y, Z)  # X -> Y -> Z forms a Markov chain\n",
    "(r >> (gacs_korner(X & Y) >= gacs_korner(X & Z))).display_bool()"
   ]
  },
  {
   "cell_type": "code",
   "execution_count": 12,
   "metadata": {},
   "outputs": [
    {
     "data": {
      "text/latex": [
       "$\\displaystyle \\begin{array}{l}\n",
       "\\displaystyle X \\leftrightarrow Y \\leftrightarrow Z\\\\\n",
       "\\displaystyle \\Rightarrow \\; J(X; Z) \\le J(X; Y)\\\\\n",
       "\\end{array} \\;\\mathrm{is}\\;\\mathrm{True}$"
      ],
      "text/plain": [
       "<IPython.core.display.Math object>"
      ]
     },
     "metadata": {},
     "output_type": "display_data"
    }
   ],
   "source": [
    "(r >> (wyner_ci(X & Y) >= wyner_ci(X & Z))).display_bool()"
   ]
  },
  {
   "cell_type": "code",
   "execution_count": 13,
   "metadata": {},
   "outputs": [
    {
     "data": {
      "text/latex": [
       "$\\displaystyle \\begin{array}{l}\n",
       "\\displaystyle X \\leftrightarrow Y \\leftrightarrow Z\\\\\n",
       "\\displaystyle \\Rightarrow \\; G(X; Z) \\le G(X; Y)\\\\\n",
       "\\end{array} \\;\\mathrm{is}\\;\\mathrm{True}$"
      ],
      "text/plain": [
       "<IPython.core.display.Math object>"
      ]
     },
     "metadata": {},
     "output_type": "display_data"
    }
   ],
   "source": [
    "(r >> (exact_ci(X & Y) >= exact_ci(X & Z))).display_bool()"
   ]
  },
  {
   "cell_type": "markdown",
   "metadata": {},
   "source": [
    "------\n",
    "\n",
    "### Tensorization / Additivity"
   ]
  },
  {
   "cell_type": "code",
   "execution_count": 14,
   "metadata": {},
   "outputs": [
    {
     "data": {
      "text/latex": [
       "$\\begin{align*}\n",
       "&1.\\;\\text{Claim:}\\\\\n",
       "& K(X, Z; Y, W) \\le K(X; Y)+K(Z; W)\\\\\n",
       "\\\\\n",
       "&\\;\\;1.1.\\;\\text{Claim:}\\\\\n",
       "&\\;\\;\\exists U, U_1:\\, \\left\\{\\begin{array}{l}\n",
       "  \\sup_{U:\\,  H(U|X, Z) = 0,\\;  H(U|Y, W) = 0}H(U) \\le I(U; X, Y)+I(U_1; Z, W),\\\\\n",
       "  U \\leftrightarrow Y \\leftrightarrow X,\\\\\n",
       "  U \\leftrightarrow X \\leftrightarrow Y,\\\\\n",
       "  U_1 \\leftrightarrow W \\leftrightarrow Z,\\\\\n",
       "  U_1 \\leftrightarrow Z \\leftrightarrow W\\\\\n",
       "\\end{array} \\right\\}\\\\\n",
       "\\\\\n",
       "&\\;\\;\\;\\;1.1.1.\\;\\text{Substitute: }\\left[ \\begin{array}{cc}\n",
       "U & (U_2, Z, W)\\\\\n",
       "U_1 & (U_2, X, Y)\\end{array}\\right]\\\\\n",
       "\\\\\n",
       "&\\;\\;\\;\\;1.1.2.\\;\\text{Steps: }\\\\\n",
       "&\\;\\;\\;\\;\\sup_{U:\\,  H(U|X, Z) = 0,\\;  H(U|Y, W) = 0}H(U)\\\\\n",
       "&\\;\\;\\;\\;\\le H(U_2)\\;\\;\\;{\\color{blue}{\\left(\\because\\,\\text{at optimum}\\text{:}\\, \\sup_{U:\\,  H(U|X, Z) = 0,\\;  H(U|Y, W) = 0}H(U) \\le H(U_2)\\right)}}\\\\\n",
       "&\\;\\;\\;\\;= H(U_2)-I(X; Z)\\;\\;\\;{\\color{blue}{\\left(\\because\\, Z {\\perp\\!\\!\\perp} X\\right)}}\\\\\n",
       "&\\;\\;\\;\\;\\le H(U_2|Z)+I(U_2; Z|X)\\\\\n",
       "&\\;\\;\\;\\;= H(U_2|X)+H(U_2|Z)\\;\\;\\;{\\color{blue}{\\left(\\because\\, H(U_2|Z, X) = 0\\right)}}\\\\\n",
       "&\\;\\;\\;\\;= H(U_2|Z)+H(U_2|X, Y)\\;\\;\\;{\\color{blue}{\\left(\\because\\, U_2 \\leftrightarrow X \\leftrightarrow Y\\right)}}\\\\\n",
       "&\\;\\;\\;\\;= I(U_2; W, Z|X, Y)+I(U_2; W, X, Y|Z)\\;\\;\\;{\\color{blue}{\\left(\\because\\, 2H(U_2|Z, W, X, Y) = 0\\right)}}\\\\\n",
       "&\\;\\;\\;\\;= I(U_2; W, Z|X, Y)+I(U_2; X, Y|W, Z)\\;\\;\\;{\\color{blue}{\\left(\\because\\, U_2 \\leftrightarrow Z \\leftrightarrow W\\right)}}\\\\\n",
       "&\\;\\;\\;\\;= I(U_2, W, Z; X, Y)+I(U_2, X, Y; W, Z)\\;\\;\\;{\\color{blue}{\\left(\\because\\, (Y, X) {\\perp\\!\\!\\perp} (Z, W)\\right)}}\\\\\n",
       "\\end{align*}\n",
       "$"
      ],
      "text/plain": [
       "<psitip.ProofObj at 0x28b31685190>"
      ]
     },
     "execution_count": 14,
     "metadata": {},
     "output_type": "execute_result"
    }
   ],
   "source": [
    "r = indep(X + Y, Z + W)  # (X,Y) is independent of (Z,W)\n",
    "\n",
    "# Gács-Körner common information is additive\n",
    "(r >> (gacs_korner(X & Y) + gacs_korner(Z & W) >= gacs_korner(X+Z & Y+W))).proof()"
   ]
  },
  {
   "cell_type": "code",
   "execution_count": 15,
   "metadata": {},
   "outputs": [
    {
     "data": {
      "text/latex": [
       "$\\begin{align*}\n",
       "&1.\\;\\text{Claim:}\\\\\n",
       "& K(X; Y)+K(Z; W) \\le K(X, Z; Y, W)\\\\\n",
       "\\\\\n",
       "&\\;\\;1.1.\\;\\text{Claim:}\\\\\n",
       "&\\;\\;\\exists U:\\, \\left\\{\\begin{array}{l}\n",
       "  \\sup_{U:\\,  H(U|X) = 0,\\;  H(U|Y) = 0}H(U)+\\sup_{U:\\,  H(U|Z) = 0,\\;  H(U|W) = 0}H(U) \\le I(U; X, Z, Y, W),\\\\\n",
       "  U \\leftrightarrow (Y, W) \\leftrightarrow (X, Z),\\\\\n",
       "  (Y, W) \\leftrightarrow (X, Z) \\leftrightarrow U\\\\\n",
       "\\end{array} \\right\\}\\\\\n",
       "\\\\\n",
       "&\\;\\;\\;\\;1.1.1.\\;\\text{Substitute: }\\left[ \\begin{array}{cc}\n",
       "U & (U_1, U_2)\\end{array}\\right]\\\\\n",
       "\\\\\n",
       "&\\;\\;\\;\\;1.1.2.\\;\\text{Steps: }\\\\\n",
       "&\\;\\;\\;\\;\\sup_{U:\\,  H(U|X) = 0,\\;  H(U|Y) = 0}H(U)+\\sup_{U:\\,  H(U|Z) = 0,\\;  H(U|W) = 0}H(U)\\\\\n",
       "&\\;\\;\\;\\;\\le \\sup_{U:\\,  H(U|Z) = 0,\\;  H(U|W) = 0}H(U)+H(U_1)\\\\\n",
       "&\\;\\;\\;\\;\\;\\;\\;\\;\\;\\;\\;\\;{\\color{blue}{\\left(\\because\\,\\text{at optimum}\\text{:}\\, \\sup_{U:\\,  H(U|X) = 0,\\;  H(U|Y) = 0}H(U) \\le H(U_1)\\right)}}\\\\\n",
       "&\\;\\;\\;\\;\\le H(U_1)+H(U_2)\\;\\;\\;{\\color{blue}{\\left(\\because\\,\\text{at optimum}\\text{:}\\, \\sup_{U:\\,  H(U|Z) = 0,\\;  H(U|W) = 0}H(U) \\le H(U_2)\\right)}}\\\\\n",
       "&\\;\\;\\;\\;= H(U_1, U_2)\\;\\;\\;{\\color{blue}{\\left(\\because\\, U_2 {\\perp\\!\\!\\perp} U_1\\right)}}\\\\\n",
       "&\\;\\;\\;\\;= I(U_1, U_2; W, X, Y, Z)\\;\\;\\;{\\color{blue}{\\left(\\because\\, H(U_2, U_1|X, Y, Z, W) = 0\\right)}}\\\\\n",
       "\\end{align*}\n",
       "$"
      ],
      "text/plain": [
       "<psitip.ProofObj at 0x28b2a8e3b50>"
      ]
     },
     "execution_count": 15,
     "metadata": {},
     "output_type": "execute_result"
    }
   ],
   "source": [
    "(r >> (gacs_korner(X & Y) + gacs_korner(Z & W) <= gacs_korner(X+Z & Y+W))).proof()"
   ]
  },
  {
   "cell_type": "code",
   "execution_count": 16,
   "metadata": {},
   "outputs": [
    {
     "data": {
      "text/latex": [
       "$\\begin{align*}\n",
       "&1.\\;\\text{Claim:}\\\\\n",
       "& J(X, Z; Y, W) \\le J(X; Y)+J(Z; W)\\\\\n",
       "\\\\\n",
       "&\\;\\;1.1.\\;\\text{Claim:}\\\\\n",
       "&\\;\\;\\exists U:\\, \\left\\{\\begin{array}{l}\n",
       "  J(X; Y)+J(Z; W) \\ge I(U; X, Z, Y, W),\\\\\n",
       "  (X, Z) \\leftrightarrow U \\leftrightarrow (Y, W)\\\\\n",
       "\\end{array} \\right\\}\\\\\n",
       "\\\\\n",
       "&\\;\\;\\;\\;1.1.1.\\;\\text{Substitute: }\\left[ \\begin{array}{cc}\n",
       "U & (U_1, U_2)\\end{array}\\right]\\\\\n",
       "\\end{align*}\n",
       "$"
      ],
      "text/plain": [
       "<psitip.ProofObj at 0x28b31706520>"
      ]
     },
     "execution_count": 16,
     "metadata": {},
     "output_type": "execute_result"
    }
   ],
   "source": [
    "# Wyner's common information is additive\n",
    "(r >> (wyner_ci(X & Y) + wyner_ci(Z & W) >= wyner_ci(X+Z & Y+W))).proof()"
   ]
  },
  {
   "cell_type": "code",
   "execution_count": 17,
   "metadata": {},
   "outputs": [
    {
     "data": {
      "text/latex": [
       "$\\begin{align*}\n",
       "&1.\\;\\text{Claim:}\\\\\n",
       "& J(X; Y)+J(Z; W) \\le J(X, Z; Y, W)\\\\\n",
       "\\\\\n",
       "&\\;\\;1.1.\\;\\text{Claim:}\\\\\n",
       "&\\;\\;\\exists U, U_1:\\, \\left\\{\\begin{array}{l}\n",
       "  J(X, Z; Y, W) \\ge I(U; X, Y)+I(U_1; Z, W),\\\\\n",
       "  X \\leftrightarrow U \\leftrightarrow Y,\\\\\n",
       "  Z \\leftrightarrow U_1 \\leftrightarrow W\\\\\n",
       "\\end{array} \\right\\}\\\\\n",
       "\\\\\n",
       "&\\;\\;\\;\\;1.1.1.\\;\\text{Substitute: }\\left[ \\begin{array}{cc}\n",
       "U & U_2\\\\\n",
       "U_1 & U_2\\end{array}\\right]\\\\\n",
       "\\\\\n",
       "&\\;\\;\\;\\;1.1.2.\\;\\text{Steps: }\\\\\n",
       "&\\;\\;\\;\\;J(X, Z; Y, W)\\\\\n",
       "&\\;\\;\\;\\;\\ge I(U_2; W, X, Y, Z)\\;\\;\\;{\\color{blue}{\\left(\\because\\,\\text{at optimum}\\text{:}\\, J(X, Z; Y, W) \\ge I(U_2; X, Z, Y, W)\\right)}}\\\\\n",
       "&\\;\\;\\;\\;\\ge I(U_2; W, Z)+I(U_2; X, Y)\\;\\;\\;{\\color{blue}{\\left(\\because\\, I(X, Y; Z, W; U_2) \\le 0\\right)}}\\\\\n",
       "\\end{align*}\n",
       "$"
      ],
      "text/plain": [
       "<psitip.ProofObj at 0x28b31706820>"
      ]
     },
     "execution_count": 17,
     "metadata": {},
     "output_type": "execute_result"
    }
   ],
   "source": [
    "(r >> (wyner_ci(X & Y) + wyner_ci(Z & W) <= wyner_ci(X+Z & Y+W))).proof()"
   ]
  },
  {
   "cell_type": "code",
   "execution_count": 18,
   "metadata": {},
   "outputs": [
    {
     "data": {
      "text/latex": [
       "$\\begin{align*}\n",
       "&1.\\;\\text{Claim:}\\\\\n",
       "& G(X, Z; Y, W) \\le G(X; Y)+G(Z; W)\\\\\n",
       "\\\\\n",
       "&\\;\\;1.1.\\;\\text{Claim:}\\\\\n",
       "&\\;\\;\\exists U:\\, \\left\\{\\begin{array}{l}\n",
       "  G(X; Y)+G(Z; W) \\ge H(U),\\\\\n",
       "  (X, Z) \\leftrightarrow U \\leftrightarrow (Y, W)\\\\\n",
       "\\end{array} \\right\\}\\\\\n",
       "\\\\\n",
       "&\\;\\;\\;\\;1.1.1.\\;\\text{Substitute: }\\left[ \\begin{array}{cc}\n",
       "U & (U_1, U_2)\\end{array}\\right]\\\\\n",
       "\\\\\n",
       "&\\;\\;\\;\\;1.1.2.\\;\\text{Steps: }\\\\\n",
       "&\\;\\;\\;\\;G(X; Y)+G(Z; W)\\\\\n",
       "&\\;\\;\\;\\;\\ge H(U_1)+G(Z; W)\\;\\;\\;{\\color{blue}{\\left(\\because\\,\\text{at optimum}\\text{:}\\, G(X; Y) \\ge H(U_1)\\right)}}\\\\\n",
       "&\\;\\;\\;\\;\\ge H(U_1)+H(U_2)\\;\\;\\;{\\color{blue}{\\left(\\because\\,\\text{at optimum}\\text{:}\\, G(Z; W) \\ge H(U_2)\\right)}}\\\\\n",
       "&\\;\\;\\;\\;\\ge H(U_1, U_2)\\\\\n",
       "\\end{align*}\n",
       "$"
      ],
      "text/plain": [
       "<psitip.ProofObj at 0x28b318829a0>"
      ]
     },
     "execution_count": 18,
     "metadata": {},
     "output_type": "execute_result"
    }
   ],
   "source": [
    "# Common entropy is only subadditive\n",
    "(r >> (exact_ci(X & Y) + exact_ci(Z & W) >= exact_ci(X+Z & Y+W))).proof()"
   ]
  },
  {
   "cell_type": "code",
   "execution_count": 19,
   "metadata": {},
   "outputs": [
    {
     "data": {
      "text/latex": [
       "$\\displaystyle \\begin{array}{l}\n",
       "\\displaystyle (X, Y) {\\perp\\!\\!\\perp} (Z, W)\\\\\n",
       "\\displaystyle \\Rightarrow \\; G(X; Y)+G(Z; W) \\le G(X, Z; Y, W)\\\\\n",
       "\\end{array} \\;\\mathrm{is}\\;\\mathrm{False}$"
      ],
      "text/plain": [
       "<IPython.core.display.Math object>"
      ]
     },
     "metadata": {},
     "output_type": "display_data"
    }
   ],
   "source": [
    "(r >> (exact_ci(X & Y) + exact_ci(Z & W) <= exact_ci(X+Z & Y+W))).display_bool()"
   ]
  },
  {
   "cell_type": "markdown",
   "metadata": {},
   "source": [
    "------\n",
    "\n",
    "### Condition for Zero"
   ]
  },
  {
   "cell_type": "code",
   "execution_count": 20,
   "metadata": {},
   "outputs": [
    {
     "data": {
      "text/latex": [
       "$\\displaystyle \\left\\{\\begin{array}{l}\n",
       "\\left\\{\\begin{array}{l}\n",
       "\\displaystyle X {\\perp\\!\\!\\perp} Y\\\\\n",
       "\\displaystyle \\Rightarrow \\; K(X; Y) = 0\\\\\n",
       "\\end{array}\\right\\}\\\\\n",
       " \\wedge\\\\\n",
       "\\left\\{\\begin{array}{l}\n",
       "\\displaystyle K(X; Y) = 0\\\\\n",
       "\\displaystyle \\Rightarrow \\; X {\\perp\\!\\!\\perp} Y\\\\\n",
       "\\end{array}\\right\\}\\\\\n",
       "\\end{array}\\right\\} \\;\\mathrm{is}\\;\\mathrm{False}$"
      ],
      "text/plain": [
       "<IPython.core.display.Math object>"
      ]
     },
     "metadata": {},
     "output_type": "display_data"
    }
   ],
   "source": [
    "# Gács-Körner = 0 iff X indep. of Y is False\n",
    "((gacs_korner(X & Y) == 0) == indep(X, Y)).display_bool()"
   ]
  },
  {
   "cell_type": "code",
   "execution_count": 21,
   "metadata": {},
   "outputs": [
    {
     "data": {
      "text/latex": [
       "$\\displaystyle \\left\\{\\begin{array}{l}\n",
       "\\left\\{\\begin{array}{l}\n",
       "\\displaystyle X {\\perp\\!\\!\\perp} Y\\\\\n",
       "\\displaystyle \\Rightarrow \\; J(X; Y) = 0\\\\\n",
       "\\end{array}\\right\\}\\\\\n",
       " \\wedge\\\\\n",
       "\\left\\{\\begin{array}{l}\n",
       "\\displaystyle J(X; Y) = 0\\\\\n",
       "\\displaystyle \\Rightarrow \\; X {\\perp\\!\\!\\perp} Y\\\\\n",
       "\\end{array}\\right\\}\\\\\n",
       "\\end{array}\\right\\} \\;\\mathrm{is}\\;\\mathrm{True}$"
      ],
      "text/plain": [
       "<IPython.core.display.Math object>"
      ]
     },
     "metadata": {},
     "output_type": "display_data"
    }
   ],
   "source": [
    "# Wyner = 0 iff X indep. of Y\n",
    "((wyner_ci(X & Y) == 0) == indep(X, Y)).display_bool()"
   ]
  },
  {
   "cell_type": "code",
   "execution_count": 22,
   "metadata": {},
   "outputs": [
    {
     "data": {
      "text/latex": [
       "$\\displaystyle \\left\\{\\begin{array}{l}\n",
       "\\left\\{\\begin{array}{l}\n",
       "\\displaystyle X {\\perp\\!\\!\\perp} Y\\\\\n",
       "\\displaystyle \\Rightarrow \\; G(X; Y) = 0\\\\\n",
       "\\end{array}\\right\\}\\\\\n",
       " \\wedge\\\\\n",
       "\\left\\{\\begin{array}{l}\n",
       "\\displaystyle G(X; Y) = 0\\\\\n",
       "\\displaystyle \\Rightarrow \\; X {\\perp\\!\\!\\perp} Y\\\\\n",
       "\\end{array}\\right\\}\\\\\n",
       "\\end{array}\\right\\} \\;\\mathrm{is}\\;\\mathrm{True}$"
      ],
      "text/plain": [
       "<IPython.core.display.Math object>"
      ]
     },
     "metadata": {},
     "output_type": "display_data"
    }
   ],
   "source": [
    "# Common entropy = 0 iff X indep. of Y\n",
    "((exact_ci(X & Y) == 0) == indep(X, Y)).display_bool()"
   ]
  },
  {
   "cell_type": "markdown",
   "metadata": {},
   "source": [
    "------\n",
    "\n",
    "### Perfectly Resolvable Case"
   ]
  },
  {
   "cell_type": "code",
   "execution_count": 23,
   "metadata": {},
   "outputs": [],
   "source": [
    "# X, Y are perfectly resolvable with common part W [Prabhakaran-Prabhakaran 2014]\n",
    "r = (H(W | X) == 0) & (H(W | Y) == 0) & markov(X, W, Y)"
   ]
  },
  {
   "cell_type": "code",
   "execution_count": 24,
   "metadata": {},
   "outputs": [
    {
     "data": {
      "text/latex": [
       "$\\displaystyle \\begin{array}{l}\n",
       "\\displaystyle \\left\\{\\begin{array}{l}\n",
       "  H(W|X) = 0,\\\\\n",
       "  H(W|Y) = 0,\\\\\n",
       "  X \\leftrightarrow W \\leftrightarrow Y\\\\\n",
       "\\end{array} \\right\\}\\\\\n",
       "\\displaystyle \\Rightarrow \\; K(X; Y) = H(W)\\\\\n",
       "\\end{array} \\;\\mathrm{is}\\;\\mathrm{True}$"
      ],
      "text/plain": [
       "<IPython.core.display.Math object>"
      ]
     },
     "metadata": {},
     "output_type": "display_data"
    }
   ],
   "source": [
    "# If perfectly resolvable, then Gács-Körner = H(W)\n",
    "(r >> (gacs_korner(X & Y) == H(W))).display_bool()"
   ]
  },
  {
   "cell_type": "code",
   "execution_count": 25,
   "metadata": {},
   "outputs": [
    {
     "data": {
      "text/latex": [
       "$\\displaystyle \\begin{array}{l}\n",
       "\\displaystyle \\left\\{\\begin{array}{l}\n",
       "  H(W|X) = 0,\\\\\n",
       "  H(W|Y) = 0,\\\\\n",
       "  X \\leftrightarrow W \\leftrightarrow Y\\\\\n",
       "\\end{array} \\right\\}\\\\\n",
       "\\displaystyle \\Rightarrow \\; J(X; Y) = H(W)\\\\\n",
       "\\end{array} \\;\\mathrm{is}\\;\\mathrm{True}$"
      ],
      "text/plain": [
       "<IPython.core.display.Math object>"
      ]
     },
     "metadata": {},
     "output_type": "display_data"
    }
   ],
   "source": [
    "# If perfectly resolvable, then Wyner = H(W)\n",
    "(r >> (wyner_ci(X & Y) == H(W))).display_bool()"
   ]
  },
  {
   "cell_type": "code",
   "execution_count": 26,
   "metadata": {},
   "outputs": [
    {
     "data": {
      "text/latex": [
       "$\\displaystyle \\begin{array}{l}\n",
       "\\displaystyle \\left\\{\\begin{array}{l}\n",
       "  H(W|X) = 0,\\\\\n",
       "  H(W|Y) = 0,\\\\\n",
       "  X \\leftrightarrow W \\leftrightarrow Y\\\\\n",
       "\\end{array} \\right\\}\\\\\n",
       "\\displaystyle \\Rightarrow \\; G(X; Y) = H(W)\\\\\n",
       "\\end{array} \\;\\mathrm{is}\\;\\mathrm{True}$"
      ],
      "text/plain": [
       "<IPython.core.display.Math object>"
      ]
     },
     "metadata": {},
     "output_type": "display_data"
    }
   ],
   "source": [
    "# If perfectly resolvable, then Common entropy = H(W)\n",
    "(r >> (exact_ci(X & Y) == H(W))).display_bool()"
   ]
  },
  {
   "cell_type": "markdown",
   "metadata": {},
   "source": [
    "------\n",
    "\n",
    "### Numerical Evaluation for Binary Symmetric Source"
   ]
  },
  {
   "cell_type": "code",
   "execution_count": 27,
   "metadata": {},
   "outputs": [
    {
     "data": {
      "image/png": "[encoded data removed]",
      "text/plain": [
       "<Figure size 432x288 with 1 Axes>"
      ]
     },
     "metadata": {
      "needs_background": "light"
     },
     "output_type": "display_data"
    }
   ],
   "source": [
    "# Switch to basin-hopping for nonconvex optimization\n",
    "PsiOpts.setting(opt_basinhopping = True)\n",
    "\n",
    "PsiOpts.setting(opt_aux_card = 2)    # Default cardinality for auxiliary\n",
    "PsiOpts.setting(opt_num_points = 24) # Number of initial points to try\n",
    "PsiOpts.setting(opt_num_hop = 4)     # Number of hops\n",
    "PsiOpts.setting(opt_num_iter = 8)    # Number of iterations per hop\n",
    "\n",
    "X, Y = rv(\"X, Y\").set_card(2)     # X,Y are binary RVs (cardinality = 2)\n",
    "P = ConcModel()                   # Underlying distribution of RVs\n",
    "P[X] = [0.5, 0.5]                 # X is a fair bit\n",
    "\n",
    "ts = numpy.linspace(0.0, 0.5, 24)\n",
    "ms, js, gs = [], [], []\n",
    "for t in ts:\n",
    "    P[Y | X] = [[1-t, t], [t, 1-t]]  # P(Y|X) is BSC(t)\n",
    "    ms.append(P[I(X & Y)])           # Evaluate mutual information\n",
    "    js.append(P[wyner_ci(X & Y)])    # Wyner's common information\n",
    "    gs.append(P[exact_ci(X & Y)])    # Common entropy\n",
    "\n",
    "# Plot the quantities against t\n",
    "plt.figure()\n",
    "plt.plot(ts, ms, 'k', label = str(I(X & Y)))\n",
    "plt.plot(ts, js, 'r', label = str(wyner_ci(X & Y)))\n",
    "plt.plot(ts, gs, 'b', label = str(exact_ci(X & Y)))\n",
    "plt.legend()\n",
    "plt.show()"
   ]
  },
  {
   "cell_type": "markdown",
   "metadata": {},
   "source": [
    "### References\n",
    "- P. Gács and J. Körner, \"Common information is far less than mutual information,\" Problems Control Inf. Theory, vol. 2, no. 2, pp. 149–162, 1973.\n",
    "- A. D. Wyner, \"The common information of two dependent random variables,\" IEEE Trans. Inf. Theory, vol. IT-21, no. 2, pp. 163-179, Mar. 1975.\n",
    "- G. R. Kumar, C. T. Li, and A. El Gamal, \"Exact common information,\" in Proc. IEEE Symp. Info. Theory. IEEE, 2014, pp. 161-165.\n",
    "- R. M. Gray and A. D. Wyner, \"Source coding for a simple network,\" Bell Syst. Tech. J., vol. 53, no. 9, pp. 1681–1721, 1974.\n",
    "- I. Csiszár and J. Körner, \"Information theory: coding theorems for discrete memoryless systems,\" Cambridge University Press, 2011.\n",
    "- C. T. Li and A. El Gamal, \"Extended Gray–Wyner system with complementary causal side information,\" IEEE Trans. Inf. Theory, vol. 64, no. 8, pp. 5862–5878, 2017\n",
    "- V. M. Prabhakaran and M. M. Prabhakaran, \"Assisted common information with an application to secure two-party sampling,\" IEEE Transactions on Information Theory, vol. 60, no. 6, pp. 3413-3434, 2014.\n"
   ]
  },
  {
   "cell_type": "code",
   "execution_count": null,
   "metadata": {},
   "outputs": [],
   "source": []
  }
 ],
 "metadata": {
  "kernelspec": {
   "display_name": "Python 3",
   "language": "python",
   "name": "python3"
  },
  "language_info": {
   "codemirror_mode": {
    "name": "ipython",
    "version": 3
   },
   "file_extension": ".py",
   "mimetype": "text/x-python",
   "name": "python",
   "nbconvert_exporter": "python",
   "pygments_lexer": "ipython3",
   "version": "3.8.3"
  }
 },
 "nbformat": 4,
 "nbformat_minor": 4
}

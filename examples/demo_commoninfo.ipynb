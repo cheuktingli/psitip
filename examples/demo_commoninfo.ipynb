{
 "cells": [
  {
   "cell_type": "markdown",
   "metadata": {},
   "source": [
    "## Common Information Demo\n",
    "\n",
    "Author: Cheuk Ting Li  "
   ]
  },
  {
   "cell_type": "code",
   "execution_count": 1,
   "metadata": {},
   "outputs": [],
   "source": [
    "import numpy\n",
    "import matplotlib.pyplot as plt\n",
    "from psitip import *\n",
    "PsiOpts.setting(solver = \"pyomo.glpk\")  # Set linear programming solver\n",
    "PsiOpts.setting(repr_latex = True)      # Turn on Jupyter Notebook LaTeX display\n",
    "PsiOpts.setting(venn_latex = True)      # Turn on LaTeX in diagrams\n",
    "PsiOpts.setting(istorch = True)         # Enable pytorch\n",
    "\n",
    "X, Y, Z, W, U, M, S = rv(\"X, Y, Z, W, U, M, S\") # Declare random variables"
   ]
  },
  {
   "cell_type": "code",
   "execution_count": 2,
   "metadata": {},
   "outputs": [
    {
     "data": {
      "text/latex": [
       "$ K(X; Y) = \\sup_{U:\\,  H(U|X) = 0,\\;  H(U|Y) = 0}H(U)$"
      ],
      "text/plain": [
       "gacs_korner(X&Y) == (( ( H(U|X) == 0 )\n",
       " &( H(U|Y) == 0 ) ).exists(U)).maximum(H(U)) "
      ]
     },
     "execution_count": 2,
     "metadata": {},
     "output_type": "execute_result"
    }
   ],
   "source": [
    "# Gács-Körner common information [Gács-Körner 1973]\n",
    "gacs_korner(X & Y) == gacs_korner(X & Y).definition()"
   ]
  },
  {
   "cell_type": "code",
   "execution_count": 3,
   "metadata": {},
   "outputs": [
    {
     "data": {
      "text/latex": [
       "$ J(X; Y) = \\inf_{U:\\,  X \\leftrightarrow U \\leftrightarrow Y}I(U; X, Y)$"
      ],
      "text/plain": [
       "wyner_ci(X&Y) == (( ( markov(X, U, Y) ) ).exists(U)).minimum(I(U&X+Y)) "
      ]
     },
     "execution_count": 3,
     "metadata": {},
     "output_type": "execute_result"
    }
   ],
   "source": [
    "# Wyner's common information [Wyner 1975]\n",
    "wyner_ci(X & Y) == wyner_ci(X & Y).definition()"
   ]
  },
  {
   "cell_type": "code",
   "execution_count": 4,
   "metadata": {},
   "outputs": [
    {
     "data": {
      "text/latex": [
       "$ G(X; Y) = \\inf_{U:\\,  X \\leftrightarrow U \\leftrightarrow Y}H(U)$"
      ],
      "text/plain": [
       "exact_ci(X&Y) == (( ( markov(X, U, Y) ) ).exists(U)).minimum(H(U)) "
      ]
     },
     "execution_count": 4,
     "metadata": {},
     "output_type": "execute_result"
    }
   ],
   "source": [
    "# Common entropy [Kumar-Li-El Gamal 2014]\n",
    "exact_ci(X & Y) == exact_ci(X & Y).definition()"
   ]
  },
  {
   "cell_type": "code",
   "execution_count": 5,
   "metadata": {},
   "outputs": [
    {
     "data": {
      "text/latex": [
       "$\\left\\{\\begin{array}{l}\n",
       "  K(X; Y) \\ge 0,\\\\\n",
       "  J(X; Y) \\le G(X; Y),\\\\\n",
       "  G(X; Y) \\le H(X),\\\\\n",
       "  G(X; Y) \\le H(Y),\\\\\n",
       "  K(X; Y) \\le I(X; Y),\\\\\n",
       "  I(X; Y) \\le J(X; Y)\\\\\n",
       "\\end{array} \\right\\}$"
      ],
      "text/plain": [
       "( ( gacs_korner(X&Y) >= 0 )\n",
       " &( wyner_ci(X&Y) <= exact_ci(X&Y) )\n",
       " &( exact_ci(X&Y) <= H(X) )\n",
       " &( exact_ci(X&Y) <= H(Y) )\n",
       " &( gacs_korner(X&Y) <= I(X&Y) )\n",
       " &( I(X&Y) <= wyner_ci(X&Y) ) )"
      ]
     },
     "execution_count": 5,
     "metadata": {},
     "output_type": "execute_result"
    }
   ],
   "source": [
    "# Automatically discover inequalities among quantities\n",
    "universe().discover([X, Y, \n",
    "                     gacs_korner(X & Y), \n",
    "                     wyner_ci(X & Y), \n",
    "                     exact_ci(X & Y)])"
   ]
  },
  {
   "cell_type": "markdown",
   "metadata": {},
   "source": [
    "------\n",
    "\n",
    "### Alternative Characterization of Gács-Körner Common Information"
   ]
  },
  {
   "cell_type": "code",
   "execution_count": 6,
   "metadata": {},
   "outputs": [
    {
     "data": {
      "text/latex": [
       "$ \\tilde{K}(X; Y) = \\sup_{U:\\,  U \\leftrightarrow Y \\leftrightarrow X,\\;  U \\leftrightarrow X \\leftrightarrow Y}I(U; X, Y)$"
      ],
      "text/plain": [
       "gacs_korner_mi(X&Y) == (( ( markov(U, Y, X) )\n",
       " &( markov(U, X, Y) ) ).exists(U)).maximum(I(U&X+Y)) "
      ]
     },
     "execution_count": 6,
     "metadata": {},
     "output_type": "execute_result"
    }
   ],
   "source": [
    "# Equivalent characterization using mutual information [Gray-Wyner 1974]\n",
    "gacs_korner_mi(X & Y) == gacs_korner_mi(X & Y).definition()"
   ]
  },
  {
   "cell_type": "code",
   "execution_count": 7,
   "metadata": {},
   "outputs": [
    {
     "data": {
      "text/latex": [
       "$\\displaystyle  \\tilde{K}(X; Y) \\le K(X; Y) \\;\\mathrm{is}\\;\\mathrm{True}$"
      ],
      "text/plain": [
       "<IPython.core.display.Math object>"
      ]
     },
     "metadata": {},
     "output_type": "display_data"
    },
    {
     "data": {
      "text/latex": [
       "$\\displaystyle  K(X; Y) \\le \\tilde{K}(X; Y) \\;\\mathrm{is}\\;\\mathrm{True}$"
      ],
      "text/plain": [
       "<IPython.core.display.Math object>"
      ]
     },
     "metadata": {},
     "output_type": "display_data"
    }
   ],
   "source": [
    "# To prove they are equivalent, we need the double Markov property [Csiszar-Korner 2011]\n",
    "with dblmarkov().assumed():\n",
    "    (gacs_korner_mi(X & Y) <= gacs_korner(X & Y)).display_bool()\n",
    "    (gacs_korner_mi(X & Y) >= gacs_korner(X & Y)).display_bool()"
   ]
  },
  {
   "cell_type": "markdown",
   "metadata": {},
   "source": [
    "------\n",
    "\n",
    "### Data Processing Inequality"
   ]
  },
  {
   "cell_type": "code",
   "execution_count": 8,
   "metadata": {},
   "outputs": [
    {
     "data": {
      "text/latex": [
       "$\\displaystyle \\begin{array}{l}\n",
       "\\displaystyle X \\leftrightarrow Y \\leftrightarrow Z\\\\\n",
       "\\displaystyle \\Rightarrow \\; K(X; Z) \\le K(X; Y)\\\\\n",
       "\\end{array} \\;\\mathrm{is}\\;\\mathrm{True}$"
      ],
      "text/plain": [
       "<IPython.core.display.Math object>"
      ]
     },
     "metadata": {},
     "output_type": "display_data"
    }
   ],
   "source": [
    "r = markov(X, Y, Z)  # X -> Y -> Z forms a Markov chain\n",
    "(r >> (gacs_korner(X & Y) >= gacs_korner(X & Z))).display_bool()"
   ]
  },
  {
   "cell_type": "code",
   "execution_count": 9,
   "metadata": {},
   "outputs": [
    {
     "data": {
      "text/latex": [
       "$\\displaystyle \\begin{array}{l}\n",
       "\\displaystyle X \\leftrightarrow Y \\leftrightarrow Z\\\\\n",
       "\\displaystyle \\Rightarrow \\; J(X; Z) \\le J(X; Y)\\\\\n",
       "\\end{array} \\;\\mathrm{is}\\;\\mathrm{True}$"
      ],
      "text/plain": [
       "<IPython.core.display.Math object>"
      ]
     },
     "metadata": {},
     "output_type": "display_data"
    }
   ],
   "source": [
    "(r >> (wyner_ci(X & Y) >= wyner_ci(X & Z))).display_bool()"
   ]
  },
  {
   "cell_type": "code",
   "execution_count": 10,
   "metadata": {},
   "outputs": [
    {
     "data": {
      "text/latex": [
       "$\\displaystyle \\begin{array}{l}\n",
       "\\displaystyle X \\leftrightarrow Y \\leftrightarrow Z\\\\\n",
       "\\displaystyle \\Rightarrow \\; G(X; Z) \\le G(X; Y)\\\\\n",
       "\\end{array} \\;\\mathrm{is}\\;\\mathrm{True}$"
      ],
      "text/plain": [
       "<IPython.core.display.Math object>"
      ]
     },
     "metadata": {},
     "output_type": "display_data"
    }
   ],
   "source": [
    "(r >> (exact_ci(X & Y) >= exact_ci(X & Z))).display_bool()"
   ]
  },
  {
   "cell_type": "markdown",
   "metadata": {},
   "source": [
    "------\n",
    "\n",
    "### Tensorization / Additivity"
   ]
  },
  {
   "cell_type": "code",
   "execution_count": 11,
   "metadata": {},
   "outputs": [
    {
     "data": {
      "text/latex": [
       "$\\displaystyle \\begin{array}{l}\n",
       "\\displaystyle (X, Y) {\\perp\\!\\!\\perp} (Z, W)\\\\\n",
       "\\displaystyle \\Rightarrow \\; \\tilde{K}(X, Z; Y, W) \\le \\tilde{K}(X; Y)+\\tilde{K}(Z; W)\\\\\n",
       "\\end{array} \\;\\mathrm{is}\\;\\mathrm{True}$"
      ],
      "text/plain": [
       "<IPython.core.display.Math object>"
      ]
     },
     "metadata": {},
     "output_type": "display_data"
    },
    {
     "data": {
      "text/latex": [
       "$\\displaystyle \\begin{array}{l}\n",
       "\\displaystyle (X, Y) {\\perp\\!\\!\\perp} (Z, W)\\\\\n",
       "\\displaystyle \\Rightarrow \\; \\tilde{K}(X; Y)+\\tilde{K}(Z; W) \\le \\tilde{K}(X, Z; Y, W)\\\\\n",
       "\\end{array} \\;\\mathrm{is}\\;\\mathrm{True}$"
      ],
      "text/plain": [
       "<IPython.core.display.Math object>"
      ]
     },
     "metadata": {},
     "output_type": "display_data"
    }
   ],
   "source": [
    "r = indep(X + Y, Z + W)  # (X,Y) is independent of (Z,W)\n",
    "\n",
    "# Gács-Körner common information is additive\n",
    "(r >> (gacs_korner_mi(X & Y) + gacs_korner_mi(Z & W) >= gacs_korner_mi(X+Z & Y+W))).display_bool()\n",
    "(r >> (gacs_korner_mi(X & Y) + gacs_korner_mi(Z & W) <= gacs_korner_mi(X+Z & Y+W))).display_bool()"
   ]
  },
  {
   "cell_type": "code",
   "execution_count": 12,
   "metadata": {},
   "outputs": [
    {
     "data": {
      "text/latex": [
       "$\\displaystyle \\begin{array}{l}\n",
       "\\displaystyle (X, Y) {\\perp\\!\\!\\perp} (Z, W)\\\\\n",
       "\\displaystyle \\Rightarrow \\; J(X, Z; Y, W) \\le J(X; Y)+J(Z; W)\\\\\n",
       "\\end{array} \\;\\mathrm{is}\\;\\mathrm{True}$"
      ],
      "text/plain": [
       "<IPython.core.display.Math object>"
      ]
     },
     "metadata": {},
     "output_type": "display_data"
    },
    {
     "data": {
      "text/latex": [
       "$\\displaystyle \\begin{array}{l}\n",
       "\\displaystyle (X, Y) {\\perp\\!\\!\\perp} (Z, W)\\\\\n",
       "\\displaystyle \\Rightarrow \\; J(X; Y)+J(Z; W) \\le J(X, Z; Y, W)\\\\\n",
       "\\end{array} \\;\\mathrm{is}\\;\\mathrm{True}$"
      ],
      "text/plain": [
       "<IPython.core.display.Math object>"
      ]
     },
     "metadata": {},
     "output_type": "display_data"
    }
   ],
   "source": [
    "# Wyner's common information is additive\n",
    "(r >> (wyner_ci(X & Y) + wyner_ci(Z & W) >= wyner_ci(X+Z & Y+W))).display_bool()\n",
    "(r >> (wyner_ci(X & Y) + wyner_ci(Z & W) <= wyner_ci(X+Z & Y+W))).display_bool()"
   ]
  },
  {
   "cell_type": "code",
   "execution_count": 13,
   "metadata": {},
   "outputs": [
    {
     "data": {
      "text/latex": [
       "$\\displaystyle \\begin{array}{l}\n",
       "\\displaystyle (X, Y) {\\perp\\!\\!\\perp} (Z, W)\\\\\n",
       "\\displaystyle \\Rightarrow \\; G(X, Z; Y, W) \\le G(X; Y)+G(Z; W)\\\\\n",
       "\\end{array} \\;\\mathrm{is}\\;\\mathrm{True}$"
      ],
      "text/plain": [
       "<IPython.core.display.Math object>"
      ]
     },
     "metadata": {},
     "output_type": "display_data"
    },
    {
     "data": {
      "text/latex": [
       "$\\displaystyle \\begin{array}{l}\n",
       "\\displaystyle (X, Y) {\\perp\\!\\!\\perp} (Z, W)\\\\\n",
       "\\displaystyle \\Rightarrow \\; G(X; Y)+G(Z; W) \\le G(X, Z; Y, W)\\\\\n",
       "\\end{array} \\;\\mathrm{is}\\;\\mathrm{False}$"
      ],
      "text/plain": [
       "<IPython.core.display.Math object>"
      ]
     },
     "metadata": {},
     "output_type": "display_data"
    }
   ],
   "source": [
    "# Common entropy is only subadditive\n",
    "(r >> (exact_ci(X & Y) + exact_ci(Z & W) >= exact_ci(X+Z & Y+W))).display_bool()\n",
    "(r >> (exact_ci(X & Y) + exact_ci(Z & W) <= exact_ci(X+Z & Y+W))).display_bool()"
   ]
  },
  {
   "cell_type": "markdown",
   "metadata": {},
   "source": [
    "------\n",
    "\n",
    "### Numerical Evaluation for Binary Symmetric Source"
   ]
  },
  {
   "cell_type": "code",
   "execution_count": 14,
   "metadata": {},
   "outputs": [
    {
     "data": {
      "image/png": "[encoded data removed]",
      "text/plain": [
       "<Figure size 432x288 with 1 Axes>"
      ]
     },
     "metadata": {
      "needs_background": "light"
     },
     "output_type": "display_data"
    }
   ],
   "source": [
    "# Switch to basin-hopping for nonconvex optimization\n",
    "PsiOpts.setting(opt_basinhopping = True)\n",
    "\n",
    "PsiOpts.setting(opt_aux_card = 2)    # Default cardinality for auxiliary\n",
    "PsiOpts.setting(opt_num_points = 24) # Number of initial points to try\n",
    "PsiOpts.setting(opt_num_hop = 4)     # Number of hops\n",
    "PsiOpts.setting(opt_num_iter = 8)    # Number of iterations per hop\n",
    "\n",
    "X, Y = rv(\"X, Y\").set_card(2)     # X,Y are binary RVs (cardinality = 2)\n",
    "P = ConcModel()                   # Underlying distribution of RVs\n",
    "P[X] = [0.5, 0.5]                 # X is a fair bit\n",
    "\n",
    "ts = numpy.linspace(0.0, 0.5, 24)\n",
    "ms, js, gs = [], [], []\n",
    "for t in ts:\n",
    "    P[Y | X] = [[1-t, t], [t, 1-t]]  # P(Y|X) is BSC(t)\n",
    "    ms.append(P[I(X & Y)])           # Evaluate mutual information\n",
    "    js.append(P[wyner_ci(X & Y)])    # Wyner's common information\n",
    "    gs.append(P[exact_ci(X & Y)])    # Common entropy\n",
    "\n",
    "# Plot the quantities against t\n",
    "plt.figure()\n",
    "plt.plot(ts, ms, 'k', label = str(I(X & Y)))\n",
    "plt.plot(ts, js, 'r', label = str(wyner_ci(X & Y)))\n",
    "plt.plot(ts, gs, 'b', label = str(exact_ci(X & Y)))\n",
    "plt.legend()\n",
    "plt.show()"
   ]
  },
  {
   "cell_type": "markdown",
   "metadata": {},
   "source": [
    "### References\n",
    "- P. Gács and J. Körner, \"Common information is far less than mutual information,\" Problems Control Inf. Theory, vol. 2, no. 2, pp. 149–162, 1973.\n",
    "- A. D. Wyner, \"The common information of two dependent random variables,\" IEEE Trans. Inf. Theory, vol. IT-21, no. 2, pp. 163-179, Mar. 1975.\n",
    "- G. R. Kumar, C. T. Li, and A. El Gamal, \"Exact common information,\" in Proc. IEEE Symp. Info. Theory. IEEE, 2014, pp. 161-165.\n",
    "- R. M. Gray and A. D. Wyner, \"Source coding for a simple network,\" Bell Syst. Tech. J., vol. 53, no. 9, pp. 1681–1721, 1974.\n",
    "- I. Csiszár and J. Körner, \"Information theory: coding theorems for discrete memoryless systems,\" Cambridge University Press, 2011.\n",
    "- C. T. Li and A. El Gamal, \"Extended Gray–Wyner system with complementary causal side information,\" IEEE Trans. Inf. Theory, vol. 64, no. 8, pp. 5862–5878, 2017\n"
   ]
  },
  {
   "cell_type": "code",
   "execution_count": null,
   "metadata": {},
   "outputs": [],
   "source": []
  }
 ],
 "metadata": {
  "kernelspec": {
   "display_name": "Python 3",
   "language": "python",
   "name": "python3"
  },
  "language_info": {
   "codemirror_mode": {
    "name": "ipython",
    "version": 3
   },
   "file_extension": ".py",
   "mimetype": "text/x-python",
   "name": "python",
   "nbconvert_exporter": "python",
   "pygments_lexer": "ipython3",
   "version": "3.8.3"
  }
 },
 "nbformat": 4,
 "nbformat_minor": 4
}

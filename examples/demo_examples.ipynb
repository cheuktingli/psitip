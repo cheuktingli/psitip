{
 "cells": [
  {
   "cell_type": "markdown",
   "metadata": {},
   "source": [
    "## Examples and Counterexamples Demo\n",
    "\n",
    "Author: Cheuk Ting Li  "
   ]
  },
  {
   "cell_type": "code",
   "execution_count": 1,
   "metadata": {},
   "outputs": [],
   "source": [
    "from psitip import *\n",
    "PsiOpts.setting(solver = \"pyomo.glpk\")     # Set linear programming solver\n",
    "PsiOpts.setting(repr_latex = True)         # Turn on Jupyter Notebook LaTeX display\n",
    "PsiOpts.setting(venn_latex = True)         # Turn on LaTeX in diagrams\n",
    "PsiOpts.setting(proof_note_color = \"blue\") # Reasons in proofs are blue\n",
    "PsiOpts.setting(solve_display_reg = True)  # Display claims in solve commands\n",
    "\n",
    "numpy.random.seed(2)  # Random search of examples uses numpy.random\n",
    "\n",
    "PsiOpts.setting(opt_basinhopping = True)  # Turn on basin hopping\n",
    "\n",
    "X, Y, Z, W, U, M, S = rv(\"X, Y, Z, W, U, M, S\") # Declare random variables\n",
    "R1, R2 = real_array(\"R\", 1, 3)"
   ]
  },
  {
   "cell_type": "code",
   "execution_count": 2,
   "metadata": {},
   "outputs": [
    {
     "data": {
      "text/latex": [
       "$\\begin{array}{l}\n",
       "\\begin{array}{l}\n",
       "\\displaystyle X {\\perp\\!\\!\\perp} (Y, Z)\\\\\n",
       "\\displaystyle \\Rightarrow \\; \\left\\{\\begin{array}{l}\n",
       "  X {\\perp\\!\\!\\perp} Y,\\\\\n",
       "  X {\\perp\\!\\!\\perp} Z\\\\\n",
       "\\end{array} \\right\\}\\\\\n",
       "\\end{array}\\;\\mathrm{is}\\;\\mathrm{True}\\\\\n",
       "\\end{array}$"
      ],
      "text/plain": [
       "((  indep(X, Y+Z)  )\n",
       ">> ( ( indep(X, Y) )\n",
       "    &( indep(X, Z) ) )) is True"
      ]
     },
     "execution_count": 2,
     "metadata": {},
     "output_type": "execute_result"
    }
   ],
   "source": [
    "# X indep. of (Y,Z) implies X indep. of Y and X indep. of Z\n",
    "(indep(X, Y+Z) >> (indep(X, Y) & indep(X, Z))).solve(full=True)"
   ]
  },
  {
   "cell_type": "code",
   "execution_count": 3,
   "metadata": {},
   "outputs": [
    {
     "data": {
      "text/latex": [
       "$\\begin{array}{l}\n",
       "\\begin{array}{l}\n",
       "\\displaystyle \\left\\{\\begin{array}{l}\n",
       "  X {\\perp\\!\\!\\perp} Y,\\\\\n",
       "  X {\\perp\\!\\!\\perp} Z\\\\\n",
       "\\end{array} \\right\\}\\\\\n",
       "\\displaystyle \\Rightarrow \\; X {\\perp\\!\\!\\perp} (Y, Z)\\\\\n",
       "\\end{array}\\;\\mathrm{is}\\;\\mathrm{False}\\\\\n",
       "\\\\\n",
       "\\begin{array}{l}\n",
       "P(X) = \\left[ \\frac{1}{2} \\;\\; \\frac{1}{2}\\right]\\\\\n",
       "P(Z) = \\left[ \\frac{1}{2} \\;\\; \\frac{1}{2}\\right]\\\\\n",
       "P(Y|X, Z) = \\left[ \\begin{array}{cc}\n",
       "1 & 0\\\\\n",
       "0 & 1\\\\\n",
       "\\hline\n",
       "0 & 1\\\\\n",
       "1 & 0\\end{array}\\right]\\\\\n",
       "\\end{array}\\\\\n",
       "\\end{array}$"
      ],
      "text/plain": [
       "(( ( indep(X, Y) )\n",
       "  &( indep(X, Z) ) )\n",
       ">> (  indep(X, Y+Z)  )) is False\n",
       "\n",
       "P(X) = tensor([0.5000, 0.5000], dtype=torch.float64, grad_fn=<CopySlices>)\n",
       "P(Z) = tensor([0.5000, 0.5000], dtype=torch.float64, grad_fn=<CopySlices>)\n",
       "P(Y|X+Z) = tensor([[[1., 0.],\n",
       "         [0., 1.]],\n",
       "\n",
       "        [[0., 1.],\n",
       "         [1., 0.]]], dtype=torch.float64, grad_fn=<CopySlices>)\n"
      ]
     },
     "execution_count": 3,
     "metadata": {},
     "output_type": "execute_result"
    }
   ],
   "source": [
    "# The converse is not true\n",
    "((indep(X, Y) & indep(X, Z)) >> indep(X, Y+Z)).solve(full=True)"
   ]
  },
  {
   "cell_type": "code",
   "execution_count": 4,
   "metadata": {},
   "outputs": [
    {
     "data": {
      "text/latex": [
       "$\\begin{array}{l}\n",
       "\\begin{array}{l}\n",
       "\\displaystyle X \\leftrightarrow Z \\leftrightarrow (Y, W)\\\\\n",
       "\\displaystyle \\Rightarrow \\; (Y, W) \\leftrightarrow Z \\leftrightarrow X\\\\\n",
       "\\end{array}\\;\\mathrm{is}\\;\\mathrm{True}\\\\\n",
       "\\end{array}$"
      ],
      "text/plain": [
       "((  markov(X, Z, Y+W)  )\n",
       ">> (  markov(Y+W, Z, X)  )) is True"
      ]
     },
     "execution_count": 4,
     "metadata": {},
     "output_type": "execute_result"
    }
   ],
   "source": [
    "# The contraction axiom in the graphoid axioms [Pearl-Paz 1987]\n",
    "((markov(X, Z, Y) & markov(X, Z+Y, W)) >> markov(X, Z, Y+W)).solve(full=True)"
   ]
  },
  {
   "cell_type": "code",
   "execution_count": 5,
   "metadata": {},
   "outputs": [
    {
     "data": {
      "text/latex": [
       "$\\begin{array}{l}\n",
       "\\begin{array}{l}\n",
       "\\displaystyle \\left\\{\\begin{array}{l}\n",
       "  X \\leftrightarrow (Y, Z) \\leftrightarrow W,\\\\\n",
       "  X \\leftrightarrow (Z, W) \\leftrightarrow Y\\\\\n",
       "\\end{array} \\right\\}\\\\\n",
       "\\displaystyle \\Rightarrow \\; (Y, W) \\leftrightarrow Z \\leftrightarrow X\\\\\n",
       "\\end{array}\\;\\mathrm{is}\\;\\mathrm{False}\\\\\n",
       "\\\\\n",
       "\\begin{array}{l}\n",
       "P(X, Y, Z) = \\left[ \\begin{array}{cc}\n",
       "0 & 0\\\\\n",
       "\\frac{1}{2} & 0\\\\\n",
       "\\hline\n",
       "\\frac{1}{2} & 0\\\\\n",
       "0 & 0\\end{array}\\right]\\\\\n",
       "P(W|Y, Z) = \\left[ \\begin{array}{cc}\n",
       "1 & 0\\\\\n",
       "1 & 0\\\\\n",
       "\\hline\n",
       "0 & 1\\\\\n",
       "\\frac{5}{11} & \\frac{6}{11}\\end{array}\\right]\\\\\n",
       "\\end{array}\\\\\n",
       "\\end{array}$"
      ],
      "text/plain": [
       "(( ( markov(X, Y+Z, W) )\n",
       "  &( markov(X, Z+W, Y) ) )\n",
       ">> (  markov(Y+W, Z, X)  )) is False\n",
       "\n",
       "P(X+Y+Z) = tensor([[[0.0000, 0.0000],\n",
       "         [0.5000, 0.0000]],\n",
       "\n",
       "        [[0.5000, 0.0000],\n",
       "         [0.0000, 0.0000]]], dtype=torch.float64, grad_fn=<CopySlices>)\n",
       "P(W|Y+Z) = tensor([[[1.0000, 0.0000],\n",
       "         [1.0000, 0.0000]],\n",
       "\n",
       "        [[0.0000, 1.0000],\n",
       "         [0.4545, 0.5455]]], dtype=torch.float64, grad_fn=<CopySlices>)\n"
      ]
     },
     "execution_count": 5,
     "metadata": {},
     "output_type": "execute_result"
    }
   ],
   "source": [
    "# The intersection axiom in the graphoid axioms does not always hold for RVs\n",
    "((markov(X, Z+W, Y) & markov(X, Z+Y, W)) >> markov(X, Z, Y+W)).solve(full = True)"
   ]
  },
  {
   "cell_type": "markdown",
   "metadata": {},
   "source": [
    "### References\n",
    "- J. Pearl and A. Paz, \"Graphoids: a graph-based logic for reasoning about relevance relations,\" Advances in Artificial Intelligence, pp. 357-363, 1987.\n"
   ]
  },
  {
   "cell_type": "code",
   "execution_count": null,
   "metadata": {},
   "outputs": [],
   "source": []
  }
 ],
 "metadata": {
  "kernelspec": {
   "display_name": "Python 3",
   "language": "python",
   "name": "python3"
  },
  "language_info": {
   "codemirror_mode": {
    "name": "ipython",
    "version": 3
   },
   "file_extension": ".py",
   "mimetype": "text/x-python",
   "name": "python",
   "nbconvert_exporter": "python",
   "pygments_lexer": "ipython3",
   "version": "3.8.3"
  }
 },
 "nbformat": 4,
 "nbformat_minor": 4
}

{
 "cells": [
  {
   "cell_type": "markdown",
   "metadata": {},
   "source": [
    "## LaTeX Demo\n",
    "\n",
    "Author: Cheuk Ting Li  "
   ]
  },
  {
   "cell_type": "code",
   "execution_count": 1,
   "metadata": {},
   "outputs": [],
   "source": [
    "from IPython.display import Math\n",
    "from psitip import *\n",
    "PsiOpts.setting(\n",
    "    solver = \"ortools.GLOP\",    # Set linear programming solver\n",
    "    repr_latex = True,          # Jupyter Notebook LaTeX display\n",
    "    venn_latex = True,          # LaTeX in diagrams\n",
    "    proof_note_color = \"blue\",  # Reasons in proofs are blue\n",
    "    random_seed = 4321          # Random seed for example searching\n",
    ")"
   ]
  },
  {
   "cell_type": "code",
   "execution_count": 2,
   "metadata": {},
   "outputs": [
    {
     "data": {
      "text/latex": [
       "$\\displaystyle \n",
       "\\exists U:\\, \\left\\{\\begin{array}{l}\n",
       "  R_1 \\ge 0,\\\\\n",
       "  R_2 \\ge 0,\\\\\n",
       "  R_1 \\le I(X; Y_1|U),\\\\\n",
       "  R_2 \\le I(U; Y_2),\\\\\n",
       "  R_1+R_2 \\le I(U; Y_2)+I(X; Y_1|U),\\\\\n",
       "  U \\leftrightarrow X \\leftrightarrow Y_1 \\leftrightarrow Y_2\\\\\n",
       "\\end{array} \\right\\}\n",
       "$"
      ],
      "text/plain": [
       "<IPython.core.display.Math object>"
      ]
     },
     "execution_count": 2,
     "metadata": {},
     "output_type": "execute_result"
    }
   ],
   "source": [
    "# LaTeX code of superposition region [Bergmans 1973], [Gallager 1974]\n",
    "s = r\"\"\"\n",
    "\\exists U:\\, \\left\\{\\begin{array}{l}\n",
    "  R_1 \\ge 0,\\\\\n",
    "  R_2 \\ge 0,\\\\\n",
    "  R_1 \\le I(X; Y_1|U),\\\\\n",
    "  R_2 \\le I(U; Y_2),\\\\\n",
    "  R_1+R_2 \\le I(U; Y_2)+I(X; Y_1|U),\\\\\n",
    "  U \\leftrightarrow X \\leftrightarrow Y_1 \\leftrightarrow Y_2\\\\\n",
    "\\end{array} \\right\\}\n",
    "\"\"\"\n",
    "\n",
    "Math(s)"
   ]
  },
  {
   "cell_type": "code",
   "execution_count": 3,
   "metadata": {},
   "outputs": [
    {
     "data": {
      "text/latex": [
       "$\\exists U:\\, \\left\\{\\begin{array}{l}\n",
       "  R_1 \\ge 0,\\\\\n",
       "  R_2 \\ge 0,\\\\\n",
       "  R_1 \\le I(X; Y_1|U),\\\\\n",
       "  R_2 \\le I(U; Y_2),\\\\\n",
       "  R_1+R_2 \\le I(U; Y_2)+I(X; Y_1|U),\\\\\n",
       "  U \\leftrightarrow X \\leftrightarrow Y_1 \\leftrightarrow Y_2\\\\\n",
       "\\end{array} \\right\\}$"
      ],
      "text/plain": [
       "( ( R_1 >= 0 )\n",
       " &( R_2 >= 0 )\n",
       " &( R_1 <= I(X&Y_1|U) )\n",
       " &( R_2 <= I(U&Y_2) )\n",
       " &( R_1+R_2 <= I(U&Y_2)+I(X&Y_1|U) )\n",
       " &( markov(U, X, Y_1, Y_2) ) ).exists(U)"
      ]
     },
     "execution_count": 3,
     "metadata": {},
     "output_type": "execute_result"
    }
   ],
   "source": [
    "r = Region.parse(s)  # Parse LaTeX code into region\n",
    "r"
   ]
  },
  {
   "cell_type": "code",
   "execution_count": 4,
   "metadata": {},
   "outputs": [
    {
     "data": {
      "text/latex": [
       "$\\exists U:\\, \\left\\{\\begin{array}{l}\n",
       "  R_1 \\ge 0,\\\\\n",
       "  R_2 \\ge 0,\\\\\n",
       "  R_2 \\le I(U; Y_2),\\\\\n",
       "  R_1 \\le I(X; Y_1|U),\\\\\n",
       "  U \\leftrightarrow X \\leftrightarrow Y_1 \\leftrightarrow Y_2\\\\\n",
       "\\end{array} \\right\\}$"
      ],
      "text/plain": [
       "( ( R_1 >= 0 )\n",
       " &( R_2 >= 0 )\n",
       " &( R_2 <= I(U&Y_2) )\n",
       " &( R_1 <= I(X&Y_1|U) )\n",
       " &( markov(U, X, Y_1, Y_2) ) ).exists(U)"
      ]
     },
     "execution_count": 4,
     "metadata": {},
     "output_type": "execute_result"
    }
   ],
   "source": [
    "r.simplified()  # Simplifies r"
   ]
  },
  {
   "cell_type": "code",
   "execution_count": 5,
   "metadata": {},
   "outputs": [],
   "source": [
    "# Retrieve variables from the region\n",
    "# Names do not need to be exact matches\n",
    "X, Y1, Y2, R1, R2 = r.find(\"X, Y1, Y2, R1, R2\")"
   ]
  },
  {
   "cell_type": "code",
   "execution_count": 6,
   "metadata": {},
   "outputs": [
    {
     "data": {
      "text/latex": [
       "$\\left\\{\\begin{array}{l}\n",
       "  R_1 \\ge 0,\\\\\n",
       "  R_2 \\ge 0,\\\\\n",
       "  R_1+R_2 \\le I(X; Y_1)\\\\\n",
       "\\end{array} \\right\\}$"
      ],
      "text/plain": [
       "( ( R_1 >= 0 )\n",
       " &( R_2 >= 0 )\n",
       " &( R_1+R_2 <= I(X&Y_1) ) )"
      ]
     },
     "execution_count": 6,
     "metadata": {},
     "output_type": "execute_result"
    }
   ],
   "source": [
    "# Modify the region by assuming Y1 = Y2\n",
    "r2 = r.substituted(Y2, Y1)\n",
    "r2.simplify()\n",
    "r2"
   ]
  },
  {
   "cell_type": "code",
   "execution_count": 7,
   "metadata": {},
   "outputs": [
    {
     "name": "stdout",
     "output_type": "stream",
     "text": [
      "\\left\\{\\begin{array}{l}\n",
      "  R_1 \\ge 0,\\\\\n",
      "  R_2 \\ge 0,\\\\\n",
      "  R_1+R_2 \\le I(X; Y_1)\\\\\n",
      "\\end{array} \\right\\}\n"
     ]
    }
   ],
   "source": [
    "print(r2.latex())  # Get latex code"
   ]
  },
  {
   "cell_type": "markdown",
   "metadata": {},
   "source": [
    "### References\n",
    "- P. Bergmans, \"Random coding theorem for broadcast channels with degraded components,\" IEEE Transactions on Information Theory, vol. 19, no. 2, pp. 197–207, 1973.\n",
    "- R. G. Gallager, \"Capacity and coding for degraded broadcast channels,\" Problemy Peredachi Informatsii, vol. 10, no. 3, pp. 3–14, 1974."
   ]
  },
  {
   "cell_type": "code",
   "execution_count": null,
   "metadata": {},
   "outputs": [],
   "source": []
  }
 ],
 "metadata": {
  "kernelspec": {
   "display_name": "Python 3",
   "language": "python",
   "name": "python3"
  },
  "language_info": {
   "codemirror_mode": {
    "name": "ipython",
    "version": 3
   },
   "file_extension": ".py",
   "mimetype": "text/x-python",
   "name": "python",
   "nbconvert_exporter": "python",
   "pygments_lexer": "ipython3",
   "version": "3.8.3"
  }
 },
 "nbformat": 4,
 "nbformat_minor": 4
}

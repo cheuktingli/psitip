{
 "cells": [
  {
   "cell_type": "markdown",
   "metadata": {},
   "source": [
    "## Non-Shannon-type Inequalities Demo\n",
    "\n",
    "Author: Cheuk Ting Li  "
   ]
  },
  {
   "cell_type": "code",
   "execution_count": 1,
   "metadata": {},
   "outputs": [],
   "source": [
    "from psitip import *\n",
    "PsiOpts.setting(solver = \"pyomo.glpk\")     # Set linear programming solver\n",
    "PsiOpts.setting(repr_latex = True)         # Jupyter Notebook LaTeX display\n",
    "PsiOpts.setting(venn_latex = True)         # LaTeX in diagrams\n",
    "PsiOpts.setting(proof_note_color = \"blue\") # Reasons in proofs are blue\n",
    "\n",
    "X, Y, Z, W, U, M, S = rv(\"X, Y, Z, W, U, M, S\") # Declare random variables"
   ]
  },
  {
   "cell_type": "code",
   "execution_count": 2,
   "metadata": {},
   "outputs": [
    {
     "data": {
      "text/latex": [
       "$\\displaystyle  2I(Z; W) \\le I(X; Y)+I(X; Z, W)+3I(Z; W|X)+I(Z; W|Y) \\;\\mathrm{is}\\;\\mathrm{False}$"
      ],
      "text/plain": [
       "<IPython.core.display.Math object>"
      ]
     },
     "metadata": {},
     "output_type": "display_data"
    }
   ],
   "source": [
    "# Zhang-Yeung inequality [Zhang-Yeung 1998] cannot be proved by Shannon-type inequalities\n",
    "zy = 2*I(Z&W) <= I(X&Y) + I(X & Z+W) + 3*I(Z&W | X) + I(Z&W | Y)\n",
    "zy.display_bool()"
   ]
  },
  {
   "cell_type": "code",
   "execution_count": 3,
   "metadata": {},
   "outputs": [
    {
     "data": {
      "text/latex": [
       "$\\forall A_0, A_1, B_0:\\, \\exists C_0:\\, \\left\\{\\begin{array}{l}\n",
       "  H(B_0) = H(C_0),\\\\\n",
       "  H(A_0, B_0) = H(A_0, C_0),\\\\\n",
       "  H(A_1, B_0) = H(A_1, C_0),\\\\\n",
       "  H(A_0, A_1, B_0) = H(A_0, A_1, C_0),\\\\\n",
       "  B_0 \\leftrightarrow (A_0, A_1) \\leftrightarrow C_0\\\\\n",
       "\\end{array} \\right\\}$"
      ],
      "text/plain": [
       "(( ( H(B0) == H(C0) )\n",
       " &( H(A0+B0) == H(A0+C0) )\n",
       " &( H(A1+B0) == H(A1+C0) )\n",
       " &( H(A0+A1+B0) == H(A0+A1+C0) )\n",
       " &( markov(B0, A0+A1, C0) ) ).exists(C0)).forall(A0+A1+B0)"
      ]
     },
     "execution_count": 3,
     "metadata": {},
     "output_type": "execute_result"
    }
   ],
   "source": [
    "# The copy lemma [Zhang-Yeung 1998], [Dougherty-Freiling-Zeger 2011]\n",
    "copylem()"
   ]
  },
  {
   "cell_type": "code",
   "execution_count": 4,
   "metadata": {},
   "outputs": [
    {
     "data": {
      "text/latex": [
       "$\\displaystyle \\begin{align*}\n",
       "&1.\\;\\text{Claim:}\\\\\n",
       "&\\exists A_0, A_1, B_0:\\,  2I(Z; W; X) \\le I(X; Y)+I(X; Z, W)+I(Z; W|X)+I(Z; W|Y)\\\\\n",
       "\\\\\n",
       "&\\;\\;1.1.\\;\\text{Substitute }\\left\\{ \\begin{array}{ll}\n",
       "A_0 & := X\\\\\n",
       "A_1 & := Z\\\\\n",
       "B_0 & := W\\end{array}\\right.\\text{:}\\\\\n",
       "\\\\\n",
       "&\\;\\;1.2.\\;\\text{Steps: }\\\\\n",
       "&\\;\\;2I(Z; W; X)\\\\\n",
       "&\\;\\;\\le 2I(W; X; Z)+I(C_0; W|X)\\\\\n",
       "&\\;\\;\\le 2I(W; X; Z)+I(C_0; W|X)+I(C_0; W|Z)\\\\\n",
       "&\\;\\;= I(C_0; W|Z)+I(W; X; Z)+I(C_0, X; W; Z)\\;\\;\\;{\\color{blue}{\\left(\\because\\, C_0 \\leftrightarrow (X, Z) \\leftrightarrow W\\right)}}\\\\\n",
       "&\\;\\;\\le I(C_0; W)+I(X; Z|C_0)+I(W; X; Z)\\\\\n",
       "&\\;\\;= I(C_0; W)+H(C_0, Z)+I(C_0, X; Z)-I(W; Z|X)-H(W, Z)\\;\\;\\;{\\color{blue}{\\left(\\because\\,\\text{copy lemma}\\text{:}\\, H(C_0) = H(W)\\right)}}\\\\\n",
       "&\\;\\;= I(C_0; X)+H(W, X)-H(C_0|W)-I(W; X|Z)-H(X|C_0, Z)\\;\\;\\;{\\color{blue}{\\left(\\because\\,\\text{copy lemma}\\text{:}\\, 2H(X, W) = 2H(X, C_0)\\right)}}\\\\\n",
       "&\\;\\;= I(C_0; W)+I(W; Z|X)+H(C_0, Z)+H(C_0|X, Z)-H(W|Z)-I(C_0; Z|X)-H(W, Z|X)\\\\\n",
       "&\\;\\;\\;\\;\\;\\;\\;\\;\\;\\;{\\color{blue}{\\left(\\because\\,\\text{copy lemma}\\text{:}\\, 3H(X, Z, C_0) = 3H(X, Z, W)\\right)}}\\\\\n",
       "&\\;\\;= I(C_0; W)+I(W; Z|X)+I(W, Z; X)-I(C_0; X|Z)-I(C_0; Z|X)\\;\\;\\;{\\color{blue}{\\left(\\because\\,\\text{copy lemma}\\text{:}\\, 2H(Z, W) = 2H(Z, C_0)\\right)}}\\\\\n",
       "&\\;\\;\\le I(W; Z|X)+I(C_0; W, Y)+I(W, Z; X)-I(C_0; X|Z)-I(C_0; Z|X)\\\\\n",
       "&\\;\\;= I(W; Z|X)+I(C_0; W, Y)+I(W, Z; X)-I(C_0; Z|X)-I(C_0; X, Y|Z)\\\\\n",
       "&\\;\\;\\;\\;\\;\\;\\;\\;\\;\\;{\\color{blue}{\\left(\\because\\, C_0 \\leftrightarrow (Z, X) \\leftrightarrow Y\\right)}}\\\\\n",
       "&\\;\\;\\le I(W; Z|X)+I(C_0; W, Y)+I(W, Z; X)-I(C_0; Z|X)-I(C_0; X|Y, Z)\\\\\n",
       "&\\;\\;= I(W; Z|X)+I(C_0; W, Y)+I(W, Z; X)-I(C_0; Y, Z|X)-I(C_0; W, X|Y, Z)\\\\\n",
       "&\\;\\;\\;\\;\\;\\;\\;\\;\\;\\;{\\color{blue}{\\left(\\because\\, (Y, W) \\leftrightarrow (X, Z) \\leftrightarrow C_0\\right)}}\\\\\n",
       "&\\;\\;\\le I(W; Z|X)+I(C_0; W, Y)+I(W, Z; X)-I(C_0; W|Y, Z)-I(C_0; Y, Z|X)\\\\\n",
       "&\\;\\;\\le I(C_0; Y)+I(W; Z|X)+I(W; Z|Y)+I(W, Z; X)-I(C_0; Y, Z|X)\\\\\n",
       "&\\;\\;\\le I(X; Y)+I(W; Z|X)+I(W; Z|Y)+I(W, Z; X)-I(C_0; Z|X, Y)\\\\\n",
       "&\\;\\;\\le I(X; Y)+I(W; Z|X)+I(W; Z|Y)+I(W, Z; X)\\\\\n",
       "\\end{align*}\n",
       "$"
      ],
      "text/plain": [
       "<IPython.core.display.Math object>"
      ]
     },
     "metadata": {},
     "output_type": "display_data"
    }
   ],
   "source": [
    "# Using copy lemma\n",
    "with copylem().assumed():\n",
    "    \n",
    "    # Prove Zhang-Yeung inequality\n",
    "    zy.proof().display()"
   ]
  },
  {
   "cell_type": "code",
   "execution_count": 5,
   "metadata": {},
   "outputs": [
    {
     "data": {
      "text/latex": [
       "$\\left\\{\\begin{array}{l}\n",
       "  I(W; X; Y) \\le 2I(X; Y|Z)+I(W; Z)+I(X; Z|Y)+I(Y; Z|X),\\\\\n",
       "  I(W; X; Z) \\le 2I(X; Z|Y)+I(W; Y)+I(X; Y|Z)+I(Y; Z|X),\\\\\n",
       "  I(W; Y; Z) \\le 2I(Y; Z|X)+I(W; X)+I(X; Y|Z)+I(X; Z|Y)\\\\\n",
       "\\end{array} \\right\\}$"
      ],
      "text/plain": [
       "( ( I(W&X&Y) <= 2*I(X&Y|Z)+I(W&Z)+I(X&Z|Y)+I(Y&Z|X) )\n",
       " &( I(W&X&Z) <= 2*I(X&Z|Y)+I(W&Y)+I(X&Y|Z)+I(Y&Z|X) )\n",
       " &( I(W&Y&Z) <= 2*I(Y&Z|X)+I(W&X)+I(X&Y|Z)+I(X&Z|Y) ) )"
      ]
     },
     "execution_count": 5,
     "metadata": {},
     "output_type": "execute_result"
    }
   ],
   "source": [
    "# State the copy lemma\n",
    "r = eqdist([X, Y, U], [X, Y, Z]).exists(U)\n",
    "\n",
    "# Automatically discover non-Shannon-type inequalities using copy lemma\n",
    "# Uses the convex hull method [Lassez-Lassez 1992], also used in [Xu-Wang-Sun 2008]\n",
    "PsiOpts.setting(discover_max_facet = None) # Unlimited number of facets\n",
    "r.discover([X, Y, Z, W]).simplified()"
   ]
  },
  {
   "cell_type": "markdown",
   "metadata": {},
   "source": [
    "### References\n",
    "- Z. Zhang and R. W. Yeung, \"On characterization of entropy function via information inequalities,\" IEEE Trans. Inform. Theory, vol. 44, pp. 1440-1452, Jul 1998.\n",
    "- R. Dougherty, C. Freiling, and K. Zeger, \"Networks, matroids, and non-Shannon information inequalities,\" IEEE Transactions on Information Theory, vol. 53, no. 6, pp. 1949-1969, 2007.\n",
    "- R. Dougherty, C. Freiling, and K. Zeger, \"Non-Shannon information inequalities in four random variables,\" arXiv preprint arXiv:1104.3602, 2011.\n",
    "- R. Dougherty, C. Freiling, and K. Zeger, \"Six new non-Shannon information inequalities,\" in 2006 IEEE ISIT. IEEE, 2006, pp. 233-236\n",
    "- C. Lassez and J.-L. Lassez, \"Quantifier elimination for conjunctions of linear constraints via a convex hull algorithm,\" Symbolic and Numerical Computation for Artificial Intelligence, pp. 103-122, 1992.\n",
    "- W. Xu, J. Wang, and J. Sun, \"A projection method for derivation of non-Shannon-type information inequalities,\" in 2008 IEEE ISIT. IEEE, 2008, pp. 2116-2120."
   ]
  }
 ],
 "metadata": {
  "kernelspec": {
   "display_name": "Python 3",
   "language": "python",
   "name": "python3"
  },
  "language_info": {
   "codemirror_mode": {
    "name": "ipython",
    "version": 3
   },
   "file_extension": ".py",
   "mimetype": "text/x-python",
   "name": "python",
   "nbconvert_exporter": "python",
   "pygments_lexer": "ipython3",
   "version": "3.8.3"
  }
 },
 "nbformat": 4,
 "nbformat_minor": 4
}

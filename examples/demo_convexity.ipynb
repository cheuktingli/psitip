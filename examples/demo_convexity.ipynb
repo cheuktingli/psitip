{
 "cells": [
  {
   "cell_type": "markdown",
   "metadata": {},
   "source": [
    "## Convexity Demo\n",
    "\n",
    "Author: Cheuk Ting Li  "
   ]
  },
  {
   "cell_type": "code",
   "execution_count": 1,
   "metadata": {},
   "outputs": [],
   "source": [
    "from psitip import *\n",
    "PsiOpts.setting(solver = \"pyomo.glpk\")  # Set linear programming solver\n",
    "PsiOpts.setting(repr_latex = True)      # Turn on Jupyter Notebook LaTeX display\n",
    "PsiOpts.setting(venn_latex = True)      # Turn on LaTeX in diagrams\n",
    "\n",
    "X, Y, Z, W, U, M, S = rv(\"X, Y, Z, W, U, M, S\") # Declare random variables\n",
    "R1, R2 = real_array(\"R\", 1, 3)"
   ]
  },
  {
   "cell_type": "code",
   "execution_count": 2,
   "metadata": {},
   "outputs": [
    {
     "data": {
      "text/plain": [
       "True"
      ]
     },
     "execution_count": 2,
     "metadata": {},
     "output_type": "execute_result"
    }
   ],
   "source": [
    "H(X).isconcave(X)   # H(X) is concave in X"
   ]
  },
  {
   "cell_type": "code",
   "execution_count": 3,
   "metadata": {},
   "outputs": [
    {
     "data": {
      "text/plain": [
       "True"
      ]
     },
     "execution_count": 3,
     "metadata": {},
     "output_type": "execute_result"
    }
   ],
   "source": [
    "# The argument bnet = (X, Y) (the Bayesian network X -> Y) \n",
    "# means that the distribution is factorized as p(x)p(y|x)\n",
    "I(X & Y).isconcave(X, bnet = (X, Y)) # I(X;Y) concave in p(x)"
   ]
  },
  {
   "cell_type": "code",
   "execution_count": 4,
   "metadata": {},
   "outputs": [
    {
     "data": {
      "text/plain": [
       "True"
      ]
     },
     "execution_count": 4,
     "metadata": {},
     "output_type": "execute_result"
    }
   ],
   "source": [
    "I(X & Y).isconvex(Y, bnet = (X, Y)) # I(X;Y) convex in p(y|x)"
   ]
  },
  {
   "cell_type": "code",
   "execution_count": 5,
   "metadata": {},
   "outputs": [
    {
     "data": {
      "text/plain": [
       "True"
      ]
     },
     "execution_count": 5,
     "metadata": {},
     "output_type": "execute_result"
    }
   ],
   "source": [
    "I(X&Y|Z).isaffine(Z, bnet = (Z, X+Y)) # I(X;Y|Z) affine in p(z)"
   ]
  },
  {
   "cell_type": "markdown",
   "metadata": {},
   "source": [
    "------\n",
    "\n",
    "### Maximization / Minimization Quantities"
   ]
  },
  {
   "cell_type": "code",
   "execution_count": 6,
   "metadata": {},
   "outputs": [
    {
     "data": {
      "text/plain": [
       "True"
      ]
     },
     "execution_count": 6,
     "metadata": {},
     "output_type": "execute_result"
    }
   ],
   "source": [
    "# Define the information bottleneck [Tishby-Pereira-Bialek 1999]\n",
    "def info_bot(X, Y, t):\n",
    "    U = rv(\"U\")\n",
    "    return (markov(U, X, Y) & (I(X & U) <= t)).maximum(I(Y & U), U)\n",
    "\n",
    "X, Y = rv(\"X, Y\")\n",
    "t1, t2 = real_array(\"t\", 1, 3)\n",
    "\n",
    "# Check that info bottleneck is non-decreasing\n",
    "bool((t1 <= t2) >> (info_bot(X, Y, t1) <= info_bot(X, Y, t2)))"
   ]
  },
  {
   "cell_type": "code",
   "execution_count": 7,
   "metadata": {},
   "outputs": [
    {
     "data": {
      "text/plain": [
       "True"
      ]
     },
     "execution_count": 7,
     "metadata": {},
     "output_type": "execute_result"
    }
   ],
   "source": [
    "info_bot(X, Y, t1).isconcave()  # info bottleneck concave in t"
   ]
  },
  {
   "cell_type": "code",
   "execution_count": 8,
   "metadata": {},
   "outputs": [
    {
     "data": {
      "text/plain": [
       "False"
      ]
     },
     "execution_count": 8,
     "metadata": {},
     "output_type": "execute_result"
    }
   ],
   "source": [
    "info_bot(X, Y, t1).isconvex()  # info bottleneck not convex in t"
   ]
  },
  {
   "cell_type": "markdown",
   "metadata": {},
   "source": [
    "------\n",
    "\n",
    "### Upper Concave Envelope"
   ]
  },
  {
   "cell_type": "code",
   "execution_count": 9,
   "metadata": {},
   "outputs": [
    {
     "data": {
      "text/plain": [
       "False"
      ]
     },
     "execution_count": 9,
     "metadata": {},
     "output_type": "execute_result"
    }
   ],
   "source": [
    "(I(X & Y) - I(X & Z)).isconcave(X+Y, bnet = [X+Y, (X+Y, Z)]) # not concave"
   ]
  },
  {
   "cell_type": "code",
   "execution_count": 10,
   "metadata": {},
   "outputs": [
    {
     "data": {
      "text/latex": [
       "$\\sup_{Q:\\,  Z \\leftrightarrow (X, Y) \\leftrightarrow Q}\\left(I(X; Y|Q)-I(X; Z|Q)\\right)$"
      ],
      "text/plain": [
       "(( ( markov(Z, X+Y, Q) ) ).exists(Q)).maximum((I(X&Y|Q)-I(X&Z|Q)))"
      ]
     },
     "execution_count": 10,
     "metadata": {},
     "output_type": "execute_result"
    }
   ],
   "source": [
    "# Compute upper concave envelope with respect to p(x,y) [Nair 2013]\n",
    "env = (I(X & Y) - I(X & Z)).concave_envelope(X+Y, bnet = [X+Y, (X+Y, Z)])\n",
    "env"
   ]
  },
  {
   "cell_type": "code",
   "execution_count": 11,
   "metadata": {},
   "outputs": [
    {
     "data": {
      "text/plain": [
       "True"
      ]
     },
     "execution_count": 11,
     "metadata": {},
     "output_type": "execute_result"
    }
   ],
   "source": [
    "env.isconcave(X+Y, bnet = [X+Y, (X+Y, Z)]) # it is concave"
   ]
  },
  {
   "cell_type": "markdown",
   "metadata": {},
   "source": [
    "------\n",
    "\n",
    "### Convexity of Regions"
   ]
  },
  {
   "cell_type": "code",
   "execution_count": 12,
   "metadata": {},
   "outputs": [
    {
     "data": {
      "text/latex": [
       "$\\left\\{\\begin{array}{l}\n",
       "  R_1 \\ge 0,\\\\\n",
       "  R_2 \\ge 0,\\\\\n",
       "  R_1 \\le I(X; Z|Y),\\\\\n",
       "  R_2 \\le I(Y; Z|X),\\\\\n",
       "  R_1+R_2 \\le I(X, Y; Z),\\\\\n",
       "  X {\\perp\\!\\!\\perp} Y\\\\\n",
       "\\end{array} \\right\\}$"
      ],
      "text/plain": [
       "( ( R1 >= 0 )\n",
       " &( R2 >= 0 )\n",
       " &( R1 <= I(X&Z|Y) )\n",
       " &( R2 <= I(Y&Z|X) )\n",
       " &( R1+R2 <= I(X+Y&Z) )\n",
       " &( indep(X, Y) ) )"
      ]
     },
     "execution_count": 12,
     "metadata": {},
     "output_type": "execute_result"
    }
   ],
   "source": [
    "# Multiple access channel region without convexification\n",
    "r = (indep(X, Y) & (R1 >= 0) & (R2 >= 0) & (R1 <= I(X & Z | Y)) \n",
    "     & (R2 <= I(Y & Z | X)) & (R1+R2 <= I(X+Y & Z)))\n",
    "r"
   ]
  },
  {
   "cell_type": "code",
   "execution_count": 13,
   "metadata": {},
   "outputs": [
    {
     "data": {
      "text/plain": [
       "False"
      ]
     },
     "execution_count": 13,
     "metadata": {},
     "output_type": "execute_result"
    }
   ],
   "source": [
    "r.isconvex(X+Y, bnet = [(X, Z), (Y, Z)])  # not convex in p(x,y)"
   ]
  },
  {
   "cell_type": "code",
   "execution_count": 14,
   "metadata": {},
   "outputs": [
    {
     "data": {
      "text/latex": [
       "$\\exists Q:\\, \\left\\{\\begin{array}{l}\n",
       "  R_1 \\ge 0,\\\\\n",
       "  R_2 \\ge 0,\\\\\n",
       "  R_1 \\le I(X; Z|Y, Q),\\\\\n",
       "  R_2 \\le I(Y; Z|X, Q),\\\\\n",
       "  R_1+R_2 \\le I(X, Y; Z|Q),\\\\\n",
       "  X \\leftrightarrow Q \\leftrightarrow Y,\\\\\n",
       "  Q \\leftrightarrow (X, Y) \\leftrightarrow Z\\\\\n",
       "\\end{array} \\right\\}$"
      ],
      "text/plain": [
       "( ( R1 >= 0 )\n",
       " &( R2 >= 0 )\n",
       " &( R1 <= I(X&Z|Y+Q) )\n",
       " &( R2 <= I(Y&Z|X+Q) )\n",
       " &( R1+R2 <= I(X+Y&Z|Q) )\n",
       " &( markov(X, Q, Y) )\n",
       " &( markov(Q, X+Y, Z) ) ).exists(Q)"
      ]
     },
     "execution_count": 14,
     "metadata": {},
     "output_type": "execute_result"
    }
   ],
   "source": [
    "rc = r.convexified(X+Y, bnet = [(X, Z), (Y, Z)]) # convexify the region\n",
    "rc"
   ]
  },
  {
   "cell_type": "code",
   "execution_count": 15,
   "metadata": {},
   "outputs": [
    {
     "data": {
      "text/plain": [
       "True"
      ]
     },
     "execution_count": 15,
     "metadata": {},
     "output_type": "execute_result"
    }
   ],
   "source": [
    "rc.isconvex(X+Y, bnet = [(X, Z), (Y, Z)]) # new region convex in p(x,y)"
   ]
  },
  {
   "cell_type": "markdown",
   "metadata": {},
   "source": [
    "### References\n",
    "- N. Tishby, F. C. Pereira, and W. Bialek, \"The information bottleneck method,\" arXiv preprint physics/0004057\n",
    "- C. Nair, \"Upper concave envelopes and auxiliary random variables,\" International Journal of Advances in Engineering Sciences and Applied Mathematics, vol. 5, no. 1, pp. 12-20, 2013.\n",
    "-  R. Ahlswede, \"Multi-way communication channels,\" in 2nd Int. Symp. Inform. Theory, Tsahkadsor, Armenian SSR, 1971, pp. 23–52.\n",
    "- H. Liao, \"Multiple access channels,\" Ph.D. dissertation, University of Hawaii, Honolulu, HI, 1972.\n",
    "- R. Ahlswede, \"The capacity region of a channel with two senders and two receivers,\" The annals of probability, vol. 2, no. 5, pp. 805–814, 1974\n"
   ]
  },
  {
   "cell_type": "code",
   "execution_count": null,
   "metadata": {},
   "outputs": [],
   "source": []
  }
 ],
 "metadata": {
  "kernelspec": {
   "display_name": "Python 3",
   "language": "python",
   "name": "python3"
  },
  "language_info": {
   "codemirror_mode": {
    "name": "ipython",
    "version": 3
   },
   "file_extension": ".py",
   "mimetype": "text/x-python",
   "name": "python",
   "nbconvert_exporter": "python",
   "pygments_lexer": "ipython3",
   "version": "3.8.3"
  }
 },
 "nbformat": 4,
 "nbformat_minor": 4
}
